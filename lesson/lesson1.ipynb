{
 "cells": [
  {
   "cell_type": "markdown",
   "id": "86376104-0d50-4b5e-9e82-b4cdd647c253",
   "metadata": {},
   "source": [
    "# lesson1 Pythonに慣れよう part1\n",
    "\n",
    "\n",
    "## 1.0 イントロダクション\n",
    "\n",
    "Pythonは数あるプログラミング言語の中でも人気が高いものの一つです。<br>\n",
    "人気が高い理由としては、以下のような理由が挙げられます。\n",
    "\n",
    "- 習得が容易なこと\n",
    "- 有用なライブラリが豊富なこと\n",
    "- インタラクティブな言語であること\n",
    "\n",
    "上記2つはプログラムを書いたことがない人でも何となく理解できるかと思います。<br>\n",
    "最後のインタラクティブな言語であるということはどういうことでしょうか。\n",
    "\n",
    "C言語などはプログラムをテキストファイルに記述した後、コンパイルという作業が必要です。<br>\n",
    "コンパイルというのは人間が読めるテキストファイルをコンピュータが理解できる形式(機械語)に<br>\n",
    "翻訳する作業のことを指します。<br>\n",
    "Pythonはこのコンパイルという過程を経ることなく直接実行することができます。(インタープリター型) \n",
    "\n",
    "C言語：　[プログラムを書く]　⇒　[コンパイルする]　⇒　[実行する]\n",
    "\n",
    "Python：　[プログラムを書く]　⇒　[実行する]\n",
    "\n",
    "このコンパイルという過程を省くことでTry&Errorを積みやすく、より早く成果物を得ることができるということが<br>\n",
    "Pythonの強みです。"
   ]
  },
  {
   "cell_type": "markdown",
   "id": "c56786dc",
   "metadata": {},
   "source": [
    "## 1.1 Hello World!\n",
    "\n",
    "何事にも作法というものがあります。<br>\n",
    "プログラミングの場合は、実行環境が整っているか確認する際の作法として画面に<br>\n",
    "\"Hello World!\"という文字列を出力することが慣例化しています。\n",
    "\n",
    "Pythonの場合、画面に文字を出力するためにprint関数というものが用意されています。<br>\n",
    "まずは下記のプログラムを実行し、Hello World!を出力しましょう。\n",
    "\n",
    "プログラムを実行する場合はまず実行したいセルを選択し、「Shift+Enter」を押下します。"
   ]
  },
  {
   "cell_type": "code",
   "execution_count": 17,
   "id": "73cdb0da-e60a-4066-8df0-fb8f40ebdfc9",
   "metadata": {
    "tags": []
   },
   "outputs": [
    {
     "name": "stdout",
     "output_type": "stream",
     "text": [
      "Hello World!\n"
     ]
    }
   ],
   "source": [
    "print(\"Hello World!\")"
   ]
  },
  {
   "cell_type": "markdown",
   "id": "6622d3ea",
   "metadata": {},
   "source": [
    "上手く画面にHello World!が表示されたでしょうか？"
   ]
  },
  {
   "cell_type": "markdown",
   "id": "e7020839",
   "metadata": {},
   "source": [
    "## 1.2 変数と型\n",
    "\n",
    "プログラミング学習において変数と型という概念を避けて通れません。<br>\n",
    "とはいっても、Pythonはあまり型を意識することなく使用することができます。\n",
    "\n",
    "下記はCにおける変数の使用例です。\n",
    "\n",
    "``` c\n",
    "int a;\n",
    "float b;\n",
    "a = 10;\n",
    "b = 3.5;\n",
    "```\n",
    "\n",
    "前半の2行は「宣言」と呼ばれるもので、aやbをプログラム上でどのようなものとして扱うかを定義しています。<br>\n",
    "aやbの横に書いてある「int」や「float」は変数の「型」と呼ばれ、それぞれ整数と小数点以下を含む数であることを意味します。<br>\n",
    "後半の2行は「代入」と呼ばれるもので、aには10,bには3.5という値をそれぞれ代入しています。\n",
    "\n",
    "\n",
    "\n",
    "次にPythonにおける変数の使用方法です。\n",
    "\n",
    "``` python\n",
    "a = 10\n",
    "b = 3.5\n",
    "```\n",
    "\n",
    "C言語の場合と比較して最初の2行が消えています。<br>\n",
    "このようにみるとPythonの変数には型が存在しないように見えますが試しに以下のコードを実行してみてください。\n",
    "\n",
    "\n",
    "\n",
    "\n",
    "\n"
   ]
  },
  {
   "cell_type": "code",
   "execution_count": 55,
   "id": "cc32bc97",
   "metadata": {},
   "outputs": [
    {
     "name": "stdout",
     "output_type": "stream",
     "text": [
      "a: <class 'int'>\n",
      "b: <class 'float'>\n"
     ]
    }
   ],
   "source": [
    "a = 10\n",
    "b = 3.5\n",
    "\n",
    "print(\"a:\",type(a))\n",
    "print(\"b:\",type(b))\n"
   ]
  },
  {
   "cell_type": "markdown",
   "id": "2c0aa69a",
   "metadata": {},
   "source": [
    "aは<class 'int'>、bは<class 'float'>と表示されました。<br>\n",
    "type()とは、中に入れた変数の型を返却してくれる関数です。<br>\n",
    "つまり、Pythonには型が存在しないのではなく、「宣言」と「代入」が同時に実行されており<br>\n",
    "実行の際に代入される値から「型」を推測してくれているということです。\n",
    "\n",
    "Pythonが提供する型には上記の「int」や「float」などの数値を扱う型の他に文字列を扱う「str」や真理値を扱う「bool」などが存在します。<br>\n",
    "「型」を意識しないままプログラムを書いていくとエラーが発生したときの対処に苦慮することが多いので普段から意識されることを推奨します。\n",
    "\n",
    "変数につける名には以下のようなルールがあります。\n",
    "\n",
    "- 使用できる文字は英数字と_(アンダースコア)のみ\n",
    "- 英語の大文字小文字は区別される\n",
    "- 先頭に数字は使用できない\n",
    "\n",
    "また、Pythonは変数名としてすべて小文字で複数の単語をつなげて使用する場合、_(アンダースコア)でつなぐ記法(スネークケース)を推奨しています。\n",
    "\n",
    "\n",
    "例)\n",
    "``` python\n",
    "my_boss = \"miyoshi\"\n",
    "today_temperature = 16.2\n",
    "```"
   ]
  },
  {
   "cell_type": "markdown",
   "id": "9be62ebc",
   "metadata": {},
   "source": [
    "## 1.3 計算\n",
    "\n",
    "変数が使えるようになったので計算をしてみましょう。<br>\n",
    "Pythonには計算に使える演算子として以下のようなものが提供されます。\n",
    "\n",
    "\n",
    "| 演算子 | 操作 |\n",
    "|--|--|\n",
    "| +  | 加法 |\n",
    "| -  | 減法 |\n",
    "| *  | 乗法 |\n",
    "| /  | 除法(小数点以下含む) |\n",
    "| // | 除法(小数点以下切り捨て) |\n",
    "| %  | 剰余 |\n",
    "| ** | 累乗 |\n"
   ]
  },
  {
   "cell_type": "code",
   "execution_count": 30,
   "id": "8cf06ef1",
   "metadata": {},
   "outputs": [
    {
     "name": "stdout",
     "output_type": "stream",
     "text": [
      "a +  b = 13\n",
      "a -  b = 7\n",
      "a *  b = 30\n",
      "a /  b = 3.3333333333333335\n",
      "a // b = 3\n",
      "a %  b = 1\n",
      "a ** b = 1000\n"
     ]
    }
   ],
   "source": [
    "a = 10\n",
    "b = 3\n",
    "\n",
    "print(\"a +  b =\", a+b)\n",
    "print(\"a -  b =\", a-b)\n",
    "print(\"a *  b =\", a*b)\n",
    "print(\"a /  b =\", a/b)\n",
    "print(\"a // b =\", a//b)\n",
    "print(\"a %  b =\", a%b)\n",
    "print(\"a ** b =\", a**b)"
   ]
  },
  {
   "cell_type": "markdown",
   "id": "fb3e677d",
   "metadata": {},
   "source": [
    "計算の結果を他の変数に代入することができます。"
   ]
  },
  {
   "cell_type": "code",
   "execution_count": 36,
   "id": "0ca6662b",
   "metadata": {},
   "outputs": [
    {
     "name": "stdout",
     "output_type": "stream",
     "text": [
      "c: 2\n",
      "d: 2\n"
     ]
    }
   ],
   "source": [
    "c = 1\n",
    "d = c + 1\n",
    "c = d\n",
    "\n",
    "print(\"c:\", c)\n",
    "print(\"d:\", d)"
   ]
  },
  {
   "cell_type": "markdown",
   "id": "f4ee553c",
   "metadata": {},
   "source": [
    "自分自身の値を使って新たな値を代入しなおすこともできます。"
   ]
  },
  {
   "cell_type": "code",
   "execution_count": 39,
   "id": "5054cac1",
   "metadata": {},
   "outputs": [
    {
     "name": "stdout",
     "output_type": "stream",
     "text": [
      "e: 1\n",
      "e: 2\n"
     ]
    }
   ],
   "source": [
    "e = 1\n",
    "print(\"e:\", e)\n",
    "e = e + 1\n",
    "print(\"e:\", e)"
   ]
  },
  {
   "cell_type": "markdown",
   "id": "d4b9272a",
   "metadata": {},
   "source": [
    "自分の値を使って代入しなおす操作は以下のように書くこともできます。"
   ]
  },
  {
   "cell_type": "code",
   "execution_count": 42,
   "id": "8ac651be",
   "metadata": {},
   "outputs": [
    {
     "name": "stdout",
     "output_type": "stream",
     "text": [
      "f: 1\n",
      "f: 2\n",
      "g: 1\n",
      "g: 2\n"
     ]
    }
   ],
   "source": [
    "f = 1\n",
    "print(\"f:\", f)\n",
    "f += 1\n",
    "print(\"f:\", f)\n",
    "\n",
    "g = 1\n",
    "print(\"g:\", g)\n",
    "g *= 2\n",
    "print(\"g:\", g)"
   ]
  },
  {
   "cell_type": "markdown",
   "id": "6227e8bb",
   "metadata": {},
   "source": [
    "## 1.4 コメントアウト\n",
    "\n",
    "プログラム中には他者に処理の説明を伝えるためにコメントを記載したい場合があります。<br>\n",
    "ただ、そのままコメントを記載するとプログラムとして認識されてしまうため、<br>\n",
    "コメントアウトという操作を行います。"
   ]
  },
  {
   "cell_type": "code",
   "execution_count": 10,
   "id": "4a2467d1",
   "metadata": {},
   "outputs": [
    {
     "name": "stdout",
     "output_type": "stream",
     "text": [
      "Start\n",
      "End\n"
     ]
    }
   ],
   "source": [
    "# 先頭に「#」を付けるとその行はコメントになります。\n",
    "\n",
    "print(\"Start\") # 行の途中でコメント記載することもできます\n",
    "\n",
    "\"\"\"\n",
    "複数行で\n",
    "コメントを記載する場合\n",
    "このように書きます。\n",
    "\"\"\"\n",
    "\n",
    "print(\"End\")\n"
   ]
  },
  {
   "cell_type": "markdown",
   "id": "6387f7d1",
   "metadata": {},
   "source": [
    "## 1.5 文字列型\n",
    "\n",
    "Pythonでは文字列を取り扱うための型としてstr型と呼ばれるものが使用されます。<br>\n",
    "str型として扱う場合、文字列を\"(ダブルクォーテーション) か '(シングルクォーテーション)で囲む<br>\n",
    "必要があります。どちらで囲んでも動作に支障はありませんがどちらかの記法に統一しておいた方が望ましいです。"
   ]
  },
  {
   "cell_type": "code",
   "execution_count": 21,
   "id": "85d35b3f",
   "metadata": {},
   "outputs": [
    {
     "name": "stdout",
     "output_type": "stream",
     "text": [
      "Hello\n"
     ]
    }
   ],
   "source": [
    "hello = \"Hello\"\n",
    "print(hello)"
   ]
  },
  {
   "cell_type": "markdown",
   "id": "e749f2db",
   "metadata": {},
   "source": [
    "Pythonの場合、文字をつなげたり繰り返したりする操作が簡単にできます。"
   ]
  },
  {
   "cell_type": "code",
   "execution_count": 43,
   "id": "f5526d31",
   "metadata": {},
   "outputs": [
    {
     "name": "stdout",
     "output_type": "stream",
     "text": [
      "Hello + Goodbye: HelloGoodbye\n",
      "3 * Hello: HelloHelloHello\n",
      "goodbye += hello: GoodbyeHello\n"
     ]
    }
   ],
   "source": [
    "goodbye = \"Goodbye\"\n",
    "hello_goodbye = hello + goodbye\n",
    "print(\"Hello + Goodbye:\", hello_goodbye)\n",
    "\n",
    "triple_hello = 3 * hello\n",
    "print(\"3 * Hello:\", triple_hello)\n",
    "\n",
    "goodbye += hello\n",
    "print(\"goodbye += hello:\", goodbye)"
   ]
  },
  {
   "cell_type": "markdown",
   "id": "12d2c856",
   "metadata": {},
   "source": [
    "## 1.6 リスト\n",
    "\n",
    "複数の変数を一つにまとめて操作したい場合があります。<br>\n",
    "そのような場合は、リストというものを使います。<br>\n",
    "リストを表す場合は[]を使用し、格納する各要素を,で区切ります。"
   ]
  },
  {
   "cell_type": "code",
   "execution_count": 15,
   "id": "15429ae5",
   "metadata": {},
   "outputs": [
    {
     "name": "stdout",
     "output_type": "stream",
     "text": [
      "num_list: <class 'list'> [1, 2, 3]\n"
     ]
    }
   ],
   "source": [
    "num_list = [1,2,3]\n",
    "print(\"num_list:\",type(num_list),num_list)"
   ]
  },
  {
   "cell_type": "markdown",
   "id": "804536ee",
   "metadata": {},
   "source": [
    "リスト内の各要素を取り出す場合、リスト内の先頭から何番目にあるか指定することで取り出すことができます。<br>\n",
    "何番目かを表す数字のことを**インデックス**と呼びます。**インデックスは0から始まります。**"
   ]
  },
  {
   "cell_type": "code",
   "execution_count": 17,
   "id": "dacffbc5",
   "metadata": {},
   "outputs": [
    {
     "name": "stdout",
     "output_type": "stream",
     "text": [
      "num1: 1\n",
      "num2: 2\n",
      "num3: 3\n"
     ]
    }
   ],
   "source": [
    "num_list = [1,2,3]\n",
    "\n",
    "num1 = num_list[0]\n",
    "num2 = num_list[1]\n",
    "num3 = num_list[2]\n",
    "\n",
    "print(\"num1:\", num1)\n",
    "print(\"num2:\", num2)\n",
    "print(\"num3:\", num3)"
   ]
  },
  {
   "cell_type": "markdown",
   "id": "b8d521a0",
   "metadata": {},
   "source": [
    "リストどうしを連結する場合、「+」で連結することが可能です。"
   ]
  },
  {
   "cell_type": "code",
   "execution_count": 36,
   "id": "3e4929fe",
   "metadata": {},
   "outputs": [
    {
     "name": "stdout",
     "output_type": "stream",
     "text": [
      "left_list: [1, 2, 3]\n",
      "right_list: [4, 5, 6, 7]\n",
      "concat_list: [1, 2, 3, 4, 5, 6, 7]\n"
     ]
    }
   ],
   "source": [
    "left_list = [1,2,3]\n",
    "right_list = [4,5,6,7]\n",
    "\n",
    "concat_list = left_list + right_list\n",
    "\n",
    "print(\"left_list:\", left_list)\n",
    "print(\"right_list:\", right_list)\n",
    "print(\"concat_list:\", concat_list)"
   ]
  },
  {
   "cell_type": "markdown",
   "id": "bdc9317e",
   "metadata": {},
   "source": [
    "リスト要素数を調べるためにlen関数というものが用意されています。"
   ]
  },
  {
   "cell_type": "code",
   "execution_count": 19,
   "id": "cec84131",
   "metadata": {},
   "outputs": [
    {
     "name": "stdout",
     "output_type": "stream",
     "text": [
      "num_list_length: 3\n"
     ]
    }
   ],
   "source": [
    "num_list_length = len(num_list)\n",
    "print(\"num_list_length:\", num_list_length)"
   ]
  },
  {
   "cell_type": "markdown",
   "id": "72d27c51",
   "metadata": {},
   "source": [
    "リストの末尾に要素を追加したい場合、append関数が用意されています。"
   ]
  },
  {
   "cell_type": "code",
   "execution_count": 40,
   "id": "079d7853",
   "metadata": {},
   "outputs": [
    {
     "name": "stdout",
     "output_type": "stream",
     "text": [
      "add_list: [70, 80, 90]\n",
      "add_list: [70, 80, 90, 100]\n"
     ]
    }
   ],
   "source": [
    "add_element = 100\n",
    "add_list = [70,80,90]\n",
    "print(\"add_list:\", add_list)\n",
    "\n",
    "add_list.append(add_element)\n",
    "print(\"add_list:\", add_list)"
   ]
  },
  {
   "cell_type": "markdown",
   "id": "bcfccbac",
   "metadata": {},
   "source": [
    "リストにはいろいろな型の値が混在していても問題ありません。"
   ]
  },
  {
   "cell_type": "code",
   "execution_count": 18,
   "id": "cff650e0",
   "metadata": {},
   "outputs": [
    {
     "name": "stdout",
     "output_type": "stream",
     "text": [
      "obj1 <class 'int'> 1\n",
      "obj2 <class 'float'> 2.5\n",
      "obj3 <class 'str'> abc\n"
     ]
    }
   ],
   "source": [
    "obj_list = [1,2.5,\"abc\"]\n",
    "\n",
    "obj1 = obj_list[0]\n",
    "obj2 = obj_list[1]\n",
    "obj3 = obj_list[2]\n",
    "\n",
    "print(\"obj1\", type(obj1), obj1)\n",
    "print(\"obj2\", type(obj2), obj2)\n",
    "print(\"obj3\", type(obj3), obj3)"
   ]
  },
  {
   "cell_type": "markdown",
   "id": "e6a4b649",
   "metadata": {},
   "source": [
    "リストの中にリストを含むことも可能です"
   ]
  },
  {
   "cell_type": "code",
   "execution_count": 48,
   "id": "fc6c549e",
   "metadata": {},
   "outputs": [
    {
     "name": "stdout",
     "output_type": "stream",
     "text": [
      "list_in_list: <class 'list'> [[1, 2, 3.01], [4.1, 5, 'abc'], [6.4, 'defg', 8, 9]]\n"
     ]
    }
   ],
   "source": [
    "list_in_list = [[1,2,3.01],[4.1,5,\"abc\"],[6.4,\"defg\",8,9]]\n",
    "\n",
    "print(\"list_in_list:\", type(list_in_list), list_in_list)"
   ]
  },
  {
   "cell_type": "markdown",
   "id": "4b6f7298",
   "metadata": {},
   "source": [
    "上のリストにおいて\"abc\"という要素にアクセスしたい場合は、<br>\n",
    "まずlist_in_listの2番目の要素である[4.1,5,\"abc\"]というリストにアクセスし、<br>\n",
    "その中の3番目の要素である\"abc\"を取り出すというように考えます。\n",
    "\n",
    "各リストの**インデックスは0から始まる**ことに注意する必要があります。"
   ]
  },
  {
   "cell_type": "code",
   "execution_count": 54,
   "id": "decf7794",
   "metadata": {},
   "outputs": [
    {
     "name": "stdout",
     "output_type": "stream",
     "text": [
      "abc\n"
     ]
    }
   ],
   "source": [
    "second_list = list_in_list[1] # list_in_listから2番目の要素を取り出し、second_listに代入\n",
    "elem = second_list[2] # second_listから3番目の要素を取り出し、elemに代入\n",
    "\n",
    "print(elem)"
   ]
  },
  {
   "cell_type": "markdown",
   "id": "2bf9d032",
   "metadata": {},
   "source": [
    "\"abc\"に一気にアクセスしたい場合以下のように記述することもできます。"
   ]
  },
  {
   "cell_type": "code",
   "execution_count": 56,
   "id": "b01b0c47",
   "metadata": {},
   "outputs": [
    {
     "name": "stdout",
     "output_type": "stream",
     "text": [
      "abc\n"
     ]
    }
   ],
   "source": [
    "elem = list_in_list[1][2]\n",
    "\n",
    "print(elem)"
   ]
  },
  {
   "cell_type": "markdown",
   "id": "68314ec4",
   "metadata": {},
   "source": [
    "## 1.7 真理値型と値の比較\n",
    "\n",
    "変数に真(true)か偽(false)かのみの値をとる真理値型(bool)と呼ばれる型が存在します。\n",
    "否定をとりたい場合はnot関数と呼ばれるものが用意されています。"
   ]
  },
  {
   "cell_type": "code",
   "execution_count": 60,
   "id": "c3d00245",
   "metadata": {},
   "outputs": [
    {
     "name": "stdout",
     "output_type": "stream",
     "text": [
      "a: <class 'bool'> True\n",
      "b: <class 'bool'> False\n"
     ]
    }
   ],
   "source": [
    "a = True\n",
    "b = not(a)\n",
    "print(\"a:\", type(a), a)\n",
    "print(\"b:\", type(b), b)"
   ]
  },
  {
   "cell_type": "markdown",
   "id": "254a2b56",
   "metadata": {},
   "source": [
    "真理値は値を評価する際によく使います。<br>\n",
    "値の評価とは変数どうしが同じ値なのか、大きいのか小さいのかなどを比較することです。<br>\n",
    "値の評価には比較演算子というものを使います。<br>\n",
    "比較演算子には以下のようなものが用意されています。\n",
    "\n",
    "|演算子|意味|\n",
    "|--|--|\n",
    "| <  | 左辺が右辺より小さい |\n",
    "| <= | 左辺が右辺以下 |\n",
    "| >  | 左辺が右辺より大きい |\n",
    "| >= | 左辺が右辺以上 |\n",
    "| == | 左辺と右辺が等価 |\n",
    "| != | 左辺と右辺が等価でない |\n",
    "| is | 左辺と右辺が同じオブジェクト |\n",
    "| is not | 左辺と右辺が同じオブジェクトではない |"
   ]
  },
  {
   "cell_type": "code",
   "execution_count": 7,
   "id": "0b50e2fd",
   "metadata": {},
   "outputs": [
    {
     "name": "stdout",
     "output_type": "stream",
     "text": [
      "a <  b: False\n",
      "a <= b: False\n",
      "a >  b: True\n",
      "a >= b: True\n",
      "a == b: False\n",
      "a != b: True\n"
     ]
    }
   ],
   "source": [
    "a = 10\n",
    "b = 3\n",
    "\n",
    "print(\"a <  b:\", a < b)\n",
    "print(\"a <= b:\", a <= b)\n",
    "print(\"a >  b:\", a > b)\n",
    "print(\"a >= b:\", a >= b)\n",
    "print(\"a == b:\", a == b)\n",
    "print(\"a != b:\", a != b)"
   ]
  },
  {
   "cell_type": "markdown",
   "id": "a4fc4868",
   "metadata": {},
   "source": [
    "「==」と「is」、「!=」と「is not」は似たようなものに思いますが違いは何でしょうか？\n",
    "下記を実行しましょう。"
   ]
  },
  {
   "cell_type": "code",
   "execution_count": 8,
   "id": "6ad3c962",
   "metadata": {},
   "outputs": [
    {
     "name": "stdout",
     "output_type": "stream",
     "text": [
      "a == b: True\n",
      "a is b: False\n"
     ]
    }
   ],
   "source": [
    "a = [10,20,30]\n",
    "b = [10,20,30]\n",
    "\n",
    "print(\"a == b:\", a == b)\n",
    "print(\"a is b:\", a is b)"
   ]
  },
  {
   "cell_type": "markdown",
   "id": "b0e5ad05",
   "metadata": {},
   "source": [
    "a == b はTrueなのに対し、a is b はFalseとなりました。実は変数には値とは別にその変数固有のIDを持っています。<br>\n",
    "aとbは持っている値は同じですが実際には別の変数であるため、IDは異なりこのような結果となります。<br>\n",
    "Pythonでは変数のIDを調べるためにid関数というものが用意されています。"
   ]
  },
  {
   "cell_type": "code",
   "execution_count": 9,
   "id": "fc067bbb",
   "metadata": {},
   "outputs": [
    {
     "name": "stdout",
     "output_type": "stream",
     "text": [
      "id(a) 139639389273728\n",
      "id(b) 139639388579392\n"
     ]
    }
   ],
   "source": [
    "print(\"id(a)\", id(a))\n",
    "print(\"id(b)\", id(b))"
   ]
  },
  {
   "cell_type": "markdown",
   "id": "021b6752-e7af-4462-8fe7-c8d4ff7cb200",
   "metadata": {},
   "source": [
    "[練習問題](../practice/lesson1.ipynb)"
   ]
  }
 ],
 "metadata": {
  "kernelspec": {
   "display_name": "Python 3 (ipykernel)",
   "language": "python",
   "name": "python3"
  },
  "language_info": {
   "codemirror_mode": {
    "name": "ipython",
    "version": 3
   },
   "file_extension": ".py",
   "mimetype": "text/x-python",
   "name": "python",
   "nbconvert_exporter": "python",
   "pygments_lexer": "ipython3",
   "version": "3.10.4"
  },
  "vscode": {
   "interpreter": {
    "hash": "6823027d7e29b41a4e6f28161e95b4dfbe0e8b9a6a7278f50ef7cf75c6459dbe"
   }
  }
 },
 "nbformat": 4,
 "nbformat_minor": 5
}

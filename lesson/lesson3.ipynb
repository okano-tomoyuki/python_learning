{
 "cells": [
  {
   "cell_type": "markdown",
   "id": "cfc8ff6e",
   "metadata": {},
   "source": [
    "# lesson3 Pythonに慣れよう part3"
   ]
  },
  {
   "cell_type": "markdown",
   "id": "a9e35226",
   "metadata": {
    "tags": []
   },
   "source": [
    "## 3-1. 関数\n",
    "\n",
    "多くのプログラミング言語では実行したい操作を先に登録しておき、<br>\n",
    "あとからそれを呼び出して使うことが可能です。<br>\n",
    "\n",
    "登録された操作はPythonにおいて**関数**と呼ばれます。<br>\n",
    "関数は使用する前に登録する必要があります。登録作業のことを**定義**と呼びます。<br>\n",
    "一番シンプルな関数の定義は下記のようになります。\n",
    "\n",
    "``` python\n",
    "def 登録したい関数名(引数):\n",
    "    実行したい操作\n",
    "    return 戻り値\n",
    "```\n",
    "\n",
    "**引数**と**戻り値**は聞きなれない用語かもしれませんが、プログラミングでは<br>\n",
    "普遍的に使用される言葉なので覚えておきましょう。\n",
    "\n",
    "|用語|意味|\n",
    "|--|--|\n",
    "|引数|関数に対する入力値のこと|\n",
    "|戻り値|関数を使って得られる出力値のこと|\n",
    "\n",
    "下記例では任意の文字列を引数として受け取り、先頭3文字を戻り値として返却するhead_three関数を定義しています。"
   ]
  },
  {
   "cell_type": "code",
   "execution_count": 1,
   "id": "1e9ee8fa",
   "metadata": {
    "tags": []
   },
   "outputs": [],
   "source": [
    "def head_three(input_string):           # input_string  入力値(任意の文字列)\n",
    "    output_string = input_string[:3]    # output_string 出力値(入力値の先頭3文字)\n",
    "    return output_string"
   ]
  },
  {
   "cell_type": "markdown",
   "id": "6bed5c96",
   "metadata": {},
   "source": [
    "これでhead_three関数が定義されました。次に定義された関数を使用してみましょう。"
   ]
  },
  {
   "cell_type": "code",
   "execution_count": 2,
   "id": "6494ae88",
   "metadata": {
    "tags": []
   },
   "outputs": [
    {
     "name": "stdout",
     "output_type": "stream",
     "text": [
      "Tak\n"
     ]
    }
   ],
   "source": [
    "user_name = \"Takei Natsuo\"\n",
    "head_user_name = head_three(user_name)\n",
    "\n",
    "print(head_user_name)"
   ]
  },
  {
   "cell_type": "markdown",
   "id": "16f2b0e8",
   "metadata": {},
   "source": [
    "数学において関数は**引数**と**戻り値**を必ずセットで持ちます。<br>\n",
    "Pythonにおける関数は必ずしも引数と戻り値を持つ必要はありません。\n",
    "\n",
    "下記例は引数も戻り値も持たないhello関数を定義しています。"
   ]
  },
  {
   "cell_type": "code",
   "execution_count": 3,
   "id": "f6da833c",
   "metadata": {
    "tags": []
   },
   "outputs": [
    {
     "name": "stdout",
     "output_type": "stream",
     "text": [
      "Hello!\n"
     ]
    }
   ],
   "source": [
    "# print_hello関数の定義\n",
    "def hello():\n",
    "    print(\"Hello!\")\n",
    "\n",
    "# hello関数の呼び出し\n",
    "hello()"
   ]
  },
  {
   "cell_type": "markdown",
   "id": "fc7459fe",
   "metadata": {},
   "source": [
    "下記例は、時間帯(\"AM\",\"PM\")に応じて挨拶の内容を変化させるgreeting関数です。<br>\n",
    "これは引数はありますが、戻り値がありません。"
   ]
  },
  {
   "cell_type": "code",
   "execution_count": 4,
   "id": "9dcd53e7",
   "metadata": {
    "tags": []
   },
   "outputs": [
    {
     "name": "stdout",
     "output_type": "stream",
     "text": [
      "Good Morning!\n",
      "Hello!\n",
      "I don't know how to greet.\n"
     ]
    }
   ],
   "source": [
    "# greeting関数の定義\n",
    "def greeting(am_pm):\n",
    "    if am_pm == \"AM\":\n",
    "        print(\"Good Morning!\")\n",
    "    elif am_pm == \"PM\":\n",
    "        print(\"Hello!\")\n",
    "    else:\n",
    "        print(\"I don't know how to greet.\")\n",
    "\n",
    "# greeting関数の呼び出し\n",
    "greeting(\"AM\")          # => Good Morning!\n",
    "greeting(\"PM\")          # => Hello!\n",
    "greeting(\"HogeHoge\")    # => I don't know how to greet."
   ]
  },
  {
   "cell_type": "markdown",
   "id": "1289fe8b",
   "metadata": {},
   "source": [
    "引数や戻り値を複数設定することも可能です。<br>\n",
    "下記例では2つの変数を受け取って加算結果と減算結果と乗算結果の3つを<br>\n",
    "戻り値として持つmulti_calculate関数です。"
   ]
  },
  {
   "cell_type": "code",
   "execution_count": 5,
   "id": "cc03c69b",
   "metadata": {
    "tags": []
   },
   "outputs": [
    {
     "name": "stdout",
     "output_type": "stream",
     "text": [
      "add: 15\n",
      "diff: 5\n",
      "mul 50\n"
     ]
    }
   ],
   "source": [
    "# 2変数を受け取り、加減乗算結果を返却する関数\n",
    "def multi_calculate(num1, num2):\n",
    "    ans1 = num1 + num2              # 1.加算結果\n",
    "    ans2 = num1 - num2              # 2.減算結果\n",
    "    ans3 = num1 * num2              # 3.乗算結果\n",
    "    return ans1, ans2, ans3         # 1, 2, 3を返却\n",
    "\n",
    "\n",
    "a = 10\n",
    "b = 5\n",
    "\n",
    "add, diff, mul = multi_calculate(a, b) \n",
    "\n",
    "print(\"add:\", add)\n",
    "print(\"diff:\", diff)\n",
    "print(\"mul\", mul)"
   ]
  },
  {
   "cell_type": "markdown",
   "id": "a3ac2c91",
   "metadata": {},
   "source": [
    "関数の引数や戻り値にリストやディクショナリを使用することも可能です。<br>\n",
    "下記例は入力されたリストから奇数だけを取り出したリストと偶数だけを取り出したリストを返却する関数です。"
   ]
  },
  {
   "cell_type": "code",
   "execution_count": 6,
   "id": "3bd30aff",
   "metadata": {
    "tags": []
   },
   "outputs": [
    {
     "name": "stdout",
     "output_type": "stream",
     "text": [
      "odd_list: [15, 1027, 553, -91]\n",
      "even_list: [142, -32, 60, 826]\n"
     ]
    }
   ],
   "source": [
    "def get_odd_even(num_list):     # 入力リスト(num_list)\n",
    "    odd = []                    # 奇数リスト(odd)\n",
    "    even = []                   # 偶数リスト(even)\n",
    "    for num in num_list:        # num_listの要素(num)で繰り返し\n",
    "        if num % 2 == 0:        # => numが偶数の時\n",
    "            even.append(num)    #    => evenリストにnumを追加\n",
    "        else:                   #    numが奇数の時\n",
    "            odd.append(num)     #    => oddリストにnumを追加\n",
    "    return odd, even            # odd, evenを返却\n",
    "\n",
    "input_num_list = [15, 142, -32, 1027, 60, 553, -91, 826]\n",
    "odd_list, even_list = get_odd_even(input_num_list)\n",
    "\n",
    "print(\"odd_list:\", odd_list)\n",
    "print(\"even_list:\", even_list)"
   ]
  },
  {
   "cell_type": "markdown",
   "id": "0cdd5728",
   "metadata": {},
   "source": [
    "同じくディクショナリを引数と戻り値に設定した例を下記に示します。"
   ]
  },
  {
   "cell_type": "code",
   "execution_count": 7,
   "id": "d9147938",
   "metadata": {
    "tags": []
   },
   "outputs": [
    {
     "name": "stdout",
     "output_type": "stream",
     "text": [
      "fruits: {'apple': {'japanese': 'リンゴ', 'type': 'fruit'}, 'lemon': {'japanese': 'レモン', 'type': 'fruit'}, 'grape': {'japanese': 'ブドウ', 'type': 'fruit'}}\n"
     ]
    }
   ],
   "source": [
    "\n",
    "def get_fruit_dict(food_dict):              # 入力ディクショナリ(food_dict)\n",
    "    fruit_dict = {}                         # 果物リスト(fruit_dict)\n",
    "    for key, value in food_dict.items():    # food_dictのキーと値(key,value)で繰り返し\n",
    "        if value[\"type\"] == \"fruit\":        # => value[\"type\"]が\"fruit\"の時\n",
    "            fruit_dict[key] = value         #    => fruit_dictに(key,value)を追加\n",
    "    return fruit_dict                       # fruit_dictを返却\n",
    "\n",
    "input_food_dict = {\n",
    "    \"tomato\" : {\n",
    "        \"japanese\" : \"トマト\",\n",
    "        \"type\" : \"vegetable\"\n",
    "    },\n",
    "    \"apple\" : {\n",
    "        \"japanese\" : \"リンゴ\",\n",
    "        \"type\" : \"fruit\"\n",
    "    },\n",
    "    \"beef\" : {\n",
    "        \"japanese\" : \"牛肉\",\n",
    "        \"type\" : \"meat\"\n",
    "    },\n",
    "    \"lemon\" : {\n",
    "        \"japanese\" : \"レモン\",\n",
    "        \"type\" : \"fruit\"\n",
    "    },\n",
    "    \"grape\" : {\n",
    "        \"japanese\" : \"ブドウ\",\n",
    "        \"type\" : \"fruit\"\n",
    "    },\n",
    "    \"carrot\" : {\n",
    "        \"japanese\" : \"ニンジン\",\n",
    "        \"type\" : \"vegetable\"\n",
    "    },\n",
    "    \"squash\" : {\n",
    "        \"japanese\" : \"カボチャ\",\n",
    "        \"type\" : \"vegetable\"\n",
    "    },\n",
    "    \"pork\" : {\n",
    "        \"japanese\" : \"豚肉\",\n",
    "        \"type\" : \"meat\"\n",
    "    }\n",
    "}\n",
    "\n",
    "fruits = get_fruit_dict(input_food_dict)\n",
    "print(\"fruits:\", fruits)"
   ]
  },
  {
   "cell_type": "markdown",
   "id": "689dc0c9",
   "metadata": {},
   "source": [
    "関数は別の関数の引数として計算することができます。(Callback関数と呼ばれます)"
   ]
  },
  {
   "cell_type": "code",
   "execution_count": 8,
   "id": "c7cddbb2",
   "metadata": {
    "tags": []
   },
   "outputs": [
    {
     "name": "stdout",
     "output_type": "stream",
     "text": [
      "callback_func(add, a, b) : 8\n",
      "callback_func(diff, a, b) : 2\n",
      "callback_func(multiply, a, b) : 15\n"
     ]
    }
   ],
   "source": [
    "# 加算する関数\n",
    "def add(arg1, arg2):\n",
    "    return (arg1 + arg2)\n",
    "\n",
    "# 減算する関数\n",
    "def diff(arg1, arg2):\n",
    "    return (arg1 - arg2)\n",
    "\n",
    "# 乗算する関数\n",
    "def multiply(arg1, arg2):\n",
    "    return (arg1 * arg2)\n",
    "\n",
    "# CallBack関数\n",
    "def callback_func(func, arg1, arg2):\n",
    "    return func(arg1, arg2)\n",
    "\n",
    "a = 5\n",
    "b = 3\n",
    "\n",
    "# 加算関数の呼び出し\n",
    "c = callback_func(add, a, b)\n",
    "print(\"callback_func(add, a, b) :\", c)\n",
    "\n",
    "# 減算関数の呼び出し\n",
    "d = callback_func(diff, a, b)\n",
    "print(\"callback_func(diff, a, b) :\", d)\n",
    "\n",
    "# 乗算関数の呼び出し\n",
    "e = callback_func(multiply, a, b)\n",
    "print(\"callback_func(multiply, a, b) :\", e)"
   ]
  },
  {
   "cell_type": "markdown",
   "id": "53aae9fb",
   "metadata": {},
   "source": [
    "## 3-2. 標準入出力\n",
    "\n",
    "画面上にデータを入力したり、出力したりすること標準入出力と呼びます。<br>\n",
    "これまではPythonのプログラムを使用して画面に出力するprint関数を利用してきましたがこれは標準出力を呼び出しています。<br>\n",
    "実際にはプログラム実行時にユーザからの入力を受け付けたい場合がありますので標準入力についても学びましょう。\n",
    "\n",
    "Pythonで標準入力を受けるためにinput関数が用意されています。"
   ]
  },
  {
   "cell_type": "code",
   "execution_count": 9,
   "id": "7dc76e5a",
   "metadata": {
    "tags": []
   },
   "outputs": [
    {
     "name": "stdin",
     "output_type": "stream",
     "text": [
      "文字を入力してください:  aaa\n"
     ]
    },
    {
     "name": "stdout",
     "output_type": "stream",
     "text": [
      "aaa\n"
     ]
    }
   ],
   "source": [
    "x = input(\"文字を入力してください: \")\n",
    "\n",
    "print(x)"
   ]
  },
  {
   "cell_type": "markdown",
   "id": "1edabe36",
   "metadata": {},
   "source": [
    "複数の入力を受け取るためにはfor文を用いることで可能です。"
   ]
  },
  {
   "cell_type": "code",
   "execution_count": 10,
   "id": "9eca4380",
   "metadata": {
    "tags": []
   },
   "outputs": [
    {
     "name": "stdin",
     "output_type": "stream",
     "text": [
      "入力(1): aaa\n",
      "入力(2): bbb\n",
      "入力(3): ccc\n"
     ]
    },
    {
     "name": "stdout",
     "output_type": "stream",
     "text": [
      "args: ['aaa', 'bbb', 'ccc']\n"
     ]
    }
   ],
   "source": [
    "args = []\n",
    "for num in range(3):\n",
    "    args.append(input(\"入力(\" + str(num+1) + \"):\"))\n",
    "\n",
    "print(\"args:\", args)"
   ]
  },
  {
   "cell_type": "markdown",
   "id": "bb8e1fc8",
   "metadata": {},
   "source": [
    "使用するケースについてはあまりないですが、カンマ(\",\")区切りで受け取る方法もあります。"
   ]
  },
  {
   "cell_type": "code",
   "execution_count": 11,
   "id": "7ae24cd6",
   "metadata": {
    "tags": []
   },
   "outputs": [
    {
     "name": "stdin",
     "output_type": "stream",
     "text": [
      "args: aaa,bbb,ccc\n"
     ]
    },
    {
     "name": "stdout",
     "output_type": "stream",
     "text": [
      "args: ['aaa', 'bbb', 'ccc']\n"
     ]
    }
   ],
   "source": [
    "comma_sepalated_args = input(\"args:\")\n",
    "args = comma_sepalated_args.split(\",\")\n",
    "\n",
    "print(\"args:\", args)"
   ]
  },
  {
   "cell_type": "markdown",
   "id": "417d0042",
   "metadata": {},
   "source": [
    "input関数で値を受け取る場合、値の型はstr型です。<br>\n",
    "このことは数値を受け取る場合は気を付ける必要があります。\n",
    "\n",
    "数値データを取り扱う場合は文字列をintやfloatに変換するためのint関数やfloat関数を使用する必要があります。<br>\n",
    "下記例ではまず、入力された数字に対して、決められた計算結果を返却するcalculate関数を定義します。"
   ]
  },
  {
   "cell_type": "code",
   "execution_count": 14,
   "id": "168a99ba",
   "metadata": {
    "tags": []
   },
   "outputs": [],
   "source": [
    "def calculate(x):\n",
    "    return (3 * x ** 2 + 2 * x + 1)"
   ]
  },
  {
   "cell_type": "markdown",
   "id": "016f019d-9424-47eb-8913-3dd01d7e6caf",
   "metadata": {},
   "source": [
    "まずはintで数字を受け付けてみます。"
   ]
  },
  {
   "cell_type": "code",
   "execution_count": 15,
   "id": "72300c9f-c738-4c6e-b502-a749a2fa1e52",
   "metadata": {
    "tags": []
   },
   "outputs": [
    {
     "name": "stdin",
     "output_type": "stream",
     "text": [
      "Input int number: 3\n"
     ]
    },
    {
     "name": "stdout",
     "output_type": "stream",
     "text": [
      "int_ans: 34\n"
     ]
    }
   ],
   "source": [
    "input_number = input(\"Input int number:\")\n",
    "\n",
    "int_number = int(input_number)\n",
    "int_ans = calculate(int_number)\n",
    "print(\"int_ans:\", int_ans)"
   ]
  },
  {
   "cell_type": "markdown",
   "id": "0d09e1e6-2c98-475c-9816-38f36f51fd9e",
   "metadata": {},
   "source": [
    "次にfloatで数字を受け付けてみます。"
   ]
  },
  {
   "cell_type": "code",
   "execution_count": null,
   "id": "32f6cc36-d6b9-492e-9b38-7dc8912912ea",
   "metadata": {},
   "outputs": [],
   "source": [
    "input_number = input(\"Input float number:\")\n",
    "\n",
    "float_number = float(input_number)\n",
    "float_ans = calculate(float_number)\n",
    "print(\"float_ans:\", float_ans)"
   ]
  },
  {
   "cell_type": "markdown",
   "id": "998606d1-e2d7-41c6-abe1-2d6f63003dd7",
   "metadata": {},
   "source": [
    "## 3.3 ファイル入出力\n",
    "\n",
    "データはいつも画面から入力するケースばかりではありません。<br>\n",
    "ファイルからデータを読み書きする機会もたくさんあります。<br>\n",
    "まずは下記セルを実行して、csvファイルを作成してみましょう。"
   ]
  },
  {
   "cell_type": "code",
   "execution_count": 18,
   "id": "9b4527e3-df59-439f-a666-15997c7bd4d5",
   "metadata": {
    "tags": []
   },
   "outputs": [
    {
     "name": "stdout",
     "output_type": "stream",
     "text": [
      "ファイルを作成しました!\n"
     ]
    }
   ],
   "source": [
    "%%bash\n",
    "mkdir -p ./tmp1 ../tmp2\n",
    "cat << EOS > ./food.csv\n",
    "Name,Type,Japanese\n",
    "tomato,vegetable,トマト\n",
    "apple,fruit,リンゴ\n",
    "beef,meat,牛肉\n",
    "lemon,fruit,レモン\n",
    "grape,fruit,ブドウ\n",
    "squash,vegetable,カボチャ\n",
    "pork,meat,豚肉\n",
    "EOS\n",
    "cat << EOS > ./tmp1/user.csv\n",
    "ID,Name,Group\n",
    "1,青木,人事\n",
    "2,池山,総務\n",
    "3,宇藤,経理\n",
    "4,江口,営業\n",
    "5,大塚,人事\n",
    "6,柏木,営業\n",
    "EOS\n",
    "cat << EOS > ../tmp2/country.csv\n",
    "Name,Capital,Language,Currency\n",
    "America,Washington D.C.,English,USD\n",
    "Bangladesh,Dhaka,Bengali,BDT\n",
    "China,Beiging,Chinese,RMB\n",
    "Denmark,Kopenhagen,Dansk,DKK\n",
    "Egypt,Cairo,Arabic,EGP\n",
    "EOS\n",
    "\n",
    "echo \"ファイルを作成しました!\""
   ]
  },
  {
   "cell_type": "markdown",
   "id": "f9df9f7c",
   "metadata": {},
   "source": [
    "同じフォルダにfood.csvというcsvファイルが作成されたので内容を確認してみましょう。<br>\n",
    "[food.csv](./food.csv)"
   ]
  },
  {
   "cell_type": "markdown",
   "id": "e50eae80-bbe4-4068-93cc-0b596cc58886",
   "metadata": {
    "tags": []
   },
   "source": [
    "### 3.3.1 ファイルの読み込み\n",
    "\n",
    "ファイルの読み込み、書き出しにはopen関数とcloseメソッドを使用します。\n",
    "\n",
    "``` python\n",
    "f = open(読み込むファイルのパス, \"r\")\n",
    "\n",
    "ファイルに対する操作\n",
    "\n",
    "f.close()\n",
    "```\n",
    "\n",
    "\"r\"は読み込み専用で開くという意味です。<br>\n",
    "**パス**というのは、読み込むファイルまでの経路情報を意味しています。<br>\n",
    "\n",
    "```\n",
    "python_learning --- lesson\n",
    "                 |   |--- lesson1.ipynb\n",
    "                 |   |--- lesson2.ipynb\n",
    "                 |   |--- lesson3.ipynb\n",
    "                 |   |--- food.csv\n",
    "                 |   |--- tmp1\n",
    "                 |   |     |--- user.csv\n",
    "                 |   |\n",
    "                 |   |--- ...\n",
    "                 |\n",
    "                 |\n",
    "                 |- tmp2\n",
    "                 |    |--- country.csv\n",
    "                 |\n",
    "                 |- ...\n",
    "\n",
    "\n",
    "```\n",
    "\n",
    "今開いているファイル(lesson3.ipynb)に対して3箇所にfood.csv,user.csv,country.csvファイルを配置しました。<br>\n",
    "それぞれのファイルの読み込み方法を考えましょう。<br>\n",
    "\n",
    "では、まずは同じディレクトリにあるfood.csvファイルをreadメソッドを使って読み込んでみましょう。<br>\n",
    "(ディレクトリ≒フォルダと考えてください。)"
   ]
  },
  {
   "cell_type": "code",
   "execution_count": null,
   "id": "ab1366f8-2e05-4655-93ff-48c3865a9cd9",
   "metadata": {
    "tags": []
   },
   "outputs": [],
   "source": [
    "f = open(\"./food.csv\",\"r\") # f = open(\"food.csv\",\"r\") でもOK! \n",
    "data = f.read()\n",
    "f.close()\n",
    "\n",
    "print(data)"
   ]
  },
  {
   "cell_type": "markdown",
   "id": "8dc8e0a1",
   "metadata": {},
   "source": [
    "今いるディレクトリ(lessonディレクトリ)は「.」という文字を使って表現することができます。<br>\n",
    "ディレクトリの区切り(デリミタ)を「/」という文字であらわすので、上のような記載方法ができます。<br>\n",
    "「./」の部分については省略することができますが、付けた方が親切なプログラムといえます。\n",
    "\n",
    "次に、tmp1ディレクトリにあるuser.csvファイルを読み込みます。\n",
    "以下のように記述できます。"
   ]
  },
  {
   "cell_type": "code",
   "execution_count": null,
   "id": "48bfa022",
   "metadata": {
    "tags": []
   },
   "outputs": [],
   "source": [
    "f = open(\"./tmp1/user.csv\",\"r\") # f = open(\"tmp1/user.csv\",\"r\") でもOK! \n",
    "data = f.read()\n",
    "f.close()\n",
    "\n",
    "print(data)"
   ]
  },
  {
   "cell_type": "markdown",
   "id": "3fc12ebe",
   "metadata": {},
   "source": [
    "最後にtmp2ディレクトリにあるcountry.csvファイルを読み込みます。tmp2ディレクトリはlessonディレクトリよりも上の階層の<br>\n",
    "python_learningディレクトリにあります。これを読み込む場合は一つ上の階層を意味する「..」という文字列を使用することで、<br>\n",
    "読み込めます。"
   ]
  },
  {
   "cell_type": "code",
   "execution_count": null,
   "id": "331866e5",
   "metadata": {
    "tags": []
   },
   "outputs": [],
   "source": [
    "f = open(\"../tmp2/country.csv\",\"r\")\n",
    "data = f.read()\n",
    "f.close()\n",
    "\n",
    "print(data)"
   ]
  },
  {
   "cell_type": "markdown",
   "id": "78d020c9-719f-4522-8a7e-dd29436d1e17",
   "metadata": {},
   "source": [
    "ファイルを閉じる操作としてcloseメソッドを使っていましたが、<br>\n",
    "書き忘れてしまうことがないように**with**句を使用することが一般的です。<br>\n",
    "with句を使用するとブロック終了時に自動的にcloseメソッドを実行するのでclose漏れを防げます。"
   ]
  },
  {
   "cell_type": "code",
   "execution_count": 66,
   "id": "3a250b9f-56b9-4470-85bd-fa5f3e1d34e7",
   "metadata": {
    "tags": []
   },
   "outputs": [
    {
     "name": "stdout",
     "output_type": "stream",
     "text": [
      "Name,Type,Japanese\n",
      "tomato,vegetable,トマト\n",
      "apple,fruit,リンゴ\n",
      "beef,meat,牛肉\n",
      "lemon,fruit,レモン\n",
      "grape,fruit,ブドウ\n",
      "squash,vegetable,カボチャ\n",
      "pork,meat,豚肉\n",
      "\n",
      "type(data): <class 'str'>\n"
     ]
    }
   ],
   "source": [
    "with open(\"food.csv\",\"r\") as f:\n",
    "    data = f.read()\n",
    "\n",
    "print(data)\n",
    "print(\"type(data):\", type(data))"
   ]
  },
  {
   "cell_type": "markdown",
   "id": "932e3c11-931a-4e71-87fd-923ca1c588ac",
   "metadata": {},
   "source": [
    "readメソッドで読み込んだdataは1つの連なった文字列型データです。<br>\n",
    "実際にはこれを一行ずつ取り出して文字列のリストに格納して取り扱うことが多いので<br>\n",
    "その方法を2種類紹介します。\n",
    "\n",
    "- readlines関数を使用する。\n",
    "- read関数で読み込んだdataに対して改行コードでsplit関数を適用する。\n",
    "\n",
    "まずreadlines関数を使用する方法ですがこれは単純にreadメソッドを使用していた箇所をreadlinseメソッドだけです。"
   ]
  },
  {
   "cell_type": "code",
   "execution_count": 27,
   "id": "b89a47fd-7f05-4cff-abca-468e78e1fe7f",
   "metadata": {
    "tags": []
   },
   "outputs": [
    {
     "name": "stdout",
     "output_type": "stream",
     "text": [
      "['Name,Type,Japanese\\n', 'tomato,vegetable,トマト\\n', 'apple,fruit,リンゴ\\n', 'beef,meat,牛肉\\n', 'lemon,fruit,レモン\\n', 'grape,fruit,ブドウ\\n', 'squash,vegetable,カボチャ\\n', 'pork,meat,豚肉\\n']\n",
      "['Name,Type,Japanese', 'tomato,vegetable,トマト', 'apple,fruit,リンゴ', 'beef,meat,牛肉', 'lemon,fruit,レモン', 'grape,fruit,ブドウ', 'squash,vegetable,カボチャ', 'pork,meat,豚肉']\n"
     ]
    }
   ],
   "source": [
    "with open(\"food.csv\", \"r\") as f:\n",
    "    data = f.readlines()\n",
    "    \n",
    "print(data)\n",
    "\n",
    "clean_data = []\n",
    "for line in data:\n",
    "    clean_data.append(line.replace(\"\\n\",\"\"))\n",
    "\n",
    "print(clean_data)"
   ]
  },
  {
   "cell_type": "markdown",
   "id": "4e79ea5a-0e90-493d-94cb-edf84f8f19d5",
   "metadata": {},
   "source": [
    "dataをprint関数で表示すると、\"\\n\"という文字が格納されていることに気が付きます。これは**改行コード**と呼ばれます。<br>\n",
    "普段画面に表示されることはないのですが実は改行とは\"\\n\"(Windowsだと\"\\r\\n\")であらわされる一つの文字です。<br>\n",
    "格納された文字に改行コードが含まれていると邪魔なので、これを削除したclean_dataというリストを作成しています。\n",
    "\n",
    "\n",
    "次にreadで読み込んだdataにsplitメソッドを適用する方法です。splitで区切るときの区切り文字は**改行コード**です。\n"
   ]
  },
  {
   "cell_type": "code",
   "execution_count": 28,
   "id": "c1a02a06-dd73-4f44-8068-921bb8308882",
   "metadata": {
    "tags": []
   },
   "outputs": [
    {
     "name": "stdout",
     "output_type": "stream",
     "text": [
      "Name,Type,Japanese\n",
      "tomato,vegetable,トマト\n",
      "apple,fruit,リンゴ\n",
      "beef,meat,牛肉\n",
      "lemon,fruit,レモン\n",
      "grape,fruit,ブドウ\n",
      "squash,vegetable,カボチャ\n",
      "pork,meat,豚肉\n",
      "\n",
      "['Name,Type,Japanese', 'tomato,vegetable,トマト', 'apple,fruit,リンゴ', 'beef,meat,牛肉', 'lemon,fruit,レモン', 'grape,fruit,ブドウ', 'squash,vegetable,カボチャ', 'pork,meat,豚肉', '']\n",
      "['Name,Type,Japanese', 'tomato,vegetable,トマト', 'apple,fruit,リンゴ', 'beef,meat,牛肉', 'lemon,fruit,レモン', 'grape,fruit,ブドウ', 'squash,vegetable,カボチャ', 'pork,meat,豚肉']\n"
     ]
    }
   ],
   "source": [
    "with open(\"food.csv\", \"r\") as f:\n",
    "    data = f.read()\n",
    "    \n",
    "print(data)\n",
    "\n",
    "split_data = data.split(\"\\n\")\n",
    "\n",
    "print(split_data)\n",
    "\n",
    "clean_data = split_data[:-1]\n",
    "\n",
    "print(clean_data)"
   ]
  },
  {
   "cell_type": "markdown",
   "id": "b1b1d3cf-58c3-477c-bd86-dcff923cb6b8",
   "metadata": {},
   "source": [
    "この時、改行コード\"\\n\"で区切るとリストの最終要素に\"\"という空の文字が入ることに注意してください。\n",
    "\n",
    "### 3.3.2 ファイルの書き込み\n",
    "\n",
    "ファイルを書き込む場合も同じくopen関数を使用しますが、その際は書き込みモード\"w\"を指定します。<br>\n",
    "また、書き込むためにwriteメソッドが提供されています。"
   ]
  },
  {
   "cell_type": "code",
   "execution_count": 29,
   "id": "529dc5aa-198a-41bd-ae79-c9b6e13ea027",
   "metadata": {
    "tags": []
   },
   "outputs": [],
   "source": [
    "with open(\"./hello.txt\", \"w\") as f:\n",
    "    f.write(\"Hello!\")"
   ]
  },
  {
   "cell_type": "markdown",
   "id": "37780e7c-7517-4faf-9787-cf521b1f2ffa",
   "metadata": {},
   "source": [
    "読み込みの時と同じくファイルへの書き込みにもwritelinesメソッドが用意されています。<br>\n",
    "ただし、改行コードが自動的に付与されるわけではないので気を付けましょう。"
   ]
  },
  {
   "cell_type": "code",
   "execution_count": 30,
   "id": "5d16ba16-ee28-4783-969c-e7060af4976f",
   "metadata": {
    "tags": []
   },
   "outputs": [],
   "source": [
    "greetings = [\"Good Morning\",\"Bonjour\",\"你早\", \"こんにちは\"]\n",
    "\n",
    "with open(\"./greetings_writeline.txt\", \"w\") as f:\n",
    "    for g in greetings:\n",
    "        f.writelines(g + \"\\n\")\n",
    "        \n",
    "with open(\"./greetings_write.txt\", \"w\") as f:\n",
    "    f.write(\"\\n\".join(greetings))"
   ]
  },
  {
   "cell_type": "markdown",
   "id": "fccadfe8",
   "metadata": {},
   "source": [
    "しかし\"w\"モードだと元のファイルを強制的に上書きしてしまいます。<br>\n",
    "これはファイルの\"r\"権限がないためです。上書きではなく追記をしたい場合は<br>\n",
    "\"a\"モードで開く必要があります。また、joinで文字を連結した場合先頭に\"\\n\"がつかないので注意が必要です。"
   ]
  },
  {
   "cell_type": "code",
   "execution_count": 31,
   "id": "5893b6a0",
   "metadata": {
    "tags": []
   },
   "outputs": [],
   "source": [
    "add_greeting = [\"Xin chào\",\"Magandang umaga\"]   # 追記する挨拶\n",
    "\n",
    "with open(\"./greetings_write.txt\",\"a\") as f:    # greeting_write.txtに追記\n",
    "    f.write(\"\\n\")                               # 先頭要素に改行コードがつかないため付与\n",
    "    f.write(\"\\n\".join(add_greeting))            # 各要素を\"\\n\"を挟んで結合"
   ]
  },
  {
   "cell_type": "markdown",
   "id": "1dd2fd98",
   "metadata": {},
   "source": [
    "## 3.4 JupyterLabとIPython\n",
    "\n",
    "これまではプログラムの書き方のみを紹介しており、プログラムがどのような環境で<br>\n",
    "実行されているのか説明してきませんでした。\n",
    "\n",
    "しかしながら、プログラムがどのように実行されているか仕組みをある程度説明しておきます。<br>\n",
    "皆さんが今開いているファイルの拡張子を見てください。「.ipynb」と記載されていると思います。<br>\n",
    "これは**IPython Notebook**ファイルと呼ばれます。\n",
    "\n",
    "通常のPythonファイルは「.py」拡張子です。両者にはどのような違いがあるのでしょうか。\n",
    "\n",
    "「.py」のファイルは主にCLI(コマンドラインインターフェース)からpythonプログラムを実行する際に<br>\n",
    "使用されます。実行する際は「python xxxx.py」というようにコマンドから実行する「.py」ファイルを<br>\n",
    "指定することで実行できます。Python自体はC言語で実装されていることと、後述のIPythonと区別する目的から<br>\n",
    "CPythonと呼ばれることもあります。\n",
    "\n",
    "一方でIPython NotebookはCLIで実行するファイルを指定して実行するという操作を行う必要がありません。<br>\n",
    "これはipy kernelと呼ばれるものが「.ipynb」の内容を自動的に読み込みpythonプログラムとして実行しているからです。<br>\n",
    "つまり別のプログラムやコマンドipy kernelに認識させる事で**Python以外のコードも実行できる**ということです。\n",
    "\n",
    "![Python実行環境の構成](../img/python_execute.png)\n",
    "\n",
    "下記例では、c言語で記述したプログラムを実行させてみます。"
   ]
  },
  {
   "cell_type": "code",
   "execution_count": 83,
   "id": "fc1cb9de",
   "metadata": {
    "tags": []
   },
   "outputs": [
    {
     "name": "stdout",
     "output_type": "stream",
     "text": [
      "Hello World!\n"
     ]
    }
   ],
   "source": [
    "%%bash\n",
    "\n",
    "cat << EOS > hello_world.c\n",
    "\n",
    "#include <stdio.h>\n",
    "\n",
    "int main(void) {\n",
    "    printf(\"Hello World!\\n\");\n",
    "    return 0;\n",
    "}\n",
    "\n",
    "EOS\n",
    "\n",
    "gcc hello_world.c -o hello_world.o\n",
    "./hello_world.o\n",
    "rm hello_world.*"
   ]
  },
  {
   "cell_type": "markdown",
   "id": "667ab770",
   "metadata": {},
   "source": [
    "ここで知っておくべきことは、**ipynbファイルはPythonのプログラムだけ書かれているとは限らない**ということです。<br>\n",
    "事項で説明するライブラリのインストールコマンドの実行はその例の一つです。インストールコマンドはPythonが提供する機能ではありますが<br>\n",
    "Pythonプログラムではないことに注意しましょう。\n",
    "\n",
    "Pythonの入門書を読むと「Jupyter Notebook」や「Jupyter Lab」という言葉をよく目にします。<br>\n",
    "どちらもIPython NotebookをWebブラウザから実行できるようにしたIDE(統合開発環境)のことを指しており、<br>\n",
    "Jupyter LabはJupyter Notebookの後継として開発されたIDEであり上位互換の関係にあります。(Jupyter Notebookは開発終了)<br>\n",
    "皆さんが今利用しているIDEは「Jupyter Lab」なのでWebサイトで検索したりするときに留意しておきましょう。\n",
    "\n",
    "Jupyter Notebook < Jupyter Lab\n"
   ]
  },
  {
   "cell_type": "markdown",
   "id": "d585394a",
   "metadata": {},
   "source": [
    "## 3-5. Pythonにおける主要ライブラリ ~ 管理方法 ~"
   ]
  },
  {
   "cell_type": "markdown",
   "id": "728a503e",
   "metadata": {},
   "source": [
    "Pythonは便利なライブラリを多く有しています。講座中には以下のような用途で利用されるライブラリを紹介する予定です。\n",
    "\n",
    "|ライブラリ名|用途|\n",
    "|--|--|\n",
    "|pandas|表形式データの取り扱い時|\n",
    "|numpy|微積分やテンソル(ベクトルや行列)計算等の演算処理|\n",
    "|matplotlib|データの可視化|\n",
    "\n",
    "これらのライブラリは便利ですが、Pythonをインストールしただけの状態では利用できません。<br>\n",
    "各ライブラリはパッケージ管理ツールと呼ばれるものを利用してインストールする必要があります。\n",
    "\n",
    "パッケージ管理ツールとしてpip(python install package)というものが主に利用されます。<br>\n",
    "これを実行するには以下のようなスクリプトを用意します。先述のようにPythonプログラムではないことに注意しておきましょう。"
   ]
  },
  {
   "cell_type": "code",
   "execution_count": null,
   "id": "0b26ee07",
   "metadata": {},
   "outputs": [],
   "source": [
    "%%bash\n",
    "\n",
    "pip install pandas\n",
    "pip install numpy\n",
    "pip install matplotlib"
   ]
  },
  {
   "cell_type": "markdown",
   "id": "5eee9ac1",
   "metadata": {},
   "source": [
    "また、アンインストールする場合は、pipのuninstallコマンドを利用しましょう。"
   ]
  },
  {
   "cell_type": "markdown",
   "id": "e370c8ae",
   "metadata": {},
   "source": [
    "ライブラリにはバージョンというものがあります。<br>\n",
    "バージョンが変われば同じ機能を持つものでも微妙に挙動が変わるものがあります。\n",
    "\n",
    "特にnumpyは演算の根幹に関わるライブラリのため得られる結果が異なるのは問題です。\n",
    "pip showによってライブラリのバージョンを確認できます。"
   ]
  },
  {
   "cell_type": "code",
   "execution_count": null,
   "id": "9b74f50c",
   "metadata": {
    "tags": []
   },
   "outputs": [],
   "source": [
    "%%bash\n",
    "\n",
    "pip show pandas\n",
    "pip show numpy\n",
    "pip show matplotlib"
   ]
  },
  {
   "cell_type": "markdown",
   "id": "10694b8f",
   "metadata": {},
   "source": [
    "またいくつもpythonライブラリをインストールしている場合、今何がインストールされているか確認したい時があります。<br>\n",
    "その場合はpip listかpip freezeを使用します。"
   ]
  },
  {
   "cell_type": "code",
   "execution_count": null,
   "id": "c2377556",
   "metadata": {
    "tags": []
   },
   "outputs": [],
   "source": [
    "%%bash\n",
    "\n",
    "echo \"pip list\"\n",
    "pip list\n",
    "\n",
    "echo \"\\npip freeze\"\n",
    "pip freeze"
   ]
  },
  {
   "cell_type": "markdown",
   "id": "96ae3133-8a1b-47b1-9e4d-89d7a7f7920f",
   "metadata": {},
   "source": [
    "うまくインストールされているかはPythonのプログラムから確認することもできます。"
   ]
  },
  {
   "cell_type": "code",
   "execution_count": 21,
   "id": "53d9d5ff-0513-487c-ba97-c9bff7fe19bd",
   "metadata": {},
   "outputs": [
    {
     "name": "stdout",
     "output_type": "stream",
     "text": [
      "1.5.3\n",
      "1.24.2\n",
      "3.7.1\n"
     ]
    }
   ],
   "source": [
    "import pandas\n",
    "import numpy\n",
    "import matplotlib\n",
    "\n",
    "print(pandas.__version__)\n",
    "print(numpy.__version__)\n",
    "print(matplotlib.__version__)"
   ]
  },
  {
   "cell_type": "markdown",
   "id": "30c2735c",
   "metadata": {},
   "source": [
    "[練習問題](../practice/lesson3.ipynb)"
   ]
  }
 ],
 "metadata": {
  "kernelspec": {
   "display_name": "Python 3 (ipykernel)",
   "language": "python",
   "name": "python3"
  },
  "language_info": {
   "codemirror_mode": {
    "name": "ipython",
    "version": 3
   },
   "file_extension": ".py",
   "mimetype": "text/x-python",
   "name": "python",
   "nbconvert_exporter": "python",
   "pygments_lexer": "ipython3",
   "version": "3.10.4"
  }
 },
 "nbformat": 4,
 "nbformat_minor": 5
}

{
 "cells": [
  {
   "cell_type": "markdown",
   "id": "52f7e350-fe89-4028-bb6e-253504d97104",
   "metadata": {},
   "source": [
    "# lesson.7 クラスを理解しよう"
   ]
  },
  {
   "cell_type": "markdown",
   "id": "3b929721-3d3c-4805-af21-91d3054b5d29",
   "metadata": {},
   "source": [
    "## 7-1 クラスとは何か\n",
    "プログラミング言語の多くはClassという概念を持っておりPythonもその一例である<br>\n",
    "ということについては既にご存じかもしれません。<br>\n",
    "\n",
    "しかし、どのような目的でどのように使えばよいかはなかなか理解しがたいものです。<br>\n",
    "説明方法にもいろいろなアプローチがありますが、今回は目的から説明していこうと思います。"
   ]
  },
  {
   "cell_type": "markdown",
   "id": "8c145808-2547-4a15-a5d9-829edf43c8b2",
   "metadata": {
    "tags": []
   },
   "source": [
    "## 7-2. データを構造化する\n",
    "\n",
    "例えば人を例にとってみましょう。<br>\n",
    "以下のように3名の情報をプログラムで表すことを考えます。<br>\n",
    "\n",
    "||Human A|Human B|Human C|\n",
    "|--|--|--|--|\n",
    "|名前|Alex|Bob|Chris|\n",
    "|身長|170|180|160|\n",
    "|体重|70|85|55|\n",
    "\n",
    "おそらく以下のようなコードになるのではないでしょうか。"
   ]
  },
  {
   "cell_type": "code",
   "execution_count": 5,
   "id": "2fc2b5e1-8372-418d-96cc-e47a149f0893",
   "metadata": {
    "tags": []
   },
   "outputs": [],
   "source": [
    "human_a_name = \"Alex\"\n",
    "human_a_tall = 170\n",
    "human_a_weight = 70\n",
    "\n",
    "human_b_name = \"Bob\"\n",
    "human_b_tall = 180\n",
    "human_b_weight = 85\n",
    "\n",
    "human_c_name = \"Chris\"\n",
    "human_c_tall = 160\n",
    "human_c_weight = 55"
   ]
  },
  {
   "cell_type": "markdown",
   "id": "f7d9f0cc-88ce-4672-99d9-b665201227bb",
   "metadata": {
    "tags": []
   },
   "source": [
    "このプログラムには変数が増えると管理しきれないという問題があります。<br>\n",
    "例えばHuman Dを追加するとなったとき、変数は<br>\n",
    "``` python\n",
    "human_d_name\n",
    "human_d_tall\n",
    "human_d_weight\n",
    "```\n",
    "の3つ増やす必要があります。しかも人間の数が増える度この作業が発生します。<br>\n",
    "また、人に関する情報そのものが増加することも考えられます。<br>\n",
    "例えば、視力の値を追加で管理したい場合は以下の変数を追加することになります。<br>\n",
    "```python\n",
    "human_a_eyesight\n",
    "human_b_eyesight\n",
    "human_c_eyesight\n",
    "human_d_eyesight\n",
    "```\n",
    "人間に関する情報は多岐にわたるため、この情報も無限に増えていく可能性があります。<br>\n",
    "こうした変数情報を **ひとかたまりにすること（構造化）** を通じて取り扱えるようにするということがクラス作成の第一の目的です。\n",
    "まずは以下のコードを見てください。"
   ]
  },
  {
   "cell_type": "code",
   "execution_count": 33,
   "id": "38ffaf56-df8d-4baf-ac88-5ef61152be11",
   "metadata": {
    "tags": []
   },
   "outputs": [],
   "source": [
    "class Human:\n",
    "    def __init__(self, name, tall, weight):\n",
    "        self.name = name\n",
    "        self.tall = tall\n",
    "        self.weight = weight"
   ]
  },
  {
   "cell_type": "markdown",
   "id": "1aa76eaa-ac58-4f07-b35a-0f6883ead2d7",
   "metadata": {},
   "source": [
    "上の4行でHumanクラスができました。<br>\n",
    "上のコードの内容を現段階で理解する必要は一切ありません。<br>\n",
    "まずはHumanクラスを実際に使ってみましょう。"
   ]
  },
  {
   "cell_type": "code",
   "execution_count": 34,
   "id": "fe347fd8-3da4-4de9-890f-7caeb08e86e1",
   "metadata": {
    "tags": []
   },
   "outputs": [],
   "source": [
    "human_a = Human(name=\"Alex\", tall=170, weight=70)"
   ]
  },
  {
   "cell_type": "markdown",
   "id": "93991289-67de-4beb-9b2f-1b792abd7a8b",
   "metadata": {},
   "source": [
    "これでHuman Aに相当するAlexさんを<br>\n",
    "変数human_aという名前で作成することができました。<br>\n",
    "human_aに格納されている各変数(name,tail,weight)はそれぞれ\".\"を使用して取り出すことが可能です。"
   ]
  },
  {
   "cell_type": "code",
   "execution_count": 35,
   "id": "1406263e-d347-4f53-ab06-af7f5b49c13b",
   "metadata": {
    "tags": []
   },
   "outputs": [
    {
     "name": "stdout",
     "output_type": "stream",
     "text": [
      "Human A name: Alex\n",
      "Human A tall: 170\n",
      "Human A weight: 70\n"
     ]
    }
   ],
   "source": [
    "print(\"Human A name:\", human_a.name)\n",
    "print(\"Human A tall:\", human_a.tall)\n",
    "print(\"Human A weight:\", human_a.weight)"
   ]
  },
  {
   "cell_type": "markdown",
   "id": "f614df82-f4b0-46ea-8ed5-6ed1a0301b4c",
   "metadata": {},
   "source": [
    "この調子で、Human BやHuman Cについてもそれぞれ1行で作成できます。"
   ]
  },
  {
   "cell_type": "code",
   "execution_count": 9,
   "id": "aaba2d11-2657-46d7-abe5-e51cd370a98c",
   "metadata": {
    "tags": []
   },
   "outputs": [],
   "source": [
    "human_b = Human(name=\"Bob\", tall=180, weight=85)\n",
    "human_c = Human(name=\"Chris\", tall=160, weight=55)"
   ]
  },
  {
   "cell_type": "markdown",
   "id": "e465d31a-1f34-4842-b995-98b1f9bea95a",
   "metadata": {},
   "source": [
    "内容の変更も以下のように変更を加えることができます。\n",
    "\n",
    "``` python\n",
    "human_a.name = ...\n",
    "human_a.tall = ...\n",
    "human_a.weight = ...\n",
    "```"
   ]
  },
  {
   "cell_type": "code",
   "execution_count": 10,
   "id": "dd786500-3518-4b86-90b4-cd88d6ed08b1",
   "metadata": {
    "tags": []
   },
   "outputs": [
    {
     "name": "stdout",
     "output_type": "stream",
     "text": [
      "変更前 Human A name: Alex\n",
      "変更後 Human A name: Alice\n"
     ]
    }
   ],
   "source": [
    "print(\"変更前 Human A name:\", human_a.name)\n",
    "human_a.name = \"Alice\"\n",
    "print(\"変更後 Human A name:\", human_a.name)"
   ]
  },
  {
   "cell_type": "markdown",
   "id": "ac20fcca-363c-4433-9525-cbbd89281877",
   "metadata": {},
   "source": [
    "これだけを見ているとディクショナリにそっくりだと感じないでしょうか？<br>\n",
    "感じなくても全然問題ありませんが一応以下で確認しておきましょう。<br>"
   ]
  },
  {
   "cell_type": "code",
   "execution_count": 11,
   "id": "9ff1b533-3a79-442b-b47e-bbebe1aae5d7",
   "metadata": {
    "tags": []
   },
   "outputs": [],
   "source": [
    "human_a_dict = {\"name\":\"Alex\", \"tall\":170, \"weight\":70}"
   ]
  },
  {
   "cell_type": "code",
   "execution_count": 12,
   "id": "34e00d2b-a9e1-455f-84de-829f613d3ede",
   "metadata": {
    "tags": []
   },
   "outputs": [
    {
     "name": "stdout",
     "output_type": "stream",
     "text": [
      "Human A name: Alex\n",
      "Human A tall: 170\n",
      "Human A weight: 70\n"
     ]
    }
   ],
   "source": [
    "print(\"Human A name:\", human_a_dict[\"name\"])\n",
    "print(\"Human A tall:\", human_a_dict[\"tall\"])\n",
    "print(\"Human A weight:\", human_a_dict[\"weight\"])"
   ]
  },
  {
   "cell_type": "code",
   "execution_count": 13,
   "id": "353a19e4-ccf3-4a5f-a2f8-f54aaaf509bc",
   "metadata": {
    "tags": []
   },
   "outputs": [
    {
     "name": "stdout",
     "output_type": "stream",
     "text": [
      "変更前 Human A name: Alex\n",
      "変更後 Human A name: Alice\n"
     ]
    }
   ],
   "source": [
    "print(\"変更前 Human A name:\", human_a_dict[\"name\"])\n",
    "human_a_dict[\"name\"] = \"Alice\"\n",
    "print(\"変更後 Human A name:\", human_a_dict[\"name\"])"
   ]
  },
  {
   "cell_type": "markdown",
   "id": "eb75e08d-323a-47c2-8de7-3342ed17e5a1",
   "metadata": {},
   "source": [
    "では、ここまでで記載したディクショナリとクラスにはどのような違いがあるでしょうか？<br>\n",
    "ここでの答えはシンプルで、冒頭理解しなくてよいと説明した謎の構文を記述しているか否かです。<br>\n",
    "\n",
    "``` python\n",
    "class Human:\n",
    "    def __init__(self, name, tall, weight):\n",
    "        self.name = name\n",
    "        self.tall = tall\n",
    "        self.weight = weight\n",
    "```\n",
    "これはクラス定義と呼ばれるもので、このクラスでどのような情報を扱うことができるかを設定しています。<br>\n",
    "self.~となっている箇所がクラスで扱うことのできる変数です。(右辺の変数は関係ないので注意しましょう。)<br>\n",
    "クラスは **事前に定義することで使用できるようになる** ということと、**定義していない変数は使用できない** <br>\n",
    "ということを理解しておきましょう。<br>\n",
    "\n",
    "試しに視力(eyesight)の情報を追加したHuman Dを登録してみましょう。"
   ]
  },
  {
   "cell_type": "code",
   "execution_count": 14,
   "id": "b39798f6-4a09-4a3d-a815-ade331607e63",
   "metadata": {
    "tags": []
   },
   "outputs": [
    {
     "ename": "TypeError",
     "evalue": "Human.__init__() got an unexpected keyword argument 'eyesight'",
     "output_type": "error",
     "traceback": [
      "\u001b[0;31m---------------------------------------------------------------------------\u001b[0m",
      "\u001b[0;31mTypeError\u001b[0m                                 Traceback (most recent call last)",
      "Cell \u001b[0;32mIn[14], line 1\u001b[0m\n\u001b[0;32m----> 1\u001b[0m human_d \u001b[38;5;241m=\u001b[39m \u001b[43mHuman\u001b[49m\u001b[43m(\u001b[49m\u001b[43mname\u001b[49m\u001b[38;5;241;43m=\u001b[39;49m\u001b[38;5;124;43m\"\u001b[39;49m\u001b[38;5;124;43mDaniel\u001b[39;49m\u001b[38;5;124;43m\"\u001b[39;49m\u001b[43m,\u001b[49m\u001b[43m \u001b[49m\u001b[43mtall\u001b[49m\u001b[38;5;241;43m=\u001b[39;49m\u001b[38;5;241;43m155\u001b[39;49m\u001b[43m,\u001b[49m\u001b[43m \u001b[49m\u001b[43mweight\u001b[49m\u001b[38;5;241;43m=\u001b[39;49m\u001b[38;5;241;43m55\u001b[39;49m\u001b[43m,\u001b[49m\u001b[43m \u001b[49m\u001b[43meyesight\u001b[49m\u001b[38;5;241;43m=\u001b[39;49m\u001b[38;5;241;43m1.0\u001b[39;49m\u001b[43m)\u001b[49m\n",
      "\u001b[0;31mTypeError\u001b[0m: Human.__init__() got an unexpected keyword argument 'eyesight'"
     ]
    }
   ],
   "source": [
    "human_d = Human(name=\"Daniel\", tall=155, weight=55, eyesight=1.0)"
   ]
  },
  {
   "cell_type": "markdown",
   "id": "332d2038-3f4a-490b-8e4f-38a3d61f8be9",
   "metadata": {},
   "source": [
    "クラス定義で定義されていない変数データを登録しようとしたためエラーが出ました。<br>\n",
    "もし、視力の情報をHumanクラスで管理できるようにする場合は **クラスの定義そのもの** を修正する必要があります。 <br>"
   ]
  },
  {
   "cell_type": "code",
   "execution_count": 15,
   "id": "d0e00021-0b11-4b1b-8789-ed76b7c47823",
   "metadata": {
    "tags": []
   },
   "outputs": [],
   "source": [
    "class Human:\n",
    "    def __init__(self, name, tall, weight, eyesight):\n",
    "        self.name = name\n",
    "        self.tall = tall\n",
    "        self.weight = weight\n",
    "        self.eyesight = eyesight"
   ]
  },
  {
   "cell_type": "code",
   "execution_count": 16,
   "id": "255f76ca-daba-40f5-b554-d5191e4d8a09",
   "metadata": {
    "tags": []
   },
   "outputs": [],
   "source": [
    "human_d = Human(name=\"Daniel\", tall=155, weight=55, eyesight=1.0)"
   ]
  },
  {
   "cell_type": "markdown",
   "id": "c4e0824d-a3e7-4b1f-9c83-35b01cef5d9b",
   "metadata": {},
   "source": [
    "これでHuman Dを作成することができました。しかしながらここで更なる疑問が生まれます。<br>\n",
    "先に作成した、Human A~C と Human D はどのような関係になるのでしょうか？<br>\n",
    "答えは **全く無関係のものである。** です。<br>\n",
    "定義というのは原則として複数存在していてはなりません。クラス定義についても同様で、<br>\n",
    "Humanというクラスを定義できるのはプログラムの実行から終了までで**1回きり**です。<br>\n",
    "https://ja.wikipedia.org/wiki/%E5%AE%9A%E7%BE%A9\n",
    "\n",
    "ですが、ここでは説明の都合上複数回Humanというクラス定義を行っていきます。<br>\n",
    "通常は同じクラスの定義を複数回行うことはありえないということを理解しておきましょう。<br>\n",
    "\n",
    "この認識を持っておくことはとても重要です。<br>\n",
    "定義されたクラスは、いろんなプログラムから呼び出して使用されます。<br>\n",
    "そのため、一度定義したクラスを後から変更することは呼び出し先に影響が及ぶことを指すので<br>\n",
    "クラスで取り扱う変数にはどんなものがあるか、慎重に考える必要があります。<br>\n",
    "cacooを使用して、情報をグルーピングする意図はここにあったりします。"
   ]
  },
  {
   "cell_type": "markdown",
   "id": "4d8623c5-2a7f-4f45-bbe9-18cbdf5900e3",
   "metadata": {
    "tags": []
   },
   "source": [
    "## 7-3. ふるまいを記述する\n",
    "7-2で人間が持つ情報(名前、身長、体重、視力)を構造化したクラスを作成しました。<br>\n",
    "ところでなぜ構造化するのでしょうか？最初の目的としては単に変数がごちゃごちゃしないよう<br>\n",
    "管理しやすくするためと説明しました。ですがより根源的な目的としてはたくさんある変数を使って<br>\n",
    "なにかの処理を実行したいからです。なにか処理を行いたいときに使用するものとして、 **関数** という<br>\n",
    "ものを以前紹介しました。例えば名前を使って挨拶する関数を作成してみます。<br>"
   ]
  },
  {
   "cell_type": "code",
   "execution_count": 23,
   "id": "5338c24a-6f68-4840-8ad7-5acd403a4920",
   "metadata": {
    "tags": []
   },
   "outputs": [],
   "source": [
    "def greeting(name):\n",
    "    print(\"Hello. My name is \" + name + \".\")"
   ]
  },
  {
   "cell_type": "code",
   "execution_count": 24,
   "id": "c988f5fb-8e79-40ec-9cf7-0fe2b9ca162b",
   "metadata": {
    "tags": []
   },
   "outputs": [],
   "source": [
    "human_a = Human(name=\"Alex\", tall=170, weight=70, eyesight=0.5)\n",
    "human_b = Human(name=\"Bob\", tall=180, weight=85, eyesight=2.0)\n",
    "human_c = Human(name=\"Chris\", tall=160, weight=55, eyesight=1.0)"
   ]
  },
  {
   "cell_type": "markdown",
   "id": "dd6d3820-76f2-4eab-9efa-b0f1cd4f7542",
   "metadata": {},
   "source": [
    "作成したgreeting関数を使用すると以下のように書けます。"
   ]
  },
  {
   "cell_type": "code",
   "execution_count": 27,
   "id": "535f456b-f0c1-4779-8acf-b482cfe7a980",
   "metadata": {
    "tags": []
   },
   "outputs": [
    {
     "name": "stdout",
     "output_type": "stream",
     "text": [
      "Hello. My name is Alex.\n",
      "Hello. My name is Bob.\n",
      "Hello. My name is Chris.\n"
     ]
    }
   ],
   "source": [
    "greeting(human_a.name)\n",
    "greeting(human_b.name)\n",
    "greeting(human_c.name)"
   ]
  },
  {
   "cell_type": "markdown",
   "id": "7e5cbb85-f360-423e-9fd9-c4c7de8d78c4",
   "metadata": {},
   "source": [
    "ここでポイントとなるのは、先ほども出てきた **定義** という言葉です。<br>\n",
    "greeting関数の定義というのもクラス定義と同様に複数回行うことはできません。<br>\n",
    "別の用途でgreeting関数を用意したいときHuman用のgreeting関数が既に登録されていると重複が起きてしまいます。<br>\n",
    "そもそもこのgreeting関数は\"Human\"が\"挨拶をする。\"という処理なので、Human以外に使われるべきでもありません。<br>\n",
    "そのため **クラスには、変数の他に関数を定義しておく** ことができます。<br>"
   ]
  },
  {
   "cell_type": "code",
   "execution_count": 1,
   "id": "e9d1e989-e1a2-4178-b9f2-d6ae7502c61c",
   "metadata": {
    "tags": []
   },
   "outputs": [],
   "source": [
    "class Human:\n",
    "    def __init__(self, name, tall, weight, eyesight):\n",
    "        self.name = name\n",
    "        self.tall = tall\n",
    "        self.weight = weight \n",
    "        self.eyesight = eyesight\n",
    "    def greeting(self):                                       # 追加部分\n",
    "        print(\"Hello. My name is \" + self.name + \".\")         # "
   ]
  },
  {
   "cell_type": "code",
   "execution_count": 2,
   "id": "dce141bc-e945-42a9-a52f-6c1d7f8798f6",
   "metadata": {
    "tags": []
   },
   "outputs": [],
   "source": [
    "human_a = Human(name=\"Alex\", tall=170, weight=70, eyesight=0.5)\n",
    "human_b = Human(name=\"Bob\", tall=180, weight=85, eyesight=2.0)\n",
    "human_c = Human(name=\"Chris\", tall=160, weight=55, eyesight=1.0)"
   ]
  },
  {
   "cell_type": "markdown",
   "id": "79dc45cf-3e2b-43ac-a513-37ee2f6e6c70",
   "metadata": {},
   "source": [
    "クラス定義されたgreeting関数を使用すると以下のようになります。"
   ]
  },
  {
   "cell_type": "code",
   "execution_count": 3,
   "id": "1043902a-1298-41b9-aa81-4b446288839c",
   "metadata": {
    "tags": []
   },
   "outputs": [
    {
     "name": "stdout",
     "output_type": "stream",
     "text": [
      "Hello. My name is Alex.\n",
      "Hello. My name is Bob.\n",
      "Hello. My name is Chris.\n"
     ]
    }
   ],
   "source": [
    "human_a.greeting()\n",
    "human_b.greeting()\n",
    "human_c.greeting()"
   ]
  },
  {
   "cell_type": "markdown",
   "id": "020f30e4-1512-46e3-b670-7ced327be9cc",
   "metadata": {},
   "source": [
    "注目して欲しいのは、greeting関数の引数です。最初に定義したgreeting関数には名前を引数として与えていました。<br>\n",
    "しかし、Humanクラス内で定義されたgreeting関数は引数はありません。なぜこのような違いがあるのでしょうか？<br>\n",
    "答えはクラス内で定義されたgreeting関数はわざわざ引数を与えなくても元から構造化されたデータとしてnameを持っているからですね。<br>\n",
    "クラスの最も優れた特徴は **データとデータを利用した処理(ふるまい)をひとまとまりにして管理できる** ということです。<br>\n",
    "クラスに元から存在するデータであればよそから別途取得してくる必要はありませんが、そもそも **クラス内で定義されていない** または <br>\n",
    "**定義はされているが値そのものが変化する** ものであれば外から関数のインプットとして与えてあげる必要があります。<br>\n",
    "cacooの図を使って入出力を整理しているのはそうした情報を整理するためだったりします。"
   ]
  },
  {
   "cell_type": "markdown",
   "id": "c26027c7-98b4-42c2-953e-4cdcfb354dfd",
   "metadata": {},
   "source": [
    "## 7-4.クラス定義とインスタンス化\n",
    "\n",
    "クラス定義は1回しか行わないと説明しました。<br>\n",
    "一方でhuman_a,human_b,human_cのように宣言と代入という操作(lesson1の資料を参照)は何度行っても問題ありません。<br>\n",
    "この何度行ってもよい宣言と代入の操作のこと(より正確には宣言)を **インスタンス化** と呼び、インスタンス化された変数のことを<br>\n",
    "**インスタンス** と呼びます。インスタンスとは英語で「実例」という意味を持ちます。<br>\n",
    "\n",
    "定義されたクラスは定義しただけではその実体を持ちません。<br>\n",
    "Humanクラスの定義では「名前、身長、体重、視力」などのデータを持つことはわかりますし、「挨拶する」というふるまいを持つこともわかります。<br>\n",
    "一方で、実際にそれらの値が設定され、ふるまいを実行できるようになるにはインスタンス化という操作が必要になります。<br>\n",
    "最も一般的なインスタンス化の方法は今まで示した通りです。\n",
    "\n",
    "``` python\n",
    "変数名 = クラス名(必要な引数)\n",
    "```\n",
    "\n",
    "ただし、インスタンス化するためにはクラス定義の中で **コンストラクタ** と呼ばれる特殊な関数を用意してあげる必要があります。<br>\n",
    "(コンストラクタについては次項で説明します。)"
   ]
  },
  {
   "cell_type": "code",
   "execution_count": 4,
   "id": "2592b92f-9a92-483d-b204-1271a657a3cb",
   "metadata": {
    "tags": []
   },
   "outputs": [],
   "source": [
    "human_a = Human(name=\"Alex\", tall=170, weight=70, eyesight=0.5)"
   ]
  },
  {
   "cell_type": "markdown",
   "id": "b0ed0fa0-ac70-4155-a3a2-b14ddc65a2b9",
   "metadata": {},
   "source": [
    "## 7-5.クラス定義\n",
    "\n",
    "ここまではクラスを作る目的を中心に説明しましたが、そろそろクラス作りの説明をしていきましょう。<br>\n",
    "ただその前に、用語の呼称だけ改めて説明しておきます。C++とPythonなどクラスに対応した言語は様々で、<br>\n",
    "基本的な役割は変わりませんがクラス内で使用する変数と関数はそれぞれ呼び方が異なっていますので気を付けておいてください。<br>\n",
    "\n",
    "|内容|呼称|\n",
    "|--|--|\n",
    "|クラスで定義された変数|フィールド、メンバ変数|\n",
    "|クラスで定義された関数|メソッド、メンバ関数|\n",
    "\n",
    "また、7-4.で **コンストラクタ** という特殊なメソッドがあると説明しました。<br>\n",
    "コンストラクタは、別名「初期化」などといわれます。<br>\n",
    "コンストラクタはインスタンス化する際に一度だけ呼び出されるメソッドで、名前も__init__という名称を使用します。<br>\n",
    "コンストラクタに関わらず、クラスには特殊な変数やメソッドが存在します。<br>\n",
    "特殊な変数やメソッド名には前後に\"_\"が二つ付けられるので被らないように定義時には気を付けましょう。\n",
    "\n",
    "以下が基本的なPythonによるクラスの記述例です。\n",
    "``` python\n",
    "class クラス名:\n",
    "    def __init__(self, ...):\n",
    "        初期化処理を記述\n",
    "        self.変数1 = ...\n",
    "        self.変数2 = ...\n",
    "        ...\n",
    "    def メソッド1(self, ...):\n",
    "        処理を記述\n",
    "        ...\n",
    "    def メソッド2(self, ...):\n",
    "        処理を記述\n",
    "        ...\n",
    "```\n",
    "\n",
    "まず気になるのがコンストラクタを含めてすべてのメソッドの1番目の引数にselfという文字を入れています。<br>\n",
    "ここで厳密な説明をすると混乱を招くので、これは一つのお約束ごととして覚えておくようにしましょう。<br>\n",
    "一応ざっくりとselfの正体が何なのか説明しておくと、対象となるインスタンスそのものを指しています。<br>\n",
    "インスタンスそのものにアクセスできるようにすることで、変数データを設定したり取得したりできるようになります。<br>\n",
    "コンストラクタはインスタンス化した際に一度だけ呼び出されると記載しましたが、<br>\n",
    "self.~で定義されるクラス内の変数の値をコンストラクタで設定するというケースが多いです。<br>\n",
    "実際にHumanクラスのコードを読んで確認しましょう。"
   ]
  },
  {
   "cell_type": "code",
   "execution_count": 5,
   "id": "d2aa3d78-1e35-4937-9b78-7b6ec3148351",
   "metadata": {
    "tags": []
   },
   "outputs": [],
   "source": [
    "class Human:\n",
    "    def __init__(self, name, tall, weight, eyesight):\n",
    "        self.name = name                              # メンバ変数nameを設定\n",
    "        self.tall = tall                              # メンバ変数tallを設定\n",
    "        self.weight = weight                          # メンバ変数weightを設定\n",
    "        self.eyesight = eyesight                      # メンバ変数eyesightを設定\n",
    "    def greeting(self):\n",
    "        print(\"Hello. My name is \" + self.name + \".\") # メンバ変数nameを取得 "
   ]
  },
  {
   "cell_type": "markdown",
   "id": "57d793c7-00b2-4ce8-830d-11ef1ee49ae6",
   "metadata": {},
   "source": [
    "## 7-6. 既存のクラスを拡張して定義する。\n",
    "\n",
    "同じクラスは複数回定義することはないと述べました。<br>\n",
    "しかし、微妙な目的変更のために内容の異なるクラスを大量に定義したり、大規模なクラスを定義することを避ける必要があります。<br>\n",
    "Humanクラスを具体例として考えましょう。現実世界にはいろいろな職業があります。ここでは消防士とコンビニ店員で考えてみましょう。<br>\n",
    "2つはどちらも立派な職業ですが、業務遂行の上で必要なスキルは同じものでしょうか？答えはNoだと思います。<br>\n",
    "消防士に求められるものは体力とかだと思いますが、コンビニ店員はレジ打ちの速度とかだと思います。<br>\n",
    "ふるまいを考えても、消防士は「放水する」とかなのに対してコンビニ店員は「レジ打ちする」とか全く異なります。<br>\n",
    "一方どちらも人間なので名前や身長・体重はあるはずだし、当然挨拶をするというふるまいもできるはずです。<br>\n",
    "\n",
    "既存のクラスを拡張するという考えなしで2つの職業クラス定義を行う場合2種類のアプローチがあります。<br>\n",
    "まず一つ目はそれぞれ独立してクラス定義を実施するという考え方です。\n"
   ]
  },
  {
   "cell_type": "code",
   "execution_count": 35,
   "id": "31053bc0-42f1-4994-b92e-e46d6cd6c55b",
   "metadata": {
    "tags": []
   },
   "outputs": [],
   "source": [
    "class FireFighter:\n",
    "    def __init__(self, name, tall, weight, eyesight, stamina):\n",
    "        self.name = name\n",
    "        self.tall = tall\n",
    "        self.weight = weight\n",
    "        self.eyesight = eyesight\n",
    "        self.stamina = stamina                          # 消防士のスタミナ用変数を追加\n",
    "    def greeting(self):\n",
    "        print(\"Hello. My name is \" + self.name + \".\")\n",
    "    def discharge_water(self, water_quantity):                # 消防士用に放水メソッドを追加\n",
    "        self.stamina -= water_quantity                  # 放水した量に応じてスタミナが減る\n",
    "        \n",
    "class ShopWorker:\n",
    "    def __init__(self, name, tall, weight, eyesight, service_speed, care_skill):\n",
    "        self.name = name\n",
    "        self.tall = tall\n",
    "        self.weight = weight\n",
    "        self.eyesight = eyesight\n",
    "        self.service_skill = service_speed              # コンビニ店員の接客スピード用変数を追加\n",
    "        self.care_skill = care_skill                    # コンビニ店員の気遣い度用変数を追加\n",
    "    def greeting(self):\n",
    "        print(\"Hello. My name is \" + self.name + \".\")\n",
    "    def service(self):                                      # コンビニ店員用に接客メソッドを追加\n",
    "        return self.service_speed * self.care_skill     # 接客速度×気遣い度で顧客満足度を返す"
   ]
  },
  {
   "cell_type": "markdown",
   "id": "4b788349-8fb0-477d-b05e-0b7f8a801388",
   "metadata": {},
   "source": [
    "コメントが記載してあるところが、Humanクラスから追加した追加した行です。<br>\n",
    "共通部分が多いので、別々のクラスで定義するのは冗長な感じがします。<br>\n",
    "\n",
    "もう一つのアプローチは元からある人間クラスに消防士クラス、コンビニ店員クラスの情報を盛り込んだ<br>\n",
    "人間クラスを作成するという考え方ができます。"
   ]
  },
  {
   "cell_type": "code",
   "execution_count": 36,
   "id": "351e451a-91b6-4222-814f-41a733cf57d2",
   "metadata": {
    "tags": []
   },
   "outputs": [],
   "source": [
    "class Human:\n",
    "    def __init__(self, name, tall, weight, eyesight, stamina, service_speed, care_skill):\n",
    "        self.name = name\n",
    "        self.tall = tall\n",
    "        self.weight = weight\n",
    "        self.eyesight = eyesight\n",
    "        self.stamina = stamina                          # 消防士のスタミナ用変数を追加\n",
    "        self.service_skill = service_speed              # コンビニ店員の接客スピード用変数を追加\n",
    "        self.care_skill = care_skill                    # コンビニ店員の気遣い度用変数を追加\n",
    "    def greeting(self):\n",
    "        print(\"Hello. My name is \" + self.name + \".\")\n",
    "    def discharge_water(self, water_quantity):                # 消防士用に放水メソッドを追加\n",
    "        self.stamina -= water_quantity                  # 放水した量に応じてスタミナが減る\n",
    "    def service(self):                                      # コンビニ店員用に接客メソッドを追加\n",
    "        return self.service_speed * self.care_skill     # 接客速度×気遣い度で顧客満足度を返す"
   ]
  },
  {
   "cell_type": "markdown",
   "id": "5069d56a-944b-4644-b389-508d42de4e29",
   "metadata": {},
   "source": [
    "クラスが一つになってすっきりしたように見えますがこれも問題があります。<br>\n",
    "別の職業として「講師」が登場したらどうしたらよいでしょうか？<br>\n",
    "講師に必要な情報は「知識」だったりすると思うので、これはメンバ変数に含みたいです。<br>\n",
    "また、ふるまいとしては「講義する。」とかが追加になります。<br>\n",
    "このようにしてどんどんメンバ変数やメソッドを追加し続けるとせっかくクラスで構造化したのに、<br>\n",
    "内部の構造が複雑化してしまい収集がつきません。<br>\n",
    "\n",
    "したがって2種類のアプローチはどちらも適切ではなかったことがわかります。ではどうするかというのは<br>\n",
    "先に述べた通りで、既存のクラスを拡張した別のクラスを新たに定義するという考え方です。<br>"
   ]
  },
  {
   "cell_type": "code",
   "execution_count": 79,
   "id": "6694eb32-aa29-4e66-904f-d516276f6ed2",
   "metadata": {
    "tags": []
   },
   "outputs": [],
   "source": [
    "class Human:\n",
    "    def __init__(self, name, tall, weight, eyesight):\n",
    "        self.name = name\n",
    "        self.tall = tall\n",
    "        self.weight = weight\n",
    "        self.eyesight = eyesight\n",
    "    def greeting(self):\n",
    "        print(\"Hello. My name is \" + self.name + \".\")"
   ]
  },
  {
   "cell_type": "code",
   "execution_count": 107,
   "id": "19dd353f-f928-4984-8403-0c0954465bfb",
   "metadata": {},
   "outputs": [],
   "source": [
    "class FireFighter(Human):\n",
    "    def __init__(self, name, tall, weight, eyesight, stamina):\n",
    "        super().__init__(name, tall, weight, eyesight)\n",
    "        self.stamina = stamina                          # 消防士のスタミナ用変数を追加\n",
    "    def discharge_water(self, water_quantity):          # 消防士用に放水メソッドを追加\n",
    "        self.stamina -= water_quantity                  # 放水した量に応じてスタミナが減る "
   ]
  },
  {
   "cell_type": "code",
   "execution_count": 108,
   "id": "32f15e34-e9ab-4ce7-bdd4-814696273461",
   "metadata": {},
   "outputs": [],
   "source": [
    "class ShopWorker(Human):\n",
    "    def __init__(self, name, tall, weight, eyesight, service_speed, care_skill):\n",
    "        super().__init__(name, tall, weight, eyesight)\n",
    "        self.service_speed = service_speed              # コンビニ店員の接客スピード用変数を追加\n",
    "        self.care_skill = care_skill                    # コンビニ店員の気遣い度用変数を追加\n",
    "    def service(self):                                  # コンビニ店員用に接客メソッドを追加\n",
    "        return self.service_speed * self.care_skill     # 接客速度×気遣い度で顧客満足度を返す"
   ]
  },
  {
   "cell_type": "code",
   "execution_count": 109,
   "id": "6996f459-ecff-4b10-a79e-b5d1a1c9bdd7",
   "metadata": {
    "tags": []
   },
   "outputs": [],
   "source": [
    "fire_fighter = FireFighter(name=\"Eren\", tall=200, weight=120, eyesight=2.5, stamina=100)\n",
    "fire_fighter.discharge_water(water_quantity=20)"
   ]
  },
  {
   "cell_type": "code",
   "execution_count": 111,
   "id": "b085d06c-3aa5-47a6-b3ad-10b324fd863e",
   "metadata": {
    "tags": []
   },
   "outputs": [
    {
     "data": {
      "text/plain": [
       "30"
      ]
     },
     "execution_count": 111,
     "metadata": {},
     "output_type": "execute_result"
    }
   ],
   "source": [
    "shop_worker = ShopWorker(name=\"Fred\", tall=200, weight=120, eyesight=2.5, service_speed=10, care_skill=3)\n",
    "shop_worker.service()"
   ]
  },
  {
   "cell_type": "markdown",
   "id": "d2eb2e7b-9129-43a1-b949-a7ef6f2b8b65",
   "metadata": {},
   "source": [
    "このように継承を使用しておけば、新たに講師クラスを用意する際に<br>\n",
    "FireFighterクラスやShopWokerクラスに影響を与えることなく新たにHumanを拡張した<br>\n",
    "Instructorクラスを作成すればよいことがわかります。<br>\n",
    "\n",
    "このようにあるクラスをもとに新たなクラスを定義することを一般的に **継承** と呼びます。<br>\n",
    "また、拡張元のクラスのことを **親クラス、または抽象クラス** 、拡張先のクラスを **子クラス、または具象クラス、派生クラス** 等と呼びます。<br>\n",
    "更に、この継承関係は一般に「is-A」の関係と呼びます。<br>\n",
    "これは親クラス、子クラスの関係には必ず「子クラス is 親クラス.」という関係が成り立つということです。<br>\n",
    "\n",
    "消防士 is 人間.\n",
    "コンビニ店員 is 人間.\n",
    "\n",
    "どちらも成り立ちますね。逆に言うとこの関係で説明できない関係においては継承を使用してはいけないということです。<br>\n",
    "しかし、クラス作成の目的である「データの構造化」を考えた時に必ずしもこの関係が成り立たない。しかし、間違いなく関係あるクラス<br>\n",
    "というものが登場します。次節で解説します。"
   ]
  },
  {
   "cell_type": "markdown",
   "id": "16e93458-688b-4201-8ef9-9feb8de1fa71",
   "metadata": {},
   "source": [
    "## 7-7. クラスを持つクラス\n",
    "\n",
    "前節で継承という概念を取り扱いましたが継承は「is-A」の関係だと説明しました。<br>\n",
    "それと双璧をなすクラス間の関係として、「has-A」の関係というものがあります。<br>\n",
    "文字通りクラスがクラスを持つという関係です。<br>\n",
    "\n",
    "例えば船はプロペラや舵を装備していますね。<br>\n",
    "船というクラスとプロペラというクラスがそれぞれ存在するとして両者の関係は「has-A」の関係である、<br>\n",
    "といえます。つまり「船」は「プロペラ」を持っているということです。舵についても同様ですね。<br>\n",
    "「has-A」という大層な表現をしていますがこちらは継承みたいな複雑なことはしません。<br>\n",
    "単純にプロペラクラスを変数として含んだ船クラスを定義してあげればよいということでよいのです。<br>\n",
    "ただし、注意が必要なのはクラス定義する順序です。「is-A」(継承)の場合は継承元(親クラス)から先に定義しておかないと<br>\n",
    "継承先(子クラス)は定義できません。一方で「has-A」の場合はhasされる側、つまりプロペラや舵などのクラスを定義しておく<br>\n",
    "必要があります。"
   ]
  },
  {
   "cell_type": "code",
   "execution_count": 133,
   "id": "a033b9ec-8269-4771-9f5d-3aa04b3804a0",
   "metadata": {
    "tags": []
   },
   "outputs": [],
   "source": [
    "class Propeller:\n",
    "    def __init__(self, diameter):\n",
    "        self.diameter = diameter\n",
    "        self.rpm = 0\n",
    "    def add_command(self, command):\n",
    "        self.rpm = 100 * command\n",
    "    def create_force(self, command):\n",
    "        self.add_command(command)\n",
    "        force = 10 * self.rpm * self.diameter\n",
    "        return force"
   ]
  },
  {
   "cell_type": "code",
   "execution_count": 138,
   "id": "ca90b7b3-2377-4e46-93f4-3d2751505d6d",
   "metadata": {
    "tags": []
   },
   "outputs": [],
   "source": [
    "class Ship:\n",
    "    def __init__(self, x, y, propeller_diameter):\n",
    "        self.x = x\n",
    "        self.y = y\n",
    "        self.propeller = Propeller(propeller_diameter)\n",
    "    def integrate_force(self, propeller_command):\n",
    "        force = self.propeller.create_force(propeller_command)\n",
    "        return force\n",
    "    def move(self, propeller_command):\n",
    "        total_force = self.integrate_force(propeller_command)\n",
    "        self.x += total_force * 0.001"
   ]
  },
  {
   "cell_type": "code",
   "execution_count": 140,
   "id": "12cc3288-e94c-4493-90b9-e4d6ce6ac7ae",
   "metadata": {
    "tags": []
   },
   "outputs": [
    {
     "name": "stdout",
     "output_type": "stream",
     "text": [
      "-100.0\n"
     ]
    }
   ],
   "source": [
    "ship = Ship(x=0, y=0, propeller_diameter=100)\n",
    "ship.move(propeller_command=2)\n",
    "ship.move(propeller_command=-3)\n",
    "print(ship.x)"
   ]
  },
  {
   "cell_type": "markdown",
   "id": "66314dda-f036-4938-b25b-b33436674397",
   "metadata": {},
   "source": [
    "上記のようなクラス定義を積み重ねていくことで、複雑な仕組みの船であっても推力の計算や、制御指令値の演算などが実装できるのです。"
   ]
  }
 ],
 "metadata": {
  "kernelspec": {
   "display_name": "Python 3 (ipykernel)",
   "language": "python",
   "name": "python3"
  },
  "language_info": {
   "codemirror_mode": {
    "name": "ipython",
    "version": 3
   },
   "file_extension": ".py",
   "mimetype": "text/x-python",
   "name": "python",
   "nbconvert_exporter": "python",
   "pygments_lexer": "ipython3",
   "version": "3.10.4"
  }
 },
 "nbformat": 4,
 "nbformat_minor": 5
}

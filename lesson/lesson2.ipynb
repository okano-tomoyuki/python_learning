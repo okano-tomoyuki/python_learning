{
 "cells": [
  {
   "cell_type": "markdown",
   "id": "de34e6de",
   "metadata": {},
   "source": [
    "# lesson2 Pythonに慣れよう part2"
   ]
  },
  {
   "cell_type": "markdown",
   "id": "33addedc",
   "metadata": {},
   "source": [
    "## 2.1 複雑なリスト操作"
   ]
  },
  {
   "cell_type": "markdown",
   "id": "18b9165d",
   "metadata": {},
   "source": [
    "前回の勉強会の後半にリストというものを学びました。<br>\n",
    "下記のように変数をひとまとまりにしたものをリストと呼びます。\n",
    "\n",
    "``` python\n",
    "fruits = [\"apple\", \"banana\", \"melon\", \"orange\", \"grape\"]\n",
    "```\n",
    "\n",
    "このfruitsのリストから\"melon\"を取り出したい場合は、以下のように書けば取り出せますよね。<br>\n",
    "要素番号(インデックス)が0からスタートすることに注意してください。\n",
    "\n",
    "``` python\n",
    "melon = fruits[2]\n",
    "```\n",
    "\n",
    "では、[\"banana\", \"melon\", \"orange\"] 取り出す場合どのように書けばよいでしょうか？<br>\n",
    "これまでの知識を使うと以下のように書けます。"
   ]
  },
  {
   "cell_type": "code",
   "execution_count": 1,
   "id": "dcfabac2",
   "metadata": {
    "tags": []
   },
   "outputs": [
    {
     "name": "stdout",
     "output_type": "stream",
     "text": [
      "middle_fruits:  ['banana', 'melon', 'orange']\n"
     ]
    }
   ],
   "source": [
    "fruits = [\"apple\", \"banana\", \"melon\", \"orange\", \"grape\"]\n",
    "middle_fruits = [fruits[1], fruits[2], fruits[3]] # インデックスが1,2,3の要素を取り出し新たなリストに格納\n",
    "\n",
    "print(\"middle_fruits: \", middle_fruits)"
   ]
  },
  {
   "cell_type": "markdown",
   "id": "a610edec",
   "metadata": {},
   "source": [
    "リストの要素数が少ない場合このように書いても問題ないですが要素数が多いと大変です。<br>\n",
    "Pythonの場合、ある範囲の要素をまとめて抽出する操作として **スライス** という方法が用意されています。<br>\n",
    "\n",
    "``` python\n",
    "スライスで取得するリスト = 取得元のリスト[インデックス:インデックス]\n",
    "```\n",
    "\n",
    "実際の使い方を下記例で見てみましょう。"
   ]
  },
  {
   "cell_type": "code",
   "execution_count": 2,
   "id": "94233250",
   "metadata": {
    "tags": []
   },
   "outputs": [
    {
     "name": "stdout",
     "output_type": "stream",
     "text": [
      "middle_fruits:  ['banana', 'melon', 'orange']\n"
     ]
    }
   ],
   "source": [
    "fruits = [\"apple\", \"banana\", \"melon\", \"orange\", \"grape\"]\n",
    "middle_fruits = fruits[1:4]\n",
    "\n",
    "print(\"middle_fruits: \", middle_fruits)"
   ]
  },
  {
   "cell_type": "markdown",
   "id": "3e924e57",
   "metadata": {},
   "source": [
    "上の例ではfruitsというリストのインデックスが **1以上4未満** の要素を取り出しています。<br>\n",
    "また、あるインデックス以上(または未満)の要素をすべて取り出す場合は以下のように書きます。"
   ]
  },
  {
   "cell_type": "code",
   "execution_count": 3,
   "id": "d6aa85e8",
   "metadata": {
    "tags": []
   },
   "outputs": [
    {
     "name": "stdout",
     "output_type": "stream",
     "text": [
      "left_fruits:  ['melon', 'orange', 'grape']\n",
      "right_fruits:  ['apple', 'banana', 'melon']\n"
     ]
    }
   ],
   "source": [
    "fruits = [\"apple\", \"banana\", \"melon\", \"orange\", \"grape\"]\n",
    "\n",
    "left_fruits = fruits[2:] # インデックスが2以上\n",
    "print(\"left_fruits: \", left_fruits)\n",
    "\n",
    "right_fruits = fruits[:3] # インデックスが3未満\n",
    "print(\"right_fruits: \", right_fruits)"
   ]
  },
  {
   "cell_type": "markdown",
   "id": "ed196535",
   "metadata": {},
   "source": [
    "また、リストの後ろから?番目の要素を取り出す場合以下のように取り出すことができます。"
   ]
  },
  {
   "cell_type": "code",
   "execution_count": 4,
   "id": "715e1ac1",
   "metadata": {
    "tags": []
   },
   "outputs": [
    {
     "name": "stdout",
     "output_type": "stream",
     "text": [
      "orange:  orange\n"
     ]
    }
   ],
   "source": [
    "fruits = [\"apple\", \"banana\", \"melon\", \"orange\", \"grape\"]\n",
    "\n",
    "orange = fruits[-2] # リストの末尾から2番目の要素を取り出し\n",
    "print(\"orange: \", orange)"
   ]
  },
  {
   "cell_type": "markdown",
   "id": "e3adb610",
   "metadata": {},
   "source": [
    "この仕組みを利用し、末尾2つの要素で構成されたリストを抽出したい場合は<br>\n",
    "以下のように記述できます。"
   ]
  },
  {
   "cell_type": "code",
   "execution_count": 5,
   "id": "31abaedb",
   "metadata": {
    "tags": []
   },
   "outputs": [
    {
     "name": "stdout",
     "output_type": "stream",
     "text": [
      "end_fruits:  ['orange', 'grape']\n"
     ]
    }
   ],
   "source": [
    "fruits = [\"apple\", \"banana\", \"melon\", \"orange\", \"grape\"]\n",
    "\n",
    "end_fruits = fruits[-2:] # リストの末尾から2番目以降の要素を取り出し\n",
    "print(\"end_fruits: \", end_fruits)"
   ]
  },
  {
   "cell_type": "markdown",
   "id": "4718e344",
   "metadata": {},
   "source": [
    "リストの要素数がたくさんある場合、各要素のインデックスを覚えておくのは大変です。<br>\n",
    "リストの要素の値からインデックスを取得するためにindex()が用意されています。"
   ]
  },
  {
   "cell_type": "code",
   "execution_count": 6,
   "id": "b8ad0113",
   "metadata": {
    "tags": []
   },
   "outputs": [
    {
     "name": "stdout",
     "output_type": "stream",
     "text": [
      "banana_index:  1\n"
     ]
    }
   ],
   "source": [
    "fruits = [\"apple\", \"banana\", \"melon\", \"orange\", \"grape\"]\n",
    "\n",
    "banana_index = fruits.index(\"banana\") # \"banana\"のインデックスを取得\n",
    "print(\"banana_index: \", banana_index)"
   ]
  },
  {
   "cell_type": "markdown",
   "id": "461d725c",
   "metadata": {},
   "source": [
    "index()とスライスを利用して、\"banana\"から\"orange\"までをリストで取得する場合以下のように書くことができます。"
   ]
  },
  {
   "cell_type": "code",
   "execution_count": 9,
   "id": "dbc3ab3c",
   "metadata": {
    "tags": []
   },
   "outputs": [
    {
     "name": "stdout",
     "output_type": "stream",
     "text": [
      "middle_fruits:  ['banana', 'melon', 'orange']\n"
     ]
    }
   ],
   "source": [
    "fruits = [\"apple\", \"banana\", \"melon\", \"orange\", \"grape\"]\n",
    "\n",
    "middle_fruits = fruits[fruits.index(\"banana\"): fruits.index(\"orange\") + 1] \n",
    "print(\"middle_fruits: \", middle_fruits)"
   ]
  },
  {
   "cell_type": "markdown",
   "id": "5f6945ba",
   "metadata": {},
   "source": [
    "index()は便利な一方で、要素が重複している場合注意が必要です。<br>\n",
    "例えば以下のようなリストの場合を考えてみます。\n",
    "\n",
    "``` python\n",
    "animals = [\"cat\", \"dog\", \"fox\", \"dog\", \"elephant\", \"horse\"]\n",
    "```\n",
    "\n",
    "このような場合、\"dog\"はリストの中に2回登場しています。<br>\n",
    "この時index()を利用すると一番小さいインデックスが取得されます。"
   ]
  },
  {
   "cell_type": "code",
   "execution_count": 10,
   "id": "b2fb7636",
   "metadata": {
    "tags": []
   },
   "outputs": [
    {
     "name": "stdout",
     "output_type": "stream",
     "text": [
      "dog_index:  1\n"
     ]
    }
   ],
   "source": [
    "animals = [\"cat\", \"dog\", \"fox\", \"dog\", \"elephant\", \"horse\"]\n",
    "\n",
    "dog_index = animals.index(\"dog\")\n",
    "print(\"dog_index: \", dog_index) "
   ]
  },
  {
   "cell_type": "markdown",
   "id": "e36309e9",
   "metadata": {},
   "source": [
    "## 2.2 ディクショナリ"
   ]
  },
  {
   "cell_type": "markdown",
   "id": "095013ef",
   "metadata": {},
   "source": [
    "以下のようなリストから\"apple\"の値段を調べる場合を考えます。\n",
    "\n",
    "``` python\n",
    "fruits_name = [\"apple\", \"banana\", \"melon\"]\n",
    "fruits_price = [150, 100, 1000]\n",
    "```\n",
    "\n",
    "これまでの知識を使うと以下のように書くことができそうです。"
   ]
  },
  {
   "cell_type": "code",
   "execution_count": 13,
   "id": "11b81cf0",
   "metadata": {
    "tags": []
   },
   "outputs": [
    {
     "name": "stdout",
     "output_type": "stream",
     "text": [
      "apple_price:  150\n"
     ]
    }
   ],
   "source": [
    "fruits_name = [\"apple\", \"banana\", \"melon\"]\n",
    "fruits_price = [150, 100, 1000]\n",
    "\n",
    "apple_price = fruits_price[fruits_name.index(\"apple\")]\n",
    "\n",
    "print(\"apple_price: \", apple_price)"
   ]
  },
  {
   "cell_type": "markdown",
   "id": "f464d4b4",
   "metadata": {},
   "source": [
    "上記のような書き方で望んだ結果は得られるのですが、もっと簡単な書き方があります。\n",
    "\n",
    "Pythonにはディクショナリというものが提供されています。読んで字のごとく辞書のように使うことができるリストだと思ってください。<br>\n",
    "以下の例を見てください。"
   ]
  },
  {
   "cell_type": "code",
   "execution_count": 14,
   "id": "f0371240",
   "metadata": {
    "tags": []
   },
   "outputs": [
    {
     "name": "stdout",
     "output_type": "stream",
     "text": [
      "apple_price:  150\n"
     ]
    }
   ],
   "source": [
    "fruits = {\"apple\":150, \"banana\":100, \"melon\":1000}\n",
    "\n",
    "apple_price = fruits[\"apple\"]\n",
    "print(\"apple_price: \", apple_price)"
   ]
  },
  {
   "cell_type": "markdown",
   "id": "d868eb3e",
   "metadata": {},
   "source": [
    "ディクショナリは以下のように記述されます。\n",
    "\n",
    "``` python\n",
    "ディクショナリ = { キー:値, キー:値, キー:値, ・・・}\n",
    "```\n",
    "\n",
    "キーとは要素を取り出す時の検索キーワードのことで、値とは実際にキーワードから取り出された値の事です。<br>\n",
    "キーと値をセットにしておくことで要素を取り出すときに簡単に取得したい値にアクセスできるのです。<br>\n",
    "また、ディクショナリに要素を追加するのも簡単です。下記例では\"orange\"をfruitsディクショナリに追加しています。"
   ]
  },
  {
   "cell_type": "code",
   "execution_count": 15,
   "id": "8e1356b9",
   "metadata": {
    "tags": []
   },
   "outputs": [
    {
     "name": "stdout",
     "output_type": "stream",
     "text": [
      "fruits: {'apple': 150, 'banana': 100, 'melon': 1000, 'orange': 50}\n"
     ]
    }
   ],
   "source": [
    "fruits = {\"apple\":150, \"banana\":100, \"melon\":1000}\n",
    "\n",
    "fruits[\"orange\"] = 50\n",
    "print(\"fruits:\", fruits)"
   ]
  },
  {
   "cell_type": "markdown",
   "id": "c61edd11",
   "metadata": {},
   "source": [
    "リストの場合、下記のように要素にリストを含むことができました。\n",
    "\n",
    "``` python\n",
    "fruits = [[\"リンゴ\", 150], [\"バナナ\", 100], [\"メロン\", 1000]]\n",
    "```\n",
    "\n",
    "ディクショナリの場合は、値にディクショナリを入れることができます。<br>\n",
    "わかりにくいですが下記のようになります。"
   ]
  },
  {
   "cell_type": "code",
   "execution_count": 16,
   "id": "27471aff",
   "metadata": {
    "tags": []
   },
   "outputs": [
    {
     "name": "stdout",
     "output_type": "stream",
     "text": [
      "名称:  リンゴ\n",
      "値段:  150\n"
     ]
    }
   ],
   "source": [
    "fruits = {\n",
    "    \"apple\":\n",
    "    {\n",
    "        \"japanese\":\"リンゴ\", \n",
    "        \"price\":150\n",
    "    }, \n",
    "    \"banana\":{\n",
    "        \"japanese\":\"バナナ\", \n",
    "        \"price\":100\n",
    "    },\n",
    "    \"melon\" : {\n",
    "        \"japanese\":\"メロン\",\n",
    "        \"price\":1000\n",
    "    }\n",
    "}\n",
    "\n",
    "print(\"名称: \", fruits[\"apple\"][\"japanese\"])\n",
    "print(\"値段: \", fruits[\"apple\"][\"price\"])"
   ]
  },
  {
   "cell_type": "markdown",
   "id": "1f0f3049",
   "metadata": {},
   "source": [
    "## 2.2 ブロック"
   ]
  },
  {
   "cell_type": "markdown",
   "id": "5c645b84",
   "metadata": {},
   "source": [
    "Pythonではプログラムは上から下に向かって真っすぐ1行ずつ処理が実行されます。<br>\n",
    "しかし、ある処理をひとまとまりにしておいて指定した回数繰り返させたり、条件によって処理を切り替えたりすることがあります。<br>\n",
    "このような条件分岐や繰り返し内での処理のことを**ブロック**と呼びます。\n",
    "\n",
    "C言語などはブロックを{}を使って記述します。\n",
    "\n",
    "``` c\n",
    "int x=5;\n",
    "if (x < 10)\n",
    "{\n",
    "    printf(\"x < 10 \\n\");\n",
    "}\n",
    "```\n",
    "\n",
    "Pythonの場合は{}は使用せずインデント(字下げ)と:(コロン)を使ってブロックを認識します。<br>\n",
    "インデントはTabキーを使って挿入できます。スペース4つ分でもOKです。\n",
    "\n",
    "``` python\n",
    "x=5\n",
    "if x < 10:\n",
    "    print(\"x < 10\") # Tabキーでインデントを挿入している。\n",
    "```\n"
   ]
  },
  {
   "cell_type": "markdown",
   "id": "ff35e7c4",
   "metadata": {},
   "source": [
    "## 2.3 分岐"
   ]
  },
  {
   "cell_type": "markdown",
   "id": "f6db13a6",
   "metadata": {},
   "source": [
    "ある特定の条件の時のみ実行したい処理がある場合 **if文** と呼ばれるものを利用します。<br>\n",
    "\n",
    "``` python\n",
    "if (評価式):\n",
    "    (Trueだった時の処理)\n",
    "```\n",
    "\n",
    "下記例はxが5未満の場合画面に\"Yes\"と表示します。\n"
   ]
  },
  {
   "cell_type": "markdown",
   "id": "9276d389",
   "metadata": {},
   "source": [
    "x=4の場合"
   ]
  },
  {
   "cell_type": "code",
   "execution_count": 17,
   "id": "e38f073c",
   "metadata": {
    "tags": []
   },
   "outputs": [
    {
     "name": "stdout",
     "output_type": "stream",
     "text": [
      "Yes\n"
     ]
    }
   ],
   "source": [
    "x = 4\n",
    "if x < 5:\n",
    "    print(\"Yes\")"
   ]
  },
  {
   "cell_type": "markdown",
   "id": "06ae1f36",
   "metadata": {},
   "source": [
    "x=10の場合"
   ]
  },
  {
   "cell_type": "code",
   "execution_count": 18,
   "id": "645c12dc",
   "metadata": {
    "tags": []
   },
   "outputs": [],
   "source": [
    "x = 10\n",
    "if x < 5:\n",
    "    print(\"Yes\")"
   ]
  },
  {
   "cell_type": "markdown",
   "id": "9fdfcf5a",
   "metadata": {},
   "source": [
    "条件を満たさなかった場合の処理を記述したい場合、else文を使用します。<br>\n",
    "else文は必ずif文とセットで使用します。<br>\n",
    "下記例ではxが5未満だったら\"Yes\"を表示し、そうでなかったら\"No\"を表示します。"
   ]
  },
  {
   "cell_type": "markdown",
   "id": "707f21a4",
   "metadata": {},
   "source": [
    "x=4の場合"
   ]
  },
  {
   "cell_type": "code",
   "execution_count": 19,
   "id": "f1ceae94",
   "metadata": {
    "tags": []
   },
   "outputs": [
    {
     "name": "stdout",
     "output_type": "stream",
     "text": [
      "Yes\n"
     ]
    }
   ],
   "source": [
    "x = 4\n",
    "if x < 5:\n",
    "    print(\"Yes\")\n",
    "else:\n",
    "    print(\"No\")"
   ]
  },
  {
   "cell_type": "markdown",
   "id": "4d7384a8",
   "metadata": {},
   "source": [
    "x=10の場合"
   ]
  },
  {
   "cell_type": "code",
   "execution_count": 20,
   "id": "6d446711",
   "metadata": {
    "tags": []
   },
   "outputs": [
    {
     "name": "stdout",
     "output_type": "stream",
     "text": [
      "No\n"
     ]
    }
   ],
   "source": [
    "x = 10\n",
    "if x < 5:\n",
    "    print(\"Yes\")\n",
    "else:\n",
    "    print(\"No\")"
   ]
  },
  {
   "cell_type": "markdown",
   "id": "c4fc0afb",
   "metadata": {},
   "source": [
    "以下のような条件分岐の例を考えます。\n",
    "- xが3で割り切れる場合画面にAと表示する\n",
    "- xを3で割ったとき余りが1の時Bと表示する\n",
    "- xを3で割ったとき余りが2の時Cと表示する\n",
    "\n",
    "このような3つ以上の条件分岐の場合は2通りのやり方があります。<br>\n",
    "1. if文の中にさらにif文を組み込む<br>\n",
    "2. elifを使う<br>\n",
    "\n",
    "それぞれプログラムにすると以下のようになります。"
   ]
  },
  {
   "cell_type": "markdown",
   "id": "b4446703",
   "metadata": {},
   "source": [
    "1.if文の中にif文を組み込む場合"
   ]
  },
  {
   "cell_type": "code",
   "execution_count": 21,
   "id": "e81cacfb",
   "metadata": {
    "tags": []
   },
   "outputs": [
    {
     "name": "stdout",
     "output_type": "stream",
     "text": [
      "B\n"
     ]
    }
   ],
   "source": [
    "x = 4\n",
    "r = x % 3     # xを3で割ったときの余りを計算\n",
    "\n",
    "if r==0:\n",
    "    print(\"A\") # r==0のとき\n",
    "else:\n",
    "    if r==1:\n",
    "        print(\"B\") # r==1の時\n",
    "    else:\n",
    "        print(\"C\") # r==2の時"
   ]
  },
  {
   "cell_type": "markdown",
   "id": "bb7059ae",
   "metadata": {},
   "source": [
    "2.elifを使う場合"
   ]
  },
  {
   "cell_type": "code",
   "execution_count": 22,
   "id": "8905e503",
   "metadata": {
    "tags": []
   },
   "outputs": [
    {
     "name": "stdout",
     "output_type": "stream",
     "text": [
      "B\n"
     ]
    }
   ],
   "source": [
    "x = 4\n",
    "r = x % 3     # xを3で割ったときの余りを計算\n",
    "\n",
    "if r==0:\n",
    "    print(\"A\") # r==0 の時\n",
    "elif r==1:\n",
    "    print(\"B\") # r==1 の時\n",
    "else:\n",
    "    print(\"C\") # r==2 の時"
   ]
  },
  {
   "cell_type": "markdown",
   "id": "f8f4251c",
   "metadata": {},
   "source": [
    "C言語の場合、case,swich という構文を利用し条件分岐ができますが残念ながらPythonではできません。。。"
   ]
  },
  {
   "cell_type": "markdown",
   "id": "0f2d643a",
   "metadata": {},
   "source": [
    "## 2.4 反復"
   ]
  },
  {
   "cell_type": "markdown",
   "id": "e3c6b998",
   "metadata": {},
   "source": [
    "繰り返し処理を行う場合、whileとforという二つの文を使うことができます。<br>\n",
    "どちらでも同じことを実装可能ですが、for文を利用するケースの方が多いためここではforの使い方のみ紹介します。\n",
    "\n",
    "``` python\n",
    "for (for文内で使用する値) in range(開始の数,終了の数,ステップあたりの増加量):\n",
    "    (繰り返し処理)\n",
    "```\n",
    "\n",
    "下記例は、1から10までの数字を順番に表示するプログラムです。"
   ]
  },
  {
   "cell_type": "code",
   "execution_count": 23,
   "id": "5eb2a144",
   "metadata": {
    "tags": []
   },
   "outputs": [
    {
     "name": "stdout",
     "output_type": "stream",
     "text": [
      "1\n",
      "2\n",
      "3\n",
      "4\n",
      "5\n",
      "6\n",
      "7\n",
      "8\n",
      "9\n"
     ]
    }
   ],
   "source": [
    "for i in range(1, 10, 1):\n",
    "    print(i)"
   ]
  },
  {
   "cell_type": "markdown",
   "id": "acee85cd",
   "metadata": {},
   "source": [
    "スタートの数字を5に設定する場合は以下のように書けます。"
   ]
  },
  {
   "cell_type": "code",
   "execution_count": 24,
   "id": "13a96203",
   "metadata": {
    "tags": []
   },
   "outputs": [
    {
     "name": "stdout",
     "output_type": "stream",
     "text": [
      "5\n",
      "6\n",
      "7\n",
      "8\n",
      "9\n"
     ]
    }
   ],
   "source": [
    "for i in range(5, 10, 1):\n",
    "    print(i)"
   ]
  },
  {
   "cell_type": "markdown",
   "id": "e30a7ead",
   "metadata": {},
   "source": [
    "終了を15にする場合は以下のように書けます。"
   ]
  },
  {
   "cell_type": "code",
   "execution_count": 25,
   "id": "5ddc93dc",
   "metadata": {
    "tags": []
   },
   "outputs": [
    {
     "name": "stdout",
     "output_type": "stream",
     "text": [
      "1\n",
      "2\n",
      "3\n",
      "4\n",
      "5\n",
      "6\n",
      "7\n",
      "8\n",
      "9\n",
      "10\n",
      "11\n",
      "12\n",
      "13\n",
      "14\n"
     ]
    }
   ],
   "source": [
    "for i in range(1, 15, 1):\n",
    "    print(i)"
   ]
  },
  {
   "cell_type": "markdown",
   "id": "5c369de9",
   "metadata": {},
   "source": [
    "値を2ずつ増加させる場合は以下のように記述できます。"
   ]
  },
  {
   "cell_type": "code",
   "execution_count": 26,
   "id": "1a1b1ce6",
   "metadata": {
    "tags": []
   },
   "outputs": [
    {
     "name": "stdout",
     "output_type": "stream",
     "text": [
      "1\n",
      "3\n",
      "5\n",
      "7\n",
      "9\n"
     ]
    }
   ],
   "source": [
    "for i in range(1, 10, 2): # 増加量を2に設定\n",
    "    print(i)"
   ]
  },
  {
   "cell_type": "markdown",
   "id": "e6c018d9",
   "metadata": {},
   "source": [
    "下記のようなリストがあるとします。\n",
    "\n",
    "``` python\n",
    "fruits = [\"apple\", \"banana\", \"melon\"]\n",
    "```\n",
    "\n",
    "for文を使用すると、リスト内の値を以下のように順番に取り出せます。"
   ]
  },
  {
   "cell_type": "code",
   "execution_count": 27,
   "id": "606efe51",
   "metadata": {
    "tags": []
   },
   "outputs": [
    {
     "name": "stdout",
     "output_type": "stream",
     "text": [
      "apple\n",
      "banana\n",
      "melon\n"
     ]
    }
   ],
   "source": [
    "fruits = [\"apple\", \"banana\", \"melon\"]\n",
    "for fruit in fruits:\n",
    "    print(fruit)"
   ]
  },
  {
   "cell_type": "markdown",
   "id": "3b91a0e4",
   "metadata": {},
   "source": [
    "リストのインデックスも一緒に取り出すときはenumerate()という関数を利用できます。\n",
    "\n",
    "``` python\n",
    "for インデックスの変数名, 値の変数名 in enumerate(リスト):\n",
    "    繰り返し処理\n",
    "```"
   ]
  },
  {
   "cell_type": "code",
   "execution_count": 29,
   "id": "ded36d14",
   "metadata": {
    "tags": []
   },
   "outputs": [
    {
     "name": "stdout",
     "output_type": "stream",
     "text": [
      "index:  0  value:  apple\n",
      "index:  1  value:  banana\n",
      "index:  2  value:  melon\n"
     ]
    }
   ],
   "source": [
    "fruits = [\"apple\", \"banana\", \"melon\"]\n",
    "\n",
    "for index, value in enumerate(fruits):\n",
    "    print(\"index: \", index, \" value: \", value)"
   ]
  },
  {
   "cell_type": "markdown",
   "id": "2e358868",
   "metadata": {},
   "source": [
    "ディクショナリに対しても反復処理ができます。<br>\n",
    "ディクショナリで繰り返し取り出したい要素がキーなのか、値なのか両方なのかでそれぞれ書き方が異なります。<br>\n",
    "キーについて反復処理をする場合はkeys(),値について反復処理をする場合はvalues()<br>\n",
    "両方取り出したい場合はitems()を使用します。"
   ]
  },
  {
   "cell_type": "markdown",
   "id": "8c705f1b",
   "metadata": {},
   "source": [
    "キーについての繰り返し処理\n",
    "``` python\n",
    "for キーの変数名 in ディクショナリ.keys():\n",
    "    繰り返し処理\n",
    "```"
   ]
  },
  {
   "cell_type": "code",
   "execution_count": 30,
   "id": "c20e92c1",
   "metadata": {
    "tags": []
   },
   "outputs": [
    {
     "name": "stdout",
     "output_type": "stream",
     "text": [
      "key: apple\n",
      "key: banana\n",
      "key: melon\n"
     ]
    }
   ],
   "source": [
    "fruits = {\"apple\":150, \"banana\":100, \"melon\":1000}\n",
    "\n",
    "# キーについて反復処理\n",
    "for key in fruits.keys():\n",
    "    print(\"key:\", key)"
   ]
  },
  {
   "cell_type": "markdown",
   "id": "0fae47a3",
   "metadata": {},
   "source": [
    "値についての繰り返し処理\n",
    "``` python\n",
    "for 値の変数名 in ディクショナリ.values():\n",
    "    繰り返し処理\n",
    "```"
   ]
  },
  {
   "cell_type": "code",
   "execution_count": 31,
   "id": "50fa57b0",
   "metadata": {
    "tags": []
   },
   "outputs": [
    {
     "name": "stdout",
     "output_type": "stream",
     "text": [
      "value: 150\n",
      "value: 100\n",
      "value: 1000\n"
     ]
    }
   ],
   "source": [
    "fruits = {\"apple\":150, \"banana\":100, \"melon\":1000}\n",
    "\n",
    "# 値について反復処理\n",
    "for value in fruits.values():\n",
    "    print(\"value:\", value)"
   ]
  },
  {
   "cell_type": "markdown",
   "id": "c7ddf63d",
   "metadata": {},
   "source": [
    "キー,値についての繰り返し処理\n",
    "``` python\n",
    "for キーの変数名,値の変数名 in ディクショナリ.items():\n",
    "    繰り返し処理\n",
    "```"
   ]
  },
  {
   "cell_type": "code",
   "execution_count": 33,
   "id": "7ed9e9f1",
   "metadata": {
    "tags": []
   },
   "outputs": [
    {
     "name": "stdout",
     "output_type": "stream",
     "text": [
      "key:  apple , value:  150\n",
      "key:  banana , value:  100\n",
      "key:  melon , value:  1000\n"
     ]
    }
   ],
   "source": [
    "fruits = {\"apple\":150, \"banana\":100, \"melon\":1000}\n",
    "\n",
    "# キー、値両方について反復処理\n",
    "for key, value in fruits.items():\n",
    "    print(\"key: \", key, \", value: \", value)"
   ]
  },
  {
   "cell_type": "markdown",
   "id": "76b7974a",
   "metadata": {},
   "source": [
    "### 2.5 文字列の操作"
   ]
  },
  {
   "cell_type": "markdown",
   "id": "ad057f73",
   "metadata": {},
   "source": [
    "文字列は要素がそれぞれ1文字ずつの特別なリストとみなして扱うことができます。<br>\n",
    "例えば、\"apple\"は[\"a\", \"p\", \"p\", \"l\", \"e\"]というような感じです。<br>\n",
    "\n",
    "なのでスライスやfor文を使った操作も可能です。"
   ]
  },
  {
   "cell_type": "code",
   "execution_count": 35,
   "id": "c025f000",
   "metadata": {
    "tags": []
   },
   "outputs": [
    {
     "name": "stdout",
     "output_type": "stream",
     "text": [
      "a\n",
      "p\n",
      "p\n",
      "l\n",
      "e\n"
     ]
    }
   ],
   "source": [
    "apple = \"apple\"\n",
    "\n",
    "for char in apple:\n",
    "    print(char)"
   ]
  },
  {
   "cell_type": "code",
   "execution_count": 36,
   "id": "c83be212",
   "metadata": {
    "tags": []
   },
   "outputs": [
    {
     "name": "stdout",
     "output_type": "stream",
     "text": [
      "ple\n"
     ]
    }
   ],
   "source": [
    "apple = \"apple\"\n",
    "\n",
    "ple = apple[2:]\n",
    "print(ple)"
   ]
  },
  {
   "cell_type": "markdown",
   "id": "8a670676",
   "metadata": {},
   "source": [
    "特定の区切り文字を指定して、文字列を分割してリストとして取得するためにsplit()というものがあります。"
   ]
  },
  {
   "cell_type": "code",
   "execution_count": 37,
   "id": "ea0ad307",
   "metadata": {
    "tags": []
   },
   "outputs": [
    {
     "name": "stdout",
     "output_type": "stream",
     "text": [
      "fruits:  ['apple', 'banana', 'melon', 'grape']\n"
     ]
    }
   ],
   "source": [
    "fruits_str = \"apple,banana,melon,grape\"\n",
    "\n",
    "fruits = fruits_str.split(\",\")  # \",\"でfruis_strを分割し、取得\n",
    "\n",
    "print(\"fruits: \", fruits)"
   ]
  },
  {
   "cell_type": "markdown",
   "id": "01308da8",
   "metadata": {},
   "source": [
    "逆に特定の文字列を利用して文字列を結合したい場合はjoin()を利用します。"
   ]
  },
  {
   "cell_type": "code",
   "execution_count": 38,
   "id": "bb363db0",
   "metadata": {
    "tags": []
   },
   "outputs": [
    {
     "name": "stdout",
     "output_type": "stream",
     "text": [
      "dog,cat,pig,hourse\n"
     ]
    }
   ],
   "source": [
    "animals = [\"dog\", \"cat\", \"pig\", \"hourse\"]\n",
    "\n",
    "animals_str = \",\".join(animals)\n",
    "\n",
    "print(animals_str)"
   ]
  },
  {
   "cell_type": "markdown",
   "id": "6fd1f8d6",
   "metadata": {},
   "source": [
    "文字列を置き換える操作の場合、いろいろな方法がありますが、代表的なものとしてreplace()を紹介します。"
   ]
  },
  {
   "cell_type": "code",
   "execution_count": 40,
   "id": "b80ed73d",
   "metadata": {
    "tags": []
   },
   "outputs": [
    {
     "name": "stdout",
     "output_type": "stream",
     "text": [
      "one two three four five six seven\n"
     ]
    }
   ],
   "source": [
    "original_str = \"one two three for five six seven\"\n",
    "\n",
    "replace_str = original_str.replace(\"for\", \"four\")\n",
    "\n",
    "print(replace_str)"
   ]
  },
  {
   "cell_type": "markdown",
   "id": "4ee385b1",
   "metadata": {},
   "source": [
    "また限定的ですが、すべて大文字全て小文字に変換するために\n",
    "- upper()\n",
    "- lower()\n",
    "\n",
    "というものも用意されています。"
   ]
  },
  {
   "cell_type": "code",
   "execution_count": 41,
   "id": "0cb285bd",
   "metadata": {
    "tags": []
   },
   "outputs": [
    {
     "name": "stdout",
     "output_type": "stream",
     "text": [
      "upper_str:  ABCDEFGHIJKL\n",
      "lower_str:  abcdefghijkl\n"
     ]
    }
   ],
   "source": [
    "original_str = \"abCdEfgHiJKL\"\n",
    "\n",
    "upper_str = original_str.upper()\n",
    "print(\"upper_str: \", upper_str)\n",
    "\n",
    "lower_str = original_str.lower()\n",
    "print(\"lower_str: \", lower_str)"
   ]
  },
  {
   "cell_type": "markdown",
   "id": "6dfab8a9",
   "metadata": {},
   "source": [
    "[練習問題](../practice/lesson2.ipynb)"
   ]
  }
 ],
 "metadata": {
  "kernelspec": {
   "display_name": "Python 3 (ipykernel)",
   "language": "python",
   "name": "python3"
  },
  "language_info": {
   "codemirror_mode": {
    "name": "ipython",
    "version": 3
   },
   "file_extension": ".py",
   "mimetype": "text/x-python",
   "name": "python",
   "nbconvert_exporter": "python",
   "pygments_lexer": "ipython3",
   "version": "3.10.4"
  },
  "vscode": {
   "interpreter": {
    "hash": "6823027d7e29b41a4e6f28161e95b4dfbe0e8b9a6a7278f50ef7cf75c6459dbe"
   }
  }
 },
 "nbformat": 4,
 "nbformat_minor": 5
}

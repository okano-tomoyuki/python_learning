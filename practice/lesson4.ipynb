{
 "cells": [
  {
   "cell_type": "markdown",
   "id": "771f4dfd-f134-4300-af13-567e5061e91e",
   "metadata": {},
   "source": [
    "# lesson4 練習問題"
   ]
  },
  {
   "cell_type": "markdown",
   "id": "8a8c9fb8-24f9-4607-be21-76492e6491a3",
   "metadata": {},
   "source": [
    "## 4-0. 準備\n",
    "\n",
    "pandasで使用するcsvファイルをダウンロードします。<br>\n",
    "カリフォルニア州の住宅の区画についてのデータセットで、下記に詳しい説明が記載されています。<br>\n",
    "https://developers.google.com/machine-learning/crash-course/california-housing-data-description?hl=ja"
   ]
  },
  {
   "cell_type": "code",
   "execution_count": 1,
   "id": "1bcd6013-8d26-43a3-885e-c8b8ba8cae11",
   "metadata": {
    "tags": []
   },
   "outputs": [],
   "source": [
    "# pandasのwarningを抑制\n",
    "import warnings\n",
    "warnings.filterwarnings(\"ignore\")"
   ]
  },
  {
   "cell_type": "code",
   "execution_count": null,
   "id": "3624d5ab-c30f-4c18-a96c-443f552fc069",
   "metadata": {
    "tags": []
   },
   "outputs": [],
   "source": [
    "%%bash\n",
    "wget -q https://download.mlcc.google.com/mledu-datasets/california_housing_train.csv"
   ]
  },
  {
   "cell_type": "markdown",
   "id": "d8bf69b5-bc66-4a39-8039-e7f30d3f8171",
   "metadata": {},
   "source": [
    "## 4-1. ファイル読み込みと画面への表示\n",
    "\n",
    "4-0.でダウンロードしたcalifornia_housing_train.csvファイルをpandasのData Frameに格納し、<br>\n",
    "画面に表示してください。なお、pandasライブラリをimportすることを忘れないように気を付けましょう。"
   ]
  },
  {
   "cell_type": "code",
   "execution_count": 2,
   "id": "05c40e23-3229-4d76-ba7e-ba7e39230867",
   "metadata": {
    "tags": []
   },
   "outputs": [],
   "source": [
    "# ライブラリインポート処理を下記に記述してください。\n"
   ]
  },
  {
   "cell_type": "code",
   "execution_count": null,
   "id": "22d4497e-a249-4f96-9f93-2909769697bb",
   "metadata": {},
   "outputs": [],
   "source": [
    "# csvファイルをpandasのData Frameに格納する処理を記述してください。\n"
   ]
  },
  {
   "cell_type": "code",
   "execution_count": null,
   "id": "576fb4f6-32bc-473e-bbc6-2d410c776ff6",
   "metadata": {},
   "outputs": [],
   "source": [
    "# DataFrameを画面に表示する処理を記述してください。\n"
   ]
  },
  {
   "cell_type": "markdown",
   "id": "16121ccb-da1b-4f83-a80c-df54bcfc1653",
   "metadata": {},
   "source": [
    "## 4-2.各種統計量の確認\n",
    "\n",
    "Data Frameを確認し、統計データを確認してみましょう。\n",
    "\n",
    "1. 平均値・最大値・最小値・分散・標準偏差\n",
    "2. 各列どうしの相関係数\n",
    "3. 人口(population)が1000を上回っている区画数"
   ]
  },
  {
   "cell_type": "code",
   "execution_count": 6,
   "id": "c9196c23-4328-48fe-a85c-58063c011e2e",
   "metadata": {
    "tags": []
   },
   "outputs": [],
   "source": [
    "# 平均値・最大値・最小値・分散・標準偏差を確認する処理を記述してください。\n"
   ]
  },
  {
   "cell_type": "code",
   "execution_count": 7,
   "id": "05c84056-c696-40cc-aa44-0df4d0acf32c",
   "metadata": {
    "tags": []
   },
   "outputs": [],
   "source": [
    "# 各列どうしの相関係数を確認する処理を記述してください。\n"
   ]
  },
  {
   "cell_type": "code",
   "execution_count": null,
   "id": "44d4e1f2-8eab-4947-aee4-3317ed7be67c",
   "metadata": {},
   "outputs": [],
   "source": [
    "# 人口(population)が1000を上回っている区画数を確認するための処理を記述してください。\n"
   ]
  },
  {
   "cell_type": "markdown",
   "id": "1cd68440-c90b-43a5-841b-db70d84596bf",
   "metadata": {},
   "source": [
    "## 4-3.データフレームの操作\n",
    "\n",
    "Data Frameを以下の条件で絞り込みを行ってください。\n",
    "\n",
    "1. 1001行目~2000行目までのデータ\n",
    "2. 経度が-118°以上かつ緯度33°以上のデータ\n",
    "\n",
    "Data Frameに以下の列を追加してください。\n",
    "\n",
    "3. 各区画の人口当たりの部屋数\n",
    "4. 人口について標準化した列\n",
    "\n",
    "ここでの標準化とは下記の式であらわされる操作のことです。\n",
    "\n",
    "$$\n",
    "Z = \\frac{x-\\bar{x}}{s}\n",
    "$$\n",
    "\n",
    "$$\n",
    "x:観測値, \\bar{x}:観測値の平均値, s:観測値の標準偏差, Z:標準化された値\n",
    "$$"
   ]
  },
  {
   "cell_type": "code",
   "execution_count": 8,
   "id": "ecc6a7e1-bba9-48ae-aef9-fed0d2956cc7",
   "metadata": {
    "tags": []
   },
   "outputs": [],
   "source": [
    "# 1001行目~2000行目のデータを絞り込む処理を記述してください。\n"
   ]
  },
  {
   "cell_type": "code",
   "execution_count": null,
   "id": "45183239-86f6-4ad1-a6b6-c201cd6ed48a",
   "metadata": {},
   "outputs": [],
   "source": [
    "# 経度が-118°以上かつ緯度33°以上のデータで絞り込む処理を記述してください。\n"
   ]
  },
  {
   "cell_type": "code",
   "execution_count": null,
   "id": "2e3dbf0f-cab9-43d7-bd49-c90f6bfcc06c",
   "metadata": {},
   "outputs": [],
   "source": [
    "# 各区画の人口当たりの部屋数用の列を追加する処理を記述してください。\n"
   ]
  },
  {
   "cell_type": "code",
   "execution_count": 9,
   "id": "164616c4-3549-4eb2-8b92-cbf3eb5e73c9",
   "metadata": {
    "tags": []
   },
   "outputs": [],
   "source": [
    "# 人口について標準化する処理を記述してください。\n"
   ]
  },
  {
   "cell_type": "markdown",
   "id": "ecdc8af7-e87d-48cb-8714-8c1627c06ccf",
   "metadata": {},
   "source": [
    "## 4-4.データフレームの保存\n",
    "\n",
    "4-3.で作成したData Frameをcsvファイルで保存してください。"
   ]
  },
  {
   "cell_type": "code",
   "execution_count": null,
   "id": "1e7ed957-1481-4662-95db-fb49b8add456",
   "metadata": {},
   "outputs": [],
   "source": [
    "# csvファイルで保存する処理を記述してください。\n"
   ]
  },
  {
   "cell_type": "markdown",
   "id": "24505723-7dd6-48f9-9f91-8e75efe30254",
   "metadata": {},
   "source": [
    "## 4-5.グラフ描画\n",
    "\n",
    "人口(population)と収入の中央値(median_incom)についてそれぞれ正規化し、グラフにプロットしてください。"
   ]
  },
  {
   "cell_type": "code",
   "execution_count": null,
   "id": "d3138c5d-80ea-442a-8dec-bc256dea6645",
   "metadata": {},
   "outputs": [],
   "source": [
    "# 正規化/グラフ描画処理を記述してください。\n"
   ]
  },
  {
   "cell_type": "markdown",
   "id": "67be3509-ec5d-486d-a70c-fe0ab63aee77",
   "metadata": {},
   "source": [
    "[解答](../answer/lesson4.ipynb)"
   ]
  }
 ],
 "metadata": {
  "kernelspec": {
   "display_name": "Python 3 (ipykernel)",
   "language": "python",
   "name": "python3"
  },
  "language_info": {
   "codemirror_mode": {
    "name": "ipython",
    "version": 3
   },
   "file_extension": ".py",
   "mimetype": "text/x-python",
   "name": "python",
   "nbconvert_exporter": "python",
   "pygments_lexer": "ipython3",
   "version": "3.10.4"
  }
 },
 "nbformat": 4,
 "nbformat_minor": 5
}

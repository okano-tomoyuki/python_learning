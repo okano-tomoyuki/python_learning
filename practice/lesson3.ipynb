{
 "cells": [
  {
   "cell_type": "markdown",
   "id": "05604e53-ad59-4c9a-a1b1-18ccd210089e",
   "metadata": {},
   "source": [
    "# lesson3 練習問題"
   ]
  },
  {
   "cell_type": "markdown",
   "id": "dd092902-b00f-40e8-a674-529c55062dda",
   "metadata": {},
   "source": [
    "## 1. \n",
    "\n",
    "xに正の数を入れると同じ値を、0以下の値を入れると0を返却する関数を作成してください。\n",
    "\n",
    "$\n",
    "\\begin{equation}\n",
    "  f(x)=\n",
    "  \\begin{cases}\n",
    "    x & \\text{$x>0$} \\\\\n",
    "    0 & \\text{$x=<0$} \\\\\n",
    "  \\end{cases}\n",
    "\\end{equation}\n",
    "$"
   ]
  },
  {
   "cell_type": "code",
   "execution_count": 10,
   "id": "043e7558-4a3d-40f9-bc78-439aa47ae69f",
   "metadata": {
    "tags": []
   },
   "outputs": [],
   "source": [
    "# ここで関数を定義してください。\n",
    "def minus_cut(inp) :\n",
    "    ans = inp if inp>0.0 else 0.0\n",
    "    return ans "
   ]
  },
  {
   "cell_type": "code",
   "execution_count": 12,
   "id": "c924b095-e130-4611-81a5-ed136cb79760",
   "metadata": {
    "tags": []
   },
   "outputs": [
    {
     "name": "stdin",
     "output_type": "stream",
     "text": [
      "input: -1\n"
     ]
    },
    {
     "name": "stdout",
     "output_type": "stream",
     "text": [
      "0.0\n"
     ]
    }
   ],
   "source": [
    "# ここで関数を使用してください。\n",
    "x=float(input(\"input:\"))\n",
    "y=minus_cut(x)\n",
    "print(y)"
   ]
  },
  {
   "cell_type": "markdown",
   "id": "ebc273eb-9d46-4be6-a408-2ff25bdb68e8",
   "metadata": {},
   "source": [
    "## 2.\n",
    "以下のような文字列のリストがあります。\n",
    "\n",
    "``` python\n",
    "input_food_list = [\"tomato\", \"apple\", \"beef\", \"lemon\", \"grape\", \"carrot\", \"squash\", \"pork\"]\n",
    "```\n",
    "\n",
    "全ての要素を大文字に変換した以下のリストを得るための変換関数を作成してください。\n",
    "\n",
    "``` python\n",
    "output_food_list = ['TOMATO', 'APPLE', 'BEEF', 'LEMON', 'GRAPE', 'CARROT', 'SQUASH', 'PORK']\n",
    "```"
   ]
  },
  {
   "cell_type": "code",
   "execution_count": 26,
   "id": "d8542cc2-17fb-4893-b5ab-6fdeff0839ce",
   "metadata": {
    "tags": []
   },
   "outputs": [],
   "source": [
    "# 関数をここに定義してください。\n",
    "def upper_cheang( inp ) :\n",
    "    ans = inp.upper()\n",
    "    return ans\n"
   ]
  },
  {
   "cell_type": "code",
   "execution_count": 30,
   "id": "2ac08a28-a7fa-4adf-a010-c51426b43312",
   "metadata": {
    "tags": []
   },
   "outputs": [
    {
     "name": "stdout",
     "output_type": "stream",
     "text": [
      "8\n",
      "['TOMATO', 'APPLE', 'BEEF', 'LEMON', 'GRAPE', 'CARROT', 'SQUASH']\n"
     ]
    }
   ],
   "source": [
    "# ここで関数を使用してください。\n",
    "input_food_list = [\"tomato\", \"apple\", \"beef\", \"lemon\", \"grape\", \"carrot\", \"squash\", \"pork\"]\n",
    "output_food_list = []\n",
    "\n",
    "print( len(input_food_list) )\n",
    "for n in range(0, len(input_food_list)-1, 1 ) :\n",
    "    #print(input_food_list[n])\n",
    "    output_food_list.append( upper_cheang(input_food_list[n]) )\n",
    "    #print(output_food_list[n])\n",
    "print(output_food_list)"
   ]
  },
  {
   "cell_type": "markdown",
   "id": "837ce40b-256e-4b28-8dc3-22b4a0bc35ae",
   "metadata": {
    "tags": []
   },
   "source": [
    "## 3.\n",
    "\n",
    "まず、BACKLOGに上がっているファイルを下記プログラムでダウンロードします。<br>\n",
    "ファイルの保存先は開いているファイルのあるディレクトリ内のdata/backlogの下にsample.logという名前で保存されています。"
   ]
  },
  {
   "cell_type": "code",
   "execution_count": 23,
   "id": "62fb9d0f-13e7-4ebb-813b-bf165733627a",
   "metadata": {
    "tags": []
   },
   "outputs": [],
   "source": [
    "import sys\n",
    "import os\n",
    "sys.path.append(os.pardir)\n",
    "from lib.backlog import Backlog\n",
    "\n",
    "ORG = os.environ[\"BACKLOG_ORG\"]\n",
    "API_KEY = os.environ[\"BACKLOG_API_KEY\"]\n",
    "PJ_ID = os.environ[\"PROJECT_ID\"]\n",
    "backlog = Backlog(organization=ORG, api_key=API_KEY, project_id=PJ_ID)\n",
    "backlog.get_file(target_dir=\"GNSS\",save_dir=\"./data/backlog\", meta={\"id\":33712451,\"name\":\"sample.log\"})"
   ]
  },
  {
   "cell_type": "markdown",
   "id": "94c1d689-89d7-4cef-becf-c97b680d71b3",
   "metadata": {},
   "source": [
    "下記を実現するプログラムを作成してください。\n",
    "- 3-1. ファイルを読み込み画面に表示してください。\n",
    "- 3-2. ファイルを一行ずつ格納したリストを作成してください。\n",
    "- 3-3. 各行のうち、先頭が\"$GPHDT\"で開始するもののみを格納したリストを作成してください。\n",
    "- 3-4. 3-3.で作成したリストをファイルに保存してください。場所は任意です。ただし、改行をきちんと入れてください。"
   ]
  },
  {
   "cell_type": "code",
   "execution_count": null,
   "id": "f2ce0427-a6eb-4f31-8f51-b8244e2768e0",
   "metadata": {},
   "outputs": [],
   "source": [
    "# 3-1.のプログラムを記述してください。"
   ]
  },
  {
   "cell_type": "code",
   "execution_count": null,
   "id": "89744de6-7fd7-4107-ac3c-c9d7a6598b94",
   "metadata": {},
   "outputs": [],
   "source": [
    "# 3-2.のプログラムを記述してください。"
   ]
  },
  {
   "cell_type": "code",
   "execution_count": null,
   "id": "a34964ce-6deb-415d-80ec-c1f3007ec320",
   "metadata": {},
   "outputs": [],
   "source": [
    "# 3-3.のプログラムを記述してください。"
   ]
  },
  {
   "cell_type": "code",
   "execution_count": null,
   "id": "3ce007ee-1b5d-4469-ad59-f60cc85659e6",
   "metadata": {},
   "outputs": [],
   "source": [
    "# 3-4.のプログラムを記述してください。"
   ]
  },
  {
   "cell_type": "markdown",
   "id": "e7694050",
   "metadata": {},
   "source": [
    "[解答](../answer/lesson3.ipynb)"
   ]
  }
 ],
 "metadata": {
  "kernelspec": {
   "display_name": "Python 3 (ipykernel)",
   "language": "python",
   "name": "python3"
  },
  "language_info": {
   "codemirror_mode": {
    "name": "ipython",
    "version": 3
   },
   "file_extension": ".py",
   "mimetype": "text/x-python",
   "name": "python",
   "nbconvert_exporter": "python",
   "pygments_lexer": "ipython3",
   "version": "3.10.4"
  }
 },
 "nbformat": 4,
 "nbformat_minor": 5
}

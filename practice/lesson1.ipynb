{
 "cells": [
  {
   "cell_type": "markdown",
   "id": "36d17c42",
   "metadata": {},
   "source": [
    "# lesson1 練習問題"
   ]
  },
  {
   "cell_type": "markdown",
   "id": "48a1dbdd-d16b-4719-b70a-db5720d81372",
   "metadata": {},
   "source": [
    "### 1. 画面に「Good Morning」と出力させてください。"
   ]
  },
  {
   "cell_type": "code",
   "execution_count": null,
   "id": "2bf4f4bb",
   "metadata": {},
   "outputs": [],
   "source": []
  },
  {
   "cell_type": "markdown",
   "id": "eba8afa8-c668-465a-854f-692fc65677f0",
   "metadata": {
    "tags": []
   },
   "source": [
    "### 2.画面に下記計算結果を出力させてください。\n",
    "\n",
    "- 5+2\n",
    "- 5-2\n",
    "- 5×2\n",
    "- 5÷2 (小数点以下を含む)\n",
    "- 5÷2 (小数点以下を含まない)\n",
    "- 5÷2 の余り\n",
    "- 5の2乗"
   ]
  },
  {
   "cell_type": "code",
   "execution_count": null,
   "id": "cd3fa057-75aa-476a-9095-142728d017b2",
   "metadata": {},
   "outputs": [],
   "source": []
  },
  {
   "cell_type": "markdown",
   "id": "86c7678c-f446-42de-80f4-06b6754bee75",
   "metadata": {},
   "source": [
    "### 3.下記のように果物の名前が配列で与えられています。\n",
    "\n",
    "``` python\n",
    "fruits = [\"apple\",\"banana\",\"orange\"]\n",
    "```\n",
    "\n",
    "- 1番最初の要素\"apple\"を取り出して画面に出力してください。\n",
    "- fruitsの要素数を画面に出力してください。\n",
    "- 1番最後の要素に\"melon\"を追加してください。"
   ]
  },
  {
   "cell_type": "code",
   "execution_count": null,
   "id": "2dd3025a-9218-44d0-9a9b-9efeebb1a3e0",
   "metadata": {},
   "outputs": [],
   "source": [
    "fruits = [\"apple\",\"banana\",\"orange\"]\n"
   ]
  },
  {
   "cell_type": "markdown",
   "id": "84c00c80-2c24-4c53-b002-775cc7b110ed",
   "metadata": {},
   "source": [
    "### 4. 以下のようなリストが与えられています。\n",
    "\n",
    "``` python\n",
    "numbers = [[1, \"two\", 3], [4, 5.25, \"6\"], [7.12, 8, [9, 10, \"eleven\"]]]\n",
    "```\n",
    "\n",
    "- \"two\"を取り出してください\n",
    "- \"eleven\"の後ろに\"twelve\"要素を追加してください。"
   ]
  },
  {
   "cell_type": "code",
   "execution_count": 6,
   "id": "855eea58-0bc1-4ab4-aabd-b19ee4296db0",
   "metadata": {
    "tags": []
   },
   "outputs": [],
   "source": [
    "numbers = [[1, \"two\", 3], [4, 5.25, \"6\"], [7.12, 8, [9, 10, \"eleven\"]]]\n"
   ]
  },
  {
   "cell_type": "markdown",
   "id": "4df9e757",
   "metadata": {},
   "source": [
    "[解答](../answer/lesson1.ipynb)"
   ]
  }
 ],
 "metadata": {
  "kernelspec": {
   "display_name": "Python 3 (ipykernel)",
   "language": "python",
   "name": "python3"
  },
  "language_info": {
   "codemirror_mode": {
    "name": "ipython",
    "version": 3
   },
   "file_extension": ".py",
   "mimetype": "text/x-python",
   "name": "python",
   "nbconvert_exporter": "python",
   "pygments_lexer": "ipython3",
   "version": "3.10.4"
  },
  "vscode": {
   "interpreter": {
    "hash": "6823027d7e29b41a4e6f28161e95b4dfbe0e8b9a6a7278f50ef7cf75c6459dbe"
   }
  }
 },
 "nbformat": 4,
 "nbformat_minor": 5
}

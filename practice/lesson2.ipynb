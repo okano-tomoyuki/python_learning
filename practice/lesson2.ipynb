{
 "cells": [
  {
   "cell_type": "markdown",
   "id": "45169326-8650-4eb7-8f43-2e928b73a299",
   "metadata": {},
   "source": [
    "# lesson2 練習問題"
   ]
  },
  {
   "cell_type": "markdown",
   "id": "0417dee4",
   "metadata": {},
   "source": [
    "## 基本問題"
   ]
  },
  {
   "cell_type": "markdown",
   "id": "f9bc1e59",
   "metadata": {},
   "source": [
    "### 1. personsリストがあります。\n",
    "\n",
    "```python\n",
    "persons = [\"Alice\", \"Bob\", \"Carol\", \"Dave\", \"Ellen\", \"Frank\"]\n",
    "```\n",
    "- [\"Carol\",\"Dave\",\"Ellen\"]をスライスを使って取得してください。\n",
    "- \"Dave\"のインデックスを取得してください。"
   ]
  },
  {
   "cell_type": "code",
   "execution_count": null,
   "id": "e91bdace",
   "metadata": {},
   "outputs": [],
   "source": [
    "persons = [\"Alice\", \"Bob\", \"Carol\", \"Dave\", \"Ellen\", \"Frank\"]\n",
    "\n"
   ]
  },
  {
   "cell_type": "markdown",
   "id": "a8a1b219",
   "metadata": {},
   "source": [
    "### 2. ポケモンの日本語名をキーに、英語名を値としたpokemonsディクショナリがあります。\n",
    "``` python\n",
    "pokemons = {\"ピカチュウ\":\"Pikachu\", \"カビゴン\":\"Snorlax\", \"プリン\":\"Jigglypuff\", \"イワーク\":\"Onix\" }\n",
    "```\n",
    "- \"カビゴン\"の英語名を取り出してください。\n",
    "- \"メタモン\"の英語名は\"Ditto\"です。pokemonsディクショナリにメタモンを追加してください。"
   ]
  },
  {
   "cell_type": "code",
   "execution_count": null,
   "id": "bda87983",
   "metadata": {},
   "outputs": [],
   "source": [
    "pokemons = {\"ピカチュウ\":\"Pikachu\", \"カビゴン\":\"Snorlax\", \"プリン\":\"Jigglypuff\", \"イワーク\":\"Onix\" }\n",
    "\n"
   ]
  },
  {
   "cell_type": "markdown",
   "id": "ae5484b1",
   "metadata": {},
   "source": [
    "### 3. 任意の文字列input_numberがあります。以下の条件で分岐処理を記述してください。\n",
    "\n",
    "1. input_numberが3で割り切れる場合、画面に\"3の倍数\"と表示する。\n",
    "2. input_numberが5で割り切れる場合、画面に\"5の倍数\"と表示する。\n",
    "3. input_numberが3でも5でも割り切れる場合、画面に\"15の倍数\"と表示する。\n",
    "4. input_numberが1,2,3のいずれの条件も満たさない場合、画面に\"それ以外\"と表示する。"
   ]
  },
  {
   "cell_type": "code",
   "execution_count": null,
   "id": "39f3961e",
   "metadata": {},
   "outputs": [],
   "source": [
    "input_number = 6 # いろんな数字で試してみてください。\n",
    "\n"
   ]
  },
  {
   "cell_type": "markdown",
   "id": "aeb917f1",
   "metadata": {},
   "source": [
    "### 4-1. personsリストについて以下の反復処理を行ってください。\n",
    "``` python\n",
    "persons = [\"Alice\", \"Bob\", \"Carol\", \"Dave\", \"Ellen\", \"Frank\"]\n",
    "```\n",
    "- 画面に以下のように表示させてください。(値について繰り返し)\n",
    "\n",
    "\n",
    "\"Hello Alice\"<br>\n",
    "\"Hello Bob\"<br>\n",
    "\"Hello Carol\"<br>\n",
    "...\n",
    "\n",
    "- 画面に以下のように表示させてください。(インデックスと値について繰り返し)\n",
    "\n",
    "\"id: 1, name: Alice\"<br>\n",
    "\"id: 2, name: Bob\"<br>\n",
    "\"id: 3, name: Carol\"<br>\n",
    "...\n"
   ]
  },
  {
   "cell_type": "code",
   "execution_count": null,
   "id": "3e288e58",
   "metadata": {},
   "outputs": [],
   "source": [
    "persons = [\"Alice\", \"Bob\", \"Carol\", \"Dave\", \"Ellen\", \"Frank\"]\n",
    "\n"
   ]
  },
  {
   "cell_type": "markdown",
   "id": "c3569ed0",
   "metadata": {
    "tags": []
   },
   "source": [
    "### 4-2.pokemonsディクショナリについて以下の反復処理を行ってください。\n",
    "``` python\n",
    "pokemons = {\"ピカチュウ\":\"Pikachu\", \"カビゴン\":\"Snorlax\", \"プリン\":\"Jigglypuff\", \"イワーク\":\"Onix\" }\n",
    "```\n",
    "- 画面に以下のように表示させてください。(キーについて繰り返し)\n",
    "\n",
    "\"ピカチュウ\"<br>\n",
    "\"カビゴン\"<br>\n",
    "\"プリン\"<br>\n",
    "\"イワーク\"\n",
    "\n",
    "- 画面に以下のように表示してください。(値について繰り返し)\n",
    "\n",
    "\"Pikachu\"<br>\n",
    "\"Snorlax\"<br>\n",
    "\"Jigglypuff\"<br>\n",
    "\"Onix\"\n",
    "\n",
    "- 画面に以下のように表示してください。(キーと値について繰り返し)\n",
    "\n",
    "\"ピカチュウ:Pikachu\"<br>\n",
    "\"カビゴン:Snorlax\"<br>\n",
    "\"プリン:Jigglypuff\"<br>\n",
    "\"イワーク:Onix\""
   ]
  },
  {
   "cell_type": "code",
   "execution_count": null,
   "id": "c27daebe-06b7-4370-8fc4-95ae8a54460a",
   "metadata": {},
   "outputs": [],
   "source": [
    "pokemons = {\"ピカチュウ\":\"Pikachu\", \"カビゴン\":\"Snorlax\", \"プリン\":\"Jigglypuff\", \"イワーク\":\"Onix\" }\n",
    "\n"
   ]
  },
  {
   "cell_type": "markdown",
   "id": "16a2a5d8",
   "metadata": {
    "tags": []
   },
   "source": [
    "### 5. 以下のように文字列を\" \"(スペース)区切りでつないだ文字列があります。\n",
    "\n",
    "``` python\n",
    "file_names_str = \"one.csv two.txt three.xlsx four.pptx five.csv six.html seven.xlsx\"\n",
    "```\n",
    "- 区切り文字(スペース)で分割した文字列の以下のようなリストを作成してください。\n",
    "``` python\n",
    "file_names = [\"one.csv\", \"two.txt\", \"three.xlsx\" , \"four.pptx\", \"five.csv\", \"six.html\", \"seven.xlsx\"]\n",
    "```\n",
    "- 区切り文字を\"-\"(ハイフン)に変換し、連結した文字列を作成してください。\n"
   ]
  },
  {
   "cell_type": "code",
   "execution_count": null,
   "id": "5221bd6f-8945-4e5a-bc6b-6668208bdba5",
   "metadata": {},
   "outputs": [],
   "source": [
    "file_names_str = \"one.csv two.txt three.xlsx four.pptx five.csv six.html seven.xlsx\"\n",
    "\n"
   ]
  },
  {
   "cell_type": "markdown",
   "id": "d482f87d",
   "metadata": {},
   "source": [
    "## 発展問題"
   ]
  },
  {
   "cell_type": "markdown",
   "id": "46d4b60e",
   "metadata": {},
   "source": [
    "### 6. 以下のようなassets(資産)ディクショナリがあります。\n",
    "\n",
    "``` python\n",
    "assets = {\n",
    "    \"house\":{\n",
    "        \"age\" : {\n",
    "            \"value\":10,\n",
    "            \"unit\": \"year\"\n",
    "        },\n",
    "        \"price\" : 30000000\n",
    "    },\n",
    "    \"car\":{\n",
    "        \"color\" : \"black\",\n",
    "        \"price\": 1000000\n",
    "    }\n",
    "}\n",
    "```\n",
    "\n",
    "- 家(\"house\")と車(\"car\")の値段の合計を計算してください。"
   ]
  },
  {
   "cell_type": "code",
   "execution_count": 1,
   "id": "59de480d-7d0e-4c65-9bcc-91386804937a",
   "metadata": {},
   "outputs": [],
   "source": [
    "assets = {\n",
    "    \"house\":{\n",
    "        \"age\" : {\n",
    "            \"value\":10,\n",
    "            \"unit\": \"year\"\n",
    "        },\n",
    "        \"price\" : 30000000\n",
    "    },\n",
    "    \"car\":{\n",
    "        \"color\" : \"black\",\n",
    "        \"price\": 1000000\n",
    "    }\n",
    "}\n",
    "\n"
   ]
  },
  {
   "cell_type": "markdown",
   "id": "33583ba3",
   "metadata": {},
   "source": [
    "### 7. 以下のようにランダムな数字が並んだリストがあるとします。\n",
    "\n",
    "``` python\n",
    "random_numbers = [26, 173, 5, 1009, 303, 84, -40, 0, 2023]\n",
    "```\n",
    "\n",
    "- このリストの要素を全て足し合わせたtotal_numberを作成してください。<br>\n",
    "- このリストから奇数だけを取り出したodd_numbersとeven_numbersを作成してください。<br>\n",
    "\n",
    "\n",
    "<details>\n",
    "<summary>ヒント</summary>\n",
    "<li>1番目の問題はtotal_numberの初期値を0として、for文の内部で足し合わせましょう。</li>\n",
    "<li>2番目の問題は反復と分岐処理を組み合わせます。</li>\n",
    "</details>"
   ]
  },
  {
   "cell_type": "code",
   "execution_count": null,
   "id": "3fa60966",
   "metadata": {},
   "outputs": [],
   "source": [
    "random_numbers = [26, 173, 5, 1009, 303, 84, -40, 0, 2023]\n",
    "\n"
   ]
  },
  {
   "cell_type": "markdown",
   "id": "1415be2c",
   "metadata": {},
   "source": [
    "### 8. 以下のように文字列を\"/\"と\",\"区切りでつないだ文字列があります。\n",
    "\n",
    "``` python\n",
    "files_name_str = \"one.csv/two.txt,three.xlsx/four.pptx,five.csv/six.html/seven.xlsx\"\n",
    "```\n",
    "\n",
    "- 区切り文字(\"/\"と\",\")で区切った以下のようなリストを作成してください。\n",
    "\n",
    "``` python\n",
    "file_names = [\"one.csv\", \"two.txt\", \"three.xlsx\" , \"four.pptx\", \"five.csv\", \"six.html\", \"seven.xlsx\"]\n",
    "```\n",
    "\n",
    "- file_namesから末尾が\".csv\"となるもののみを取り出した以下のようなリストを作成してください。\n",
    "``` python\n",
    "csv_file_names = [\"one.csv\", \"five.csv\"]\n",
    "```\n",
    "\n",
    "<details>\n",
    "<summary>ヒント</summary>\n",
    "<li>1番目の問題はまずreplace()で文字を置換した後にsplit()します。</li>\n",
    "<li>2番目の問題はスライスを使用して、末尾の4文字を取得します。</li>\n",
    "</details>"
   ]
  },
  {
   "cell_type": "code",
   "execution_count": null,
   "id": "ea37b763-ccf8-4c85-b12c-3b3ad169e151",
   "metadata": {},
   "outputs": [],
   "source": [
    "files_name_str = \"one.csv/two.txt,three.xlsx/four.pptx,five.csv/six.html/seven.xlsx\"\n",
    "\n"
   ]
  },
  {
   "cell_type": "markdown",
   "id": "8b183c40",
   "metadata": {},
   "source": [
    "[解答](../answer/lesson2.ipynb)"
   ]
  }
 ],
 "metadata": {
  "kernelspec": {
   "display_name": "Python 3 (ipykernel)",
   "language": "python",
   "name": "python3"
  },
  "language_info": {
   "codemirror_mode": {
    "name": "ipython",
    "version": 3
   },
   "file_extension": ".py",
   "mimetype": "text/x-python",
   "name": "python",
   "nbconvert_exporter": "python",
   "pygments_lexer": "ipython3",
   "version": "3.10.4"
  }
 },
 "nbformat": 4,
 "nbformat_minor": 5
}

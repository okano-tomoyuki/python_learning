{
 "cells": [
  {
   "cell_type": "markdown",
   "id": "cbbe4dc3-3807-4789-8f02-9fd1cadf3d12",
   "metadata": {},
   "source": [
    "# lesson5 練習問題"
   ]
  },
  {
   "cell_type": "markdown",
   "id": "6be5b09b-476a-466e-9a33-bb2bd56ef08d",
   "metadata": {
    "tags": []
   },
   "source": [
    "## 5-0. 準備\n",
    "\n",
    "必要なライブラリをインストールしておきます。"
   ]
  },
  {
   "cell_type": "code",
   "execution_count": null,
   "id": "b18212f9-43c2-4699-bb9c-29439c6a3368",
   "metadata": {},
   "outputs": [],
   "source": [
    "%%bash\n",
    "pip install -U pip\n",
    "pip install japanize_matplotlib"
   ]
  },
  {
   "cell_type": "markdown",
   "id": "094d0411-8cc0-44a7-ae5d-f6de40100ab2",
   "metadata": {},
   "source": [
    "matplotlibで使用するデータセットをダウンロードします。<br>\n",
    "使用するデータはワインの品質に関する統計データです。<br>\n",
    "https://archive.ics.uci.edu/ml/datasets/wine\n",
    "\n",
    "今回は白ワインのデータを使用します。"
   ]
  },
  {
   "cell_type": "code",
   "execution_count": 1,
   "id": "0c012973-1d31-4a07-9be8-bc6e963bb5da",
   "metadata": {
    "tags": []
   },
   "outputs": [],
   "source": [
    "%%bash\n",
    "\n",
    "wget -q https://archive.ics.uci.edu/ml/machine-learning-databases/wine-quality/winequality-white.csv"
   ]
  },
  {
   "cell_type": "markdown",
   "id": "711e49ac-a6ee-4284-a2f6-a05859a4fc53",
   "metadata": {},
   "source": [
    "各列のデータは以下のような値を表しています。\n",
    "\n",
    "\n",
    "||列名|説明|\n",
    "|--|--|--|\n",
    "|1|fixed acidity|酸性度|\n",
    "|2|volatile acidity|揮発性酸性度|\n",
    "|3|citric acid|クエン酸|\n",
    "|4|residual sugar|残留糖|\n",
    "|5|chlorides|塩化物|\n",
    "|6|free sulfur dioxide|遊離二酸化硫黄|\n",
    "|7|total sulfur dioxide|総二酸化硫黄|\n",
    "|8|dencity|密度|\n",
    "|9|pH|pH|\n",
    "|10|sulphates|硫酸塩|\n",
    "|11|alcohol|アルコール|\n",
    "|12|quality|品質(0:悪い-10:良い)|\n",
    "\n",
    "しかし、ダウンロードしたcsvファイルは区切り文字が\";\"になっているためdefaultではpandasで読み込めません。"
   ]
  },
  {
   "cell_type": "markdown",
   "id": "c6878de1-e884-4c2c-ac07-f8361db487ab",
   "metadata": {},
   "source": [
    "## 5-1. データの読み込み\n",
    "\n",
    "ダウンロードしたcsvファイルをpandasのデータフレームに格納してください。<br>\n",
    "アプローチとしては以下の2通り考えられますが、どちらでも構いません。<br>\n",
    "\n",
    "- 区切り文字\";\"を\",\"に置換した新たなcsvファイルを作成し、pandasから読み込む\n",
    "- csvファイルそのものを変更せず、pandasから読み込む際に区切り文字に\",\"ではなく\";\"を指定する。"
   ]
  },
  {
   "cell_type": "code",
   "execution_count": null,
   "id": "3b7af8bb-2276-46c1-8b90-0bfd1c95f6c6",
   "metadata": {},
   "outputs": [],
   "source": [
    "import pandas as pd"
   ]
  },
  {
   "cell_type": "code",
   "execution_count": 66,
   "id": "721dfff3-3aa9-42f1-907a-c6f718da3b49",
   "metadata": {
    "tags": []
   },
   "outputs": [],
   "source": [
    "# データフレームに格納するための処理を記述してください。"
   ]
  },
  {
   "cell_type": "markdown",
   "id": "92b2f63d-c812-4576-b198-348300de0c8c",
   "metadata": {},
   "source": [
    "## 5-2. データの可視化\n",
    "\n",
    "1. x軸にdensity(密度)を、y軸にalcohol(アルコール度数)をとった散布図を作成してください。ただし、x軸,y軸には軸ラベルを付けタイトルも表示してください。\n",
    "2. 1.で作成したグラフの**右隣**に、x軸にcitric acid(クエン酸)を、y軸にpHをとった散布図を作成してください。\n",
    "3. quality(品質)について各値が全体に対してどの程度の割合を占めているかわかるようなグラフを作成してください。(ヒストグラムや円グラフ等)"
   ]
  },
  {
   "cell_type": "code",
   "execution_count": 55,
   "id": "89189f09-204b-453a-b6df-b905093cd1f4",
   "metadata": {
    "tags": []
   },
   "outputs": [],
   "source": [
    "import matplotlib.pyplot as plt\n",
    "import japanize_matplotlib"
   ]
  },
  {
   "cell_type": "code",
   "execution_count": 65,
   "id": "95b35951-1086-4fa0-a1d9-cd8492ada389",
   "metadata": {
    "tags": []
   },
   "outputs": [],
   "source": [
    "# 1.の解答を記述してください。"
   ]
  },
  {
   "cell_type": "code",
   "execution_count": 64,
   "id": "2e8bab9b-5b6c-4a57-8c71-a77e86fa03ea",
   "metadata": {
    "tags": []
   },
   "outputs": [],
   "source": [
    "# 2.の解答を記述してください。"
   ]
  },
  {
   "cell_type": "code",
   "execution_count": 63,
   "id": "a5b702a9-bc28-4be0-bbf6-553d49dbb49b",
   "metadata": {
    "tags": []
   },
   "outputs": [],
   "source": [
    "# 3.の解答を記述してください。"
   ]
  },
  {
   "cell_type": "markdown",
   "id": "05aa747a-161b-4de7-8049-13bd4d2f025a",
   "metadata": {},
   "source": [
    "[解答](../answer/lesson5.ipynb)"
   ]
  }
 ],
 "metadata": {
  "kernelspec": {
   "display_name": "Python 3 (ipykernel)",
   "language": "python",
   "name": "python3"
  },
  "language_info": {
   "codemirror_mode": {
    "name": "ipython",
    "version": 3
   },
   "file_extension": ".py",
   "mimetype": "text/x-python",
   "name": "python",
   "nbconvert_exporter": "python",
   "pygments_lexer": "ipython3",
   "version": "3.10.4"
  }
 },
 "nbformat": 4,
 "nbformat_minor": 5
}

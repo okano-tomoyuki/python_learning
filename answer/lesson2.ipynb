{
 "cells": [
  {
   "cell_type": "markdown",
   "id": "45169326-8650-4eb7-8f43-2e928b73a299",
   "metadata": {},
   "source": [
    "# lesson2 練習問題解答"
   ]
  },
  {
   "cell_type": "markdown",
   "id": "0417dee4",
   "metadata": {},
   "source": [
    "## 基本問題"
   ]
  },
  {
   "cell_type": "markdown",
   "id": "f9bc1e59",
   "metadata": {},
   "source": [
    "### 1. personsリストがあります。\n",
    "```python\n",
    "persons = [\"Alice\", \"Bob\", \"Carol\", \"Dave\", \"Ellen\", \"Frank\"]\n",
    "```\n",
    "- [\"Carol\",\"Dave\",\"Ellen\"]をスライスを使って取得してください。\n",
    "- \"Dave\"のインデックスを取得してください。"
   ]
  },
  {
   "cell_type": "code",
   "execution_count": 1,
   "id": "e91bdace",
   "metadata": {
    "tags": []
   },
   "outputs": [
    {
     "name": "stdout",
     "output_type": "stream",
     "text": [
      "['Carol', 'Dave', 'Ellen']\n",
      "3\n"
     ]
    }
   ],
   "source": [
    "persons = [\"Alice\", \"Bob\", \"Carol\", \"Dave\", \"Ellen\", \"Frank\"]\n",
    "\n",
    "print(persons[2:5])\n",
    "print(persons.index(\"Dave\"))"
   ]
  },
  {
   "cell_type": "markdown",
   "id": "a8a1b219",
   "metadata": {},
   "source": [
    "### 2. ポケモンの日本語名をキーに、英語名を値としたpokemonsディクショナリがあります。\n",
    "``` python\n",
    "pokemons = {\"ピカチュウ\":\"Pikachu\", \"カビゴン\":\"Snorlax\", \"プリン\":\"Jigglypuff\", \"イワーク\":\"Onix\" }\n",
    "```\n",
    "- \"カビゴン\"の英語名を取り出してください。\n",
    "- \"メタモン\"の英語名は\"Ditto\"です。pokemonsディクショナリにメタモンを追加してください。"
   ]
  },
  {
   "cell_type": "code",
   "execution_count": 2,
   "id": "bda87983",
   "metadata": {
    "tags": []
   },
   "outputs": [
    {
     "name": "stdout",
     "output_type": "stream",
     "text": [
      "Snorlax\n",
      "{'ピカチュウ': 'Pikachu', 'カビゴン': 'Snorlax', 'プリン': 'Jigglypuff', 'イワーク': 'Onix', 'メタモン': 'Ditto'}\n"
     ]
    }
   ],
   "source": [
    "pokemons = {\"ピカチュウ\":\"Pikachu\", \"カビゴン\":\"Snorlax\", \"プリン\":\"Jigglypuff\", \"イワーク\":\"Onix\" }\n",
    "\n",
    "print(pokemons[\"カビゴン\"])\n",
    "pokemons[\"メタモン\"] = \"Ditto\"\n",
    "print(pokemons)"
   ]
  },
  {
   "cell_type": "markdown",
   "id": "ae5484b1",
   "metadata": {},
   "source": [
    "### 3. 任意の整数input_numberがあります。以下の条件で分岐処理を記述してください。\n",
    "\n",
    "1. input_numberが3で割り切れる場合、画面に\"3の倍数\"と表示する。\n",
    "2. input_numberが5で割り切れる場合、画面に\"5の倍数\"と表示する。\n",
    "3. input_numberが3でも5でも割り切れる場合、画面に\"3の倍数かつ5の倍数\"と表示する。\n",
    "4. input_numberが1,2,3のいずれの条件も満たさない場合、画面に\"それ以外\"と表示する。"
   ]
  },
  {
   "cell_type": "code",
   "execution_count": 3,
   "id": "39f3961e",
   "metadata": {
    "tags": []
   },
   "outputs": [
    {
     "name": "stdout",
     "output_type": "stream",
     "text": [
      "3の倍数\n"
     ]
    }
   ],
   "source": [
    "input_number = 6 # いろんな数字で試してみてください。\n",
    "\n",
    "# ifで分岐させる順序が大事です。(15の倍数かどうかを先に評価する。)\n",
    "if input_number % 15 == 0:\n",
    "    print(\"3の倍数かつ5の倍数\")\n",
    "else:\n",
    "    if input_number % 3 == 0:\n",
    "        print(\"3の倍数\")\n",
    "    elif input_number % 5 == 0:\n",
    "        print(\"5の倍数\")\n",
    "    else:\n",
    "        print(\"それ以外\")"
   ]
  },
  {
   "cell_type": "markdown",
   "id": "aeb917f1",
   "metadata": {},
   "source": [
    "### 4-1. personsリストについて以下の反復処理を行ってください。\n",
    "``` python\n",
    "persons = [\"Alice\", \"Bob\", \"Carol\", \"Dave\", \"Ellen\", \"Frank\"]\n",
    "```\n",
    "- 画面に以下のように表示させてください。(値について繰り返し)\n",
    "\n",
    "\n",
    "\"Hello Alice\"<br>\n",
    "\"Hello Bob\"<br>\n",
    "\"Hello Carol\"<br>\n",
    "...\n",
    "\n",
    "- 画面に以下のように表示させてください。(インデックスと値について繰り返し)\n",
    "\n",
    "\"id: 1, name: Alice\"<br>\n",
    "\"id: 2, name: Bob\"<br>\n",
    "\"id: 3, name: Carol\"<br>\n",
    "...\n"
   ]
  },
  {
   "cell_type": "code",
   "execution_count": 6,
   "id": "3e288e58",
   "metadata": {
    "tags": []
   },
   "outputs": [
    {
     "name": "stdout",
     "output_type": "stream",
     "text": [
      "Hello Alice\n",
      "Hello Bob\n",
      "Hello Carol\n",
      "Hello Dave\n",
      "Hello Ellen\n",
      "Hello Frank\n",
      "id:  1 name:  Alice\n",
      "id:  2 name:  Bob\n",
      "id:  3 name:  Carol\n",
      "id:  4 name:  Dave\n",
      "id:  5 name:  Ellen\n",
      "id:  6 name:  Frank\n"
     ]
    }
   ],
   "source": [
    "persons = [\"Alice\", \"Bob\", \"Carol\", \"Dave\", \"Ellen\", \"Frank\"]\n",
    "\n",
    "for name in persons:\n",
    "    print(\"Hello\", name)\n",
    "\n",
    "for idx, name in enumerate(persons):\n",
    "    print(\"id: \", idx+1, \"name: \", name)    # インデックスは0スタートなので+1する必要がある。"
   ]
  },
  {
   "cell_type": "markdown",
   "id": "c3569ed0",
   "metadata": {},
   "source": [
    "### 4-2.pokemonsディクショナリについて以下の反復処理を行ってください。\n",
    "``` python\n",
    "pokemons = {\"ピカチュウ\":\"Pikachu\", \"カビゴン\":\"Snorlax\", \"プリン\":\"Jigglypuff\", \"イワーク\":\"Onix\" }\n",
    "```\n",
    "- 画面に以下のように表示させてください。(キーについて繰り返し)\n",
    "\n",
    "\"ピカチュウ\"<br>\n",
    "\"カビゴン\"<br>\n",
    "\"プリン\"<br>\n",
    "\"イワーク\"\n",
    "\n",
    "- 画面に以下のように表示してください。(値について繰り返し)\n",
    "\n",
    "\"Pikachu\"<br>\n",
    "\"Snorlax\"<br>\n",
    "\"Jigglypuff\"<br>\n",
    "\"Onix\"\n",
    "\n",
    "- 画面に以下のように表示してください。(キーと値について繰り返し)\n",
    "\n",
    "\"ピカチュウ:Pikachu\"<br>\n",
    "\"カビゴン:Snorlax\"<br>\n",
    "\"プリン:Jigglypuff\"<br>\n",
    "\"イワーク:Onix\""
   ]
  },
  {
   "cell_type": "code",
   "execution_count": 8,
   "id": "eb3da990",
   "metadata": {
    "tags": []
   },
   "outputs": [
    {
     "name": "stdout",
     "output_type": "stream",
     "text": [
      "ピカチュウ\n",
      "カビゴン\n",
      "プリン\n",
      "イワーク\n",
      "Pikachu\n",
      "Snorlax\n",
      "Jigglypuff\n",
      "Onix\n",
      "ピカチュウ : Pikachu\n",
      "カビゴン : Snorlax\n",
      "プリン : Jigglypuff\n",
      "イワーク : Onix\n"
     ]
    }
   ],
   "source": [
    "pokemons = {\"ピカチュウ\":\"Pikachu\", \"カビゴン\":\"Snorlax\", \"プリン\":\"Jigglypuff\", \"イワーク\":\"Onix\" }\n",
    "\n",
    "for key in pokemons.keys():\n",
    "    print(key)\n",
    "\n",
    "for val in pokemons.values():\n",
    "    print(val)\n",
    "\n",
    "for key, val in pokemons.items():\n",
    "    print(key,\":\",val)"
   ]
  },
  {
   "cell_type": "markdown",
   "id": "43702f67",
   "metadata": {},
   "source": [
    "### 5. 以下のように文字列を\" \"(スペース)区切りでつないだ文字列があります。\n",
    "\n",
    "``` python\n",
    "file_names_str = \"one.csv two.txt three.xlsx four.pptx five.csv six.html seven.xlsx\"\n",
    "```\n",
    "- 区切り文字(スペース)で分割した文字列の以下のようなリストを作成してください。\n",
    "``` python\n",
    "file_names = [\"one.csv\", \"two.txt\", \"three.xlsx\" , \"four.pptx\", \"five.csv\", \"six.html\", \"seven.xlsx\"]\n",
    "```\n",
    "- 区切り文字を\"-\"(ハイフン)に変換し、連結した文字列を作成してください。\n"
   ]
  },
  {
   "cell_type": "code",
   "execution_count": 9,
   "id": "3427f6ea",
   "metadata": {
    "tags": []
   },
   "outputs": [
    {
     "name": "stdout",
     "output_type": "stream",
     "text": [
      "['one.csv', 'two.txt', 'three.xlsx', 'four.pptx', 'five.csv', 'six.html', 'seven.xlsx']\n",
      "one.csv-two.txt-three.xlsx-four.pptx-five.csv-six.html-seven.xlsx\n"
     ]
    }
   ],
   "source": [
    "file_names_str = \"one.csv two.txt three.xlsx four.pptx five.csv six.html seven.xlsx\"\n",
    "\n",
    "file_names = file_names_str.split(\" \") # 文字を\" \"で分割\n",
    "print(file_names)\n",
    "\n",
    "join_file_names = \"-\".join(file_names) # リストを\"-\"つなぎで結合\n",
    "print(join_file_names)\n",
    "\n",
    "# file_names_strを直接置換する方法でもOK!\n",
    "# print(file_names_str.replace(\" \", \"-\"))"
   ]
  },
  {
   "cell_type": "markdown",
   "id": "d482f87d",
   "metadata": {},
   "source": [
    "## 発展問題"
   ]
  },
  {
   "cell_type": "markdown",
   "id": "6a952c28",
   "metadata": {},
   "source": [
    "### 6. 以下のようなassets(資産)ディクショナリがあります。\n",
    "\n",
    "``` python\n",
    "assets = {\n",
    "    \"house\":{\n",
    "        \"age\" : {\n",
    "            \"value\":10,\n",
    "            \"unit\": \"year\"\n",
    "        },\n",
    "        \"price\" : 30000000\n",
    "    },\n",
    "    \"car\":{\n",
    "        \"color\" : \"black\",\n",
    "        \"price\": 1000000\n",
    "    }\n",
    "}\n",
    "```\n",
    "\n",
    "- 家(\"house\")と車(\"car\")の値段(\"price\")の合計(total_price)を計算してください。"
   ]
  },
  {
   "cell_type": "code",
   "execution_count": 10,
   "id": "59de480d-7d0e-4c65-9bcc-91386804937a",
   "metadata": {
    "tags": []
   },
   "outputs": [
    {
     "name": "stdout",
     "output_type": "stream",
     "text": [
      "31000000\n"
     ]
    }
   ],
   "source": [
    "assets = {\n",
    "    \"house\":{\n",
    "        \"age\" : {\n",
    "            \"value\":10,\n",
    "            \"unit\": \"year\"\n",
    "        },\n",
    "        \"price\" : 30000000\n",
    "    },\n",
    "    \"car\":{\n",
    "        \"color\" : \"black\",\n",
    "        \"price\": 1000000\n",
    "    }\n",
    "}\n",
    "\n",
    "house_price = assets[\"house\"][\"price\"]  #   家の値段を取得\n",
    "car_price = assets[\"car\"][\"price\"]      #   車の値段を取得\n",
    "\n",
    "total_price = house_price + car_price\n",
    "\n",
    "print(total_price)"
   ]
  },
  {
   "cell_type": "markdown",
   "id": "ed1f33cf",
   "metadata": {},
   "source": [
    "### 7. 以下のようにランダムな数字が並んだリストがあるとします。\n",
    "\n",
    "``` python\n",
    "random_numbers = [26, 173, 5, 1009, 303, 84, -40, 0, 2023]\n",
    "```\n",
    "\n",
    "- このリストの要素をすべて足し合わせたtotal_numberを作成してください。<br>\n",
    "- このリストから奇数だけを取り出したodd_numbersとeven_numbersを作成してください。\n",
    "\n",
    "\n",
    "<details>\n",
    "<summary>ヒント</summary>\n",
    "反復と分岐処理を組み合わせます。\n",
    "</details>"
   ]
  },
  {
   "cell_type": "code",
   "execution_count": 1,
   "id": "d03d5bff",
   "metadata": {
    "tags": []
   },
   "outputs": [
    {
     "name": "stdout",
     "output_type": "stream",
     "text": [
      "total_number: 3583\n",
      "odd_numbers:  [173, 5, 1009, 303, 2023]\n",
      "even_numbers:  [26, 84, -40, 0]\n"
     ]
    }
   ],
   "source": [
    "random_numbers = [26, 173, 5, 1009, 303, 84, -40, 0, 2023]\n",
    "\n",
    "total_number = 0\n",
    "\n",
    "for number in random_numbers:\n",
    "    total_number += number\n",
    "\n",
    "print(\"total_number:\", total_number)\n",
    "\n",
    "odd_numbers = []    # 空の奇数リストを作成\n",
    "even_numbers = []   # 空の偶数リストを作成\n",
    "\n",
    "for number in random_numbers:           #   random_numberの要素について繰り返し処理:\n",
    "    if number % 2 == 1:                 #       numberが奇数の時:\n",
    "        odd_numbers.append(number)      #           odd_numbersにnumberを追加\n",
    "    else:                               #       numberが偶数の時:\n",
    "        even_numbers.append(number)     #           even_numbersにnumberを追加\n",
    "        \n",
    "print(\"odd_numbers: \", odd_numbers)\n",
    "print(\"even_numbers: \", even_numbers)"
   ]
  },
  {
   "cell_type": "markdown",
   "id": "a49f2e65",
   "metadata": {},
   "source": [
    "### 8. 以下のように文字列を\"/\"と\",\"区切りでつないだ文字列があります。\n",
    "\n",
    "``` python\n",
    "files_name_str = \"one.csv/two.txt,three.xlsx/four.pptx,five.csv/six.html/seven.xlsx\"\n",
    "```\n",
    "\n",
    "- 区切り文字(\"/\"と\",\")で区切った以下のようなリストを作成してください。\n",
    "\n",
    "``` python\n",
    "file_names = [\"one.csv\", \"two.txt\", \"three.xlsx\" , \"four.pptx\", \"five.csv\", \"six.html\", \"seven.xlsx\"]\n",
    "```\n",
    "\n",
    "- file_namesから末尾が\".csv\"となるもののみを取り出した以下のようなリストを作成してください。\n",
    "``` python\n",
    "csv_file_names = [\"one.csv\", \"five.csv\"]\n",
    "```\n",
    "\n",
    "<details>\n",
    "<summary>ヒント</summary>\n",
    "<li>1番目の問題はまずreplace()で文字を置換した後にsplit()します。</li>\n",
    "<li>2番目の問題はスライスを使用して、末尾の4文字を取得します。</li>\n",
    "</details>"
   ]
  },
  {
   "cell_type": "code",
   "execution_count": 15,
   "id": "82d772a6",
   "metadata": {
    "tags": []
   },
   "outputs": [
    {
     "name": "stdout",
     "output_type": "stream",
     "text": [
      "['one.csv', 'two.txt', 'three.xlsx', 'four.pptx', 'five.csv', 'six.html', 'seven.xlsx']\n",
      "['one.csv', 'five.csv']\n"
     ]
    }
   ],
   "source": [
    "files_name_str = \"one.csv/two.txt,three.xlsx/four.pptx,five.csv/six.html/seven.xlsx\"\n",
    "\n",
    "file_names = files_name_str.replace(\"/\", \",\").split(\",\")    #   \"/\"を\",\"に置換した後\",\"で分割\n",
    "print(file_names)\n",
    "\n",
    "\n",
    "csv_file_names = []                     #   空のcsvのリストを作成\n",
    "for name in file_names:                 #   file_namesの要素について繰り返し処理:\n",
    "    if name[-4:] == \".csv\":             #       末尾が\".csv\"の場合:\n",
    "        csv_file_names.append(name)     #           csv_file_namesにnameを追加\n",
    "\n",
    "print(csv_file_names)"
   ]
  }
 ],
 "metadata": {
  "kernelspec": {
   "display_name": "Python 3 (ipykernel)",
   "language": "python",
   "name": "python3"
  },
  "language_info": {
   "codemirror_mode": {
    "name": "ipython",
    "version": 3
   },
   "file_extension": ".py",
   "mimetype": "text/x-python",
   "name": "python",
   "nbconvert_exporter": "python",
   "pygments_lexer": "ipython3",
   "version": "3.10.4"
  }
 },
 "nbformat": 4,
 "nbformat_minor": 5
}

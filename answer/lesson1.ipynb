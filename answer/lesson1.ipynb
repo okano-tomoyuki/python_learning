{
 "cells": [
  {
   "cell_type": "markdown",
   "id": "87341aea-7a16-41b1-805a-2c35bcc6e24c",
   "metadata": {
    "tags": []
   },
   "source": [
    "# lesson1 練習問題解答"
   ]
  },
  {
   "cell_type": "markdown",
   "id": "eb7ab853-c07f-4430-b2f9-60ce27834005",
   "metadata": {},
   "source": [
    "### 1. 画面に「Good Morning」と出力させてください。"
   ]
  },
  {
   "cell_type": "code",
   "execution_count": 2,
   "id": "3cb1bbe5-3a8e-4185-86e8-5a1780588adc",
   "metadata": {
    "tags": []
   },
   "outputs": [
    {
     "name": "stdout",
     "output_type": "stream",
     "text": [
      "Good Morning\n"
     ]
    }
   ],
   "source": [
    "print(\"Good Morning\")"
   ]
  },
  {
   "cell_type": "markdown",
   "id": "19405e20-e023-4989-9d1c-e3932058b888",
   "metadata": {
    "tags": []
   },
   "source": [
    "### 2.画面に下記計算結果を出力させてください。\n",
    "\n",
    "- 5+2\n",
    "- 5-2\n",
    "- 5×2\n",
    "- 5÷2 (小数点以下を含む)\n",
    "- 5÷2 (小数点以下を含まない)\n",
    "- 5÷2 の余り\n",
    "- 5の2乗"
   ]
  },
  {
   "cell_type": "code",
   "execution_count": 3,
   "id": "6dd2b140-e716-4b44-9778-bae4bbcd64ab",
   "metadata": {
    "tags": []
   },
   "outputs": [
    {
     "name": "stdout",
     "output_type": "stream",
     "text": [
      "7\n",
      "3\n",
      "10\n",
      "2.5\n",
      "2\n",
      "1\n",
      "25\n"
     ]
    }
   ],
   "source": [
    "a=5\n",
    "b=2\n",
    "\n",
    "print(a+b)\n",
    "print(a-b)\n",
    "print(a*b)\n",
    "print(a/b)\n",
    "print(a//b)\n",
    "print(a%b)\n",
    "print(a**b)"
   ]
  },
  {
   "cell_type": "markdown",
   "id": "b37a7c37-d0ed-49d7-ad98-02555d511863",
   "metadata": {},
   "source": [
    "### 3.下記のように果物の名前が配列で与えられています。\n",
    "\n",
    "``` python\n",
    "fruits = [\"apple\",\"banana\",\"orange\"]\n",
    "```\n",
    "\n",
    "- 1番最初の要素\"apple\"を取り出して画面に出力してください。\n",
    "- fruitsの要素数を画面に出力してください。\n",
    "- 1番最後の要素に\"melon\"を追加してください。"
   ]
  },
  {
   "cell_type": "code",
   "execution_count": 4,
   "id": "83af7376-91e1-4e26-b465-291040f101f9",
   "metadata": {
    "tags": []
   },
   "outputs": [
    {
     "name": "stdout",
     "output_type": "stream",
     "text": [
      "apple\n",
      "3\n",
      "['apple', 'banana', 'orange', 'melon']\n"
     ]
    }
   ],
   "source": [
    "fruits = [\"apple\",\"banana\",\"orange\"]\n",
    "\n",
    "print(fruits[0])\n",
    "print(len(fruits))\n",
    "fruits.append(\"melon\")\n",
    "print(fruits)"
   ]
  },
  {
   "cell_type": "markdown",
   "id": "d17b3719-c5b6-490c-a79d-519bb181567d",
   "metadata": {},
   "source": [
    "### 4. 以下のようなリストが与えられています。\n",
    "\n",
    "``` python\n",
    "numbers = [[1, \"two\", 3], [4, 5.25, \"6\"], [7.12, 8, [9, 10, \"eleven\"]]]\n",
    "```\n",
    "\n",
    "- \"two\"を取り出してください\n",
    "- \"eleven\"の後ろに\"twelve\"を追加してください。"
   ]
  },
  {
   "cell_type": "code",
   "execution_count": 6,
   "id": "a079a978-35df-4288-8321-3540eaea5eac",
   "metadata": {
    "tags": []
   },
   "outputs": [
    {
     "name": "stdout",
     "output_type": "stream",
     "text": [
      "two\n",
      "[[1, 'two', 3], [4, 5.25, '6'], [7.12, 8, [9, 10, 'eleven', 'twelve']]]\n"
     ]
    }
   ],
   "source": [
    "numbers = [[1, \"two\", 3], [4, 5.25, \"6\"], [7.12, 8, [9, 10, \"eleven\"]]]\n",
    "\n",
    "print(numbers[0][1])\n",
    "numbers[2][2].append(\"twelve\")\n",
    "print(numbers)"
   ]
  }
 ],
 "metadata": {
  "kernelspec": {
   "display_name": "Python 3 (ipykernel)",
   "language": "python",
   "name": "python3"
  },
  "language_info": {
   "codemirror_mode": {
    "name": "ipython",
    "version": 3
   },
   "file_extension": ".py",
   "mimetype": "text/x-python",
   "name": "python",
   "nbconvert_exporter": "python",
   "pygments_lexer": "ipython3",
   "version": "3.10.4"
  }
 },
 "nbformat": 4,
 "nbformat_minor": 5
}

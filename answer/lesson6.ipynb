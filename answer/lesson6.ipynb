{
 "cells": [
  {
   "cell_type": "code",
   "execution_count": 1,
   "id": "2ae7be3a-4f61-4a90-a1e9-b32af5bfe370",
   "metadata": {},
   "outputs": [],
   "source": [
    "import numpy as np\n",
    "import matplotlib.pyplot as plt"
   ]
  },
  {
   "cell_type": "code",
   "execution_count": 2,
   "id": "f1a2b794",
   "metadata": {},
   "outputs": [
    {
     "name": "stdout",
     "output_type": "stream",
     "text": [
      "hello\n"
     ]
    }
   ],
   "source": [
    "print(\"hello\")"
   ]
  },
  {
   "cell_type": "code",
   "execution_count": 4,
   "id": "5ff5c3ac",
   "metadata": {},
   "outputs": [
    {
     "data": {
      "text/plain": [
       "array([1, 2, 3])"
      ]
     },
     "execution_count": 4,
     "metadata": {},
     "output_type": "execute_result"
    }
   ],
   "source": [
    "sample = np.array([1,2,3])\n",
    "\n",
    "sample"
   ]
  },
  {
   "cell_type": "code",
   "execution_count": 122,
   "id": "7aec5ede",
   "metadata": {},
   "outputs": [
    {
     "data": {
      "text/plain": [
       "array([[1, 2, 3],\n",
       "       [4, 5, 6]])"
      ]
     },
     "execution_count": 122,
     "metadata": {},
     "output_type": "execute_result"
    }
   ],
   "source": [
    "sample = np.array([ [1, 2, 3],\n",
    "                    [4, 5, 6] ])\n",
    "sample"
   ]
  },
  {
   "cell_type": "code",
   "execution_count": 128,
   "id": "93c51b1a",
   "metadata": {},
   "outputs": [
    {
     "data": {
      "text/plain": [
       "array([1, 4])"
      ]
     },
     "execution_count": 128,
     "metadata": {},
     "output_type": "execute_result"
    }
   ],
   "source": [
    "sample[:, 0]"
   ]
  },
  {
   "cell_type": "code",
   "execution_count": 6,
   "id": "de58b6f6",
   "metadata": {},
   "outputs": [
    {
     "data": {
      "text/plain": [
       "array([[0., 0., 0.],\n",
       "       [0., 0., 0.],\n",
       "       [0., 0., 0.]])"
      ]
     },
     "execution_count": 6,
     "metadata": {},
     "output_type": "execute_result"
    }
   ],
   "source": [
    "sample = np.zeros((3, 3))\n",
    "\n",
    "sample"
   ]
  },
  {
   "cell_type": "code",
   "execution_count": 7,
   "id": "a9ae8dbe",
   "metadata": {},
   "outputs": [
    {
     "data": {
      "text/plain": [
       "array([[1., 1., 1.],\n",
       "       [1., 1., 1.]])"
      ]
     },
     "execution_count": 7,
     "metadata": {},
     "output_type": "execute_result"
    }
   ],
   "source": [
    "sample = np.ones((2, 3))\n",
    "\n",
    "sample"
   ]
  },
  {
   "cell_type": "code",
   "execution_count": 8,
   "id": "a41188b0",
   "metadata": {},
   "outputs": [
    {
     "data": {
      "text/plain": [
       "array([[9, 9],\n",
       "       [9, 9],\n",
       "       [9, 9]])"
      ]
     },
     "execution_count": 8,
     "metadata": {},
     "output_type": "execute_result"
    }
   ],
   "source": [
    "sample = np.full((3, 2), 9)\n",
    "sample"
   ]
  },
  {
   "cell_type": "code",
   "execution_count": 9,
   "id": "035a494d",
   "metadata": {},
   "outputs": [
    {
     "data": {
      "text/plain": [
       "array([[1., 0., 0., 0., 0.],\n",
       "       [0., 1., 0., 0., 0.],\n",
       "       [0., 0., 1., 0., 0.],\n",
       "       [0., 0., 0., 1., 0.],\n",
       "       [0., 0., 0., 0., 1.]])"
      ]
     },
     "execution_count": 9,
     "metadata": {},
     "output_type": "execute_result"
    }
   ],
   "source": [
    "sample = np.eye(5)\n",
    "\n",
    "sample"
   ]
  },
  {
   "cell_type": "code",
   "execution_count": 11,
   "id": "85eded64",
   "metadata": {},
   "outputs": [
    {
     "data": {
      "text/plain": [
       "array([0.58547161, 0.54578809, 0.84696308, 0.67537767, 0.16457935])"
      ]
     },
     "execution_count": 11,
     "metadata": {},
     "output_type": "execute_result"
    }
   ],
   "source": [
    "sample = np.random.random(5)\n",
    "\n",
    "sample"
   ]
  },
  {
   "cell_type": "code",
   "execution_count": 16,
   "id": "0fdd67cf",
   "metadata": {},
   "outputs": [
    {
     "data": {
      "text/plain": [
       "array([3.5, 5.6, 7.7, 9.8])"
      ]
     },
     "execution_count": 16,
     "metadata": {},
     "output_type": "execute_result"
    }
   ],
   "source": [
    "sample = np.arange(3.5, 10.5, 2.1)\n",
    "sample"
   ]
  },
  {
   "cell_type": "code",
   "execution_count": 18,
   "id": "9f8ea3fc",
   "metadata": {},
   "outputs": [
    {
     "data": {
      "text/plain": [
       "array([ 0. ,  2.5,  5. ,  7.5, 10. ])"
      ]
     },
     "execution_count": 18,
     "metadata": {},
     "output_type": "execute_result"
    }
   ],
   "source": [
    "sample = np.linspace(0, 10, 5)\n",
    "sample"
   ]
  },
  {
   "cell_type": "code",
   "execution_count": 22,
   "id": "35fb7449",
   "metadata": {},
   "outputs": [
    {
     "data": {
      "text/plain": [
       "array([[1, 2, 3],\n",
       "       [4, 5, 6],\n",
       "       [7, 8, 9]])"
      ]
     },
     "execution_count": 22,
     "metadata": {},
     "output_type": "execute_result"
    }
   ],
   "source": [
    "sample = np.arange(1, 10, 1)\n",
    "reshape_sample = sample.reshape(3, 3)\n",
    "reshape_sample"
   ]
  },
  {
   "cell_type": "code",
   "execution_count": 103,
   "id": "5c06389d",
   "metadata": {},
   "outputs": [
    {
     "name": "stdout",
     "output_type": "stream",
     "text": [
      "a:\n",
      " [[ 10  20 -30]\n",
      " [-40  50  60]\n",
      " [ 70  80  90]]\n",
      "b:\n",
      " [[ 1  2 -3]\n",
      " [-4  5  6]\n",
      " [ 7  8  9]]\n"
     ]
    }
   ],
   "source": [
    "a = np.array([  [ 10,  20, -30],\n",
    "                [-40,  50,  60],\n",
    "                [ 70,  80,  90]  ])\n",
    "\n",
    "b = np.array([  [ 1,  2, -3],\n",
    "                [-4,  5,  6],\n",
    "                [ 7,  8,  9]  ])\n",
    "\n",
    "print(\"a:\\n\", a)\n",
    "print(\"b:\\n\", b)"
   ]
  },
  {
   "cell_type": "code",
   "execution_count": 68,
   "id": "19212d40",
   "metadata": {},
   "outputs": [
    {
     "name": "stdout",
     "output_type": "stream",
     "text": [
      "a + b:\n",
      " [[ 11  22 -33]\n",
      " [-44  55  66]\n",
      " [ 77  88  99]]\n",
      "a - b:\n",
      " [[  9  18 -27]\n",
      " [-36  45  54]\n",
      " [ 63  72  81]]\n"
     ]
    }
   ],
   "source": [
    "print(\"a + b:\\n\", a + b)\n",
    "print(\"a - b:\\n\", a - b)"
   ]
  },
  {
   "attachments": {},
   "cell_type": "markdown",
   "id": "424a8c9a",
   "metadata": {},
   "source": [
    "NumPy配列の乗算結果については数学でよく目にする結果と異なるため注意が必要です。<br>\n",
    "ひとまず結果を確認してみます。"
   ]
  },
  {
   "cell_type": "code",
   "execution_count": 69,
   "id": "fb06e285",
   "metadata": {},
   "outputs": [
    {
     "name": "stdout",
     "output_type": "stream",
     "text": [
      "a * b:\n",
      " [[ 10  40  90]\n",
      " [160 250 360]\n",
      " [490 640 810]]\n",
      "a / b:\n",
      " [[10. 10. 10.]\n",
      " [10. 10. 10.]\n",
      " [10. 10. 10.]]\n"
     ]
    }
   ],
   "source": [
    "print(\"a * b:\\n\", a * b)\n",
    "print(\"a / b:\\n\", a / b)"
   ]
  },
  {
   "attachments": {},
   "cell_type": "markdown",
   "id": "26f030ff",
   "metadata": {},
   "source": [
    "通常の行列の乗算と言われると、下記のような行列積(ドット積)をイメージするのではないかと思います。<br>\n",
    "\n",
    "$$\n",
    "C = A \\cdot B\n",
    "$$\n",
    "\n",
    "しかし、NumPyの乗算符号(*)はアダマール積と呼ばれる要素同士の乗算で定義されています。<br>\n",
    "同様に除算符号(/)は要素同士の除算で定義されていることに注意しておきましょう。<br>\n",
    "\n",
    "ではドット積を計算したい場合はどうすればよいかというと2通りの方法があります。<br>\n",
    "一つ目はnp.dot()というメソッドを使用する方法です。"
   ]
  },
  {
   "cell_type": "code",
   "execution_count": 75,
   "id": "e45252fb",
   "metadata": {},
   "outputs": [
    {
     "name": "stdout",
     "output_type": "stream",
     "text": [
      "np.dot(a, b):\n",
      " [[-280 -120 -180]\n",
      " [ 180  650  960]\n",
      " [ 380 1260 1080]]\n"
     ]
    }
   ],
   "source": [
    "print(\"np.dot(a, b):\\n\", np.dot(a, b))"
   ]
  },
  {
   "attachments": {},
   "cell_type": "markdown",
   "id": "70e690b2",
   "metadata": {},
   "source": [
    "もう一つの方法は乗算符号*を@に置き換える方法です。"
   ]
  },
  {
   "cell_type": "code",
   "execution_count": 70,
   "id": "0c9ecbff",
   "metadata": {},
   "outputs": [
    {
     "name": "stdout",
     "output_type": "stream",
     "text": [
      "a @ b:\n",
      " [[-280 -120 -180]\n",
      " [ 180  650  960]\n",
      " [ 380 1260 1080]]\n"
     ]
    }
   ],
   "source": [
    "print(\"a @ b:\\n\", a @ b)"
   ]
  },
  {
   "attachments": {},
   "cell_type": "markdown",
   "id": "c75ed491",
   "metadata": {},
   "source": [
    "どちらの方法を使用しても計算結果は変わりませんが@を使用する方法を強くお奨めします。<br>\n",
    "例えば以下のような計算をすることを考えます。\n",
    "\n",
    "$$\n",
    "E = A \\cdot B \\cdot C \\cdot D\n",
    "$$\n",
    "\n",
    "Eを求めるプログラムを@を用いた場合は<br>\n",
    "``` python\n",
    "E = A @ B @ C @ D\n",
    "```\n",
    "という書き方になります。一方でnp.dot()を用いた場合は<br>\n",
    "``` python\n",
    "E = np.dot(A, np.dot(B, np.dot(C, D)))\n",
    "```\n",
    "となり、非常に読みづらいプログラムになってしまうため基本的には@を使用しましょう。"
   ]
  },
  {
   "attachments": {},
   "cell_type": "markdown",
   "id": "cec3a0f6",
   "metadata": {},
   "source": [
    "NumPy配列は累乗計算が可能です。ただし結果は乗算の時と同様にアダマール積になることに注意しましょう。"
   ]
  },
  {
   "cell_type": "code",
   "execution_count": 104,
   "id": "16862612",
   "metadata": {},
   "outputs": [
    {
     "name": "stdout",
     "output_type": "stream",
     "text": [
      "a ** 2: [[ 100  400  900]\n",
      " [1600 2500 3600]\n",
      " [4900 6400 8100]]\n"
     ]
    }
   ],
   "source": [
    "print(\"a ** 2:\", a ** 2)"
   ]
  },
  {
   "attachments": {},
   "cell_type": "markdown",
   "id": "9bead879",
   "metadata": {},
   "source": [
    "逆行列を計算する場合は、np.linalg.inv()を使用します。<br>\n",
    "linalgはliner algebra(線形代数)の意味で、行列演算で必要なメソッドが格納されています。"
   ]
  },
  {
   "cell_type": "code",
   "execution_count": 73,
   "id": "33af461f",
   "metadata": {},
   "outputs": [
    {
     "data": {
      "text/plain": [
       "array([[-0.00847458, -0.11864407,  0.07627119],\n",
       "       [ 0.22033898,  0.08474576,  0.01694915],\n",
       "       [-0.18926554,  0.01694915,  0.03672316]])"
      ]
     },
     "execution_count": 73,
     "metadata": {},
     "output_type": "execute_result"
    }
   ],
   "source": [
    "np.linalg.inv(b)"
   ]
  },
  {
   "attachments": {},
   "cell_type": "markdown",
   "id": "7a4ef324",
   "metadata": {},
   "source": [
    "## 6-3. ブロードキャスト\n",
    "\n"
   ]
  },
  {
   "attachments": {},
   "cell_type": "markdown",
   "id": "bcafa561",
   "metadata": {},
   "source": [
    "行列を扱っていると、各要素に対して同じ操作を行いたい場合があります。<br>\n",
    "通常のリストの場合はfor文を使用して各要素に対して操作するはずですが、<br>\n",
    "NumPyの場合はブロードキャストという機能を使用してまとめて操作することができます。"
   ]
  },
  {
   "cell_type": "code",
   "execution_count": 51,
   "id": "7081bc5c",
   "metadata": {},
   "outputs": [
    {
     "data": {
      "text/plain": [
       "array([[0.1, 0.2, 0.3],\n",
       "       [0.4, 0.5, 0.6],\n",
       "       [0.7, 0.8, 0.9]])"
      ]
     },
     "execution_count": 51,
     "metadata": {},
     "output_type": "execute_result"
    }
   ],
   "source": [
    "a * 0.1"
   ]
  },
  {
   "cell_type": "code",
   "execution_count": 46,
   "id": "f84fa8a1",
   "metadata": {},
   "outputs": [
    {
     "data": {
      "text/plain": [
       "array([[11, 22, 33],\n",
       "       [14, 25, 36],\n",
       "       [17, 28, 39]])"
      ]
     },
     "execution_count": 46,
     "metadata": {},
     "output_type": "execute_result"
    }
   ],
   "source": [
    "a + np.array([10, 20, 30])"
   ]
  },
  {
   "cell_type": "code",
   "execution_count": 45,
   "id": "28ce0332",
   "metadata": {},
   "outputs": [
    {
     "data": {
      "text/plain": [
       "array([[101, 102, 103],\n",
       "       [204, 205, 206],\n",
       "       [307, 308, 309]])"
      ]
     },
     "execution_count": 45,
     "metadata": {},
     "output_type": "execute_result"
    }
   ],
   "source": [
    "a + np.array([  [100], \n",
    "                [200],\n",
    "                [300] ])"
   ]
  },
  {
   "cell_type": "code",
   "execution_count": 109,
   "id": "4d6fc4b5",
   "metadata": {},
   "outputs": [
    {
     "name": "stdout",
     "output_type": "stream",
     "text": [
      "[ 0.1  0.2  0.3  0.4  0.5  0.6  0.7  0.8  0.9  1.   1.1  1.2  1.3  1.4\n",
      "  1.5  1.6  1.7  1.8  1.9  2.   2.1  2.2  2.3  2.4  2.5  2.6  2.7  2.8\n",
      "  2.9  3.   3.1  3.2  3.3  3.4  3.5  3.6  3.7  3.8  3.9  4.   4.1  4.2\n",
      "  4.3  4.4  4.5  4.6  4.7  4.8  4.9  5.   5.1  5.2  5.3  5.4  5.5  5.6\n",
      "  5.7  5.8  5.9  6.   6.1  6.2  6.3  6.4  6.5  6.6  6.7  6.8  6.9  7.\n",
      "  7.1  7.2  7.3  7.4  7.5  7.6  7.7  7.8  7.9  8.   8.1  8.2  8.3  8.4\n",
      "  8.5  8.6  8.7  8.8  8.9  9.   9.1  9.2  9.3  9.4  9.5  9.6  9.7  9.8\n",
      "  9.9 10. ]\n"
     ]
    }
   ],
   "source": [
    "x = np.linspace(0.1, 10, 100)\n",
    "print(x)"
   ]
  },
  {
   "attachments": {},
   "cell_type": "markdown",
   "id": "bed40d04",
   "metadata": {},
   "source": [
    "## 6-4. 一括操作"
   ]
  },
  {
   "attachments": {},
   "cell_type": "markdown",
   "id": "e5d2947f",
   "metadata": {},
   "source": [
    "ブロードキャスト以外にもNumPy配列に対して様々な一括操作が提供されています。<br>\n",
    "下記のように数学的な操作のほとんどは一括処理が可能です。"
   ]
  },
  {
   "cell_type": "code",
   "execution_count": 120,
   "id": "94f4d92a",
   "metadata": {},
   "outputs": [
    {
     "data": {
      "image/png": "[encoded data removed]",
      "text/plain": [
       "<Figure size 640x480 with 1 Axes>"
      ]
     },
     "metadata": {},
     "output_type": "display_data"
    }
   ],
   "source": [
    "y = np.sin(x)\n",
    "plt.plot(x, y)\n",
    "plt.xlabel(\"x\")\n",
    "plt.ylabel(\"y\")\n",
    "plt.title(\"y = np.sin(x)\")\n",
    "plt.show()"
   ]
  },
  {
   "cell_type": "code",
   "execution_count": 121,
   "id": "fee1123f",
   "metadata": {},
   "outputs": [
    {
     "data": {
      "image/png": "[encoded data removed]",
      "text/plain": [
       "<Figure size 640x480 with 1 Axes>"
      ]
     },
     "metadata": {},
     "output_type": "display_data"
    }
   ],
   "source": [
    "y = np.exp(x)\n",
    "plt.plot(x, y)\n",
    "plt.xlabel(\"x\")\n",
    "plt.ylabel(\"y\")\n",
    "plt.title(\"y = np.exp(x)\")\n",
    "plt.show()"
   ]
  },
  {
   "cell_type": "code",
   "execution_count": 119,
   "id": "c8367c62",
   "metadata": {},
   "outputs": [
    {
     "data": {
      "image/png": "[encoded data removed]",
      "text/plain": [
       "<Figure size 640x480 with 1 Axes>"
      ]
     },
     "metadata": {},
     "output_type": "display_data"
    }
   ],
   "source": [
    "y = np.log(x)\n",
    "plt.plot(x, y)\n",
    "plt.xlabel(\"x\")\n",
    "plt.ylabel(\"y\")\n",
    "plt.title(\"y = np.log(x)\")\n",
    "plt.show()"
   ]
  },
  {
   "cell_type": "code",
   "execution_count": 117,
   "id": "de40adcb",
   "metadata": {},
   "outputs": [
    {
     "data": {
      "image/png": "[encoded data removed]",
      "text/plain": [
       "<Figure size 640x480 with 1 Axes>"
      ]
     },
     "metadata": {},
     "output_type": "display_data"
    }
   ],
   "source": [
    "y = np.sqrt(x)\n",
    "plt.plot(x, y)\n",
    "plt.xlabel(\"x\")\n",
    "plt.ylabel(\"y\")\n",
    "plt.title(\"y = np.sqrt(x)\")\n",
    "plt.show()"
   ]
  },
  {
   "cell_type": "code",
   "execution_count": 116,
   "id": "69feb842",
   "metadata": {},
   "outputs": [
    {
     "data": {
      "image/png": "[encoded data removed]",
      "text/plain": [
       "<Figure size 640x480 with 1 Axes>"
      ]
     },
     "metadata": {},
     "output_type": "display_data"
    }
   ],
   "source": [
    "y = x ** 2\n",
    "plt.plot(x, y)\n",
    "plt.xlabel(\"x\")\n",
    "plt.ylabel(\"y\")\n",
    "plt.title(\"y = x ** 2\")\n",
    "plt.show()"
   ]
  },
  {
   "cell_type": "code",
   "execution_count": null,
   "id": "0d7270fd",
   "metadata": {},
   "outputs": [],
   "source": []
  }
 ],
 "metadata": {
  "kernelspec": {
   "display_name": "Python 3 (ipykernel)",
   "language": "python",
   "name": "python3"
  },
  "language_info": {
   "codemirror_mode": {
    "name": "ipython",
    "version": 3
   },
   "file_extension": ".py",
   "mimetype": "text/x-python",
   "name": "python",
   "nbconvert_exporter": "python",
   "pygments_lexer": "ipython3",
   "version": "3.10.4"
  }
 },
 "nbformat": 4,
 "nbformat_minor": 5
}

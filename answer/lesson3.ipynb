{
 "cells": [
  {
   "cell_type": "markdown",
   "id": "7b0bc6fd-35a6-4769-9edb-94060a11e636",
   "metadata": {},
   "source": [
    "# lesson3 練習問題解答"
   ]
  },
  {
   "cell_type": "markdown",
   "id": "966fe377-3972-4753-9ef8-7f9a61a53c38",
   "metadata": {},
   "source": [
    "## 1. \n",
    "\n",
    "xに正の数を入れると同じ値を、0以下の値を入れると0を返却する関数を作成してください。\n",
    "\n",
    "$\n",
    "\\begin{equation}\n",
    "  f(x)=\n",
    "  \\begin{cases}\n",
    "    x & \\text{$x>0$} \\\\\n",
    "    0 & \\text{$x=<0$} \\\\\n",
    "  \\end{cases}\n",
    "\\end{equation}\n",
    "$"
   ]
  },
  {
   "cell_type": "code",
   "execution_count": 1,
   "id": "8be7648a-de83-4f62-9cbe-56860bfe459f",
   "metadata": {},
   "outputs": [],
   "source": [
    "# ここで関数を定義してください。\n",
    "def f(x):\n",
    "    if x > 0:\n",
    "        y = x\n",
    "    else:\n",
    "        y = 0\n",
    "    return y"
   ]
  },
  {
   "cell_type": "code",
   "execution_count": 2,
   "id": "b19792a2-c9d6-43d9-b674-2ffc19ce9b09",
   "metadata": {},
   "outputs": [
    {
     "name": "stdout",
     "output_type": "stream",
     "text": [
      "y1 10\n",
      "y2 0\n"
     ]
    }
   ],
   "source": [
    "# ここで関数を使用してください。\n",
    "x1 = 10\n",
    "x2 = -3\n",
    "y1 = f(x1)\n",
    "y2 = f(x2)\n",
    "print(\"y1\", y1)\n",
    "print(\"y2\", y2)"
   ]
  },
  {
   "cell_type": "markdown",
   "id": "a9bddffd-da66-4b6c-9cb6-e0a6afe3d665",
   "metadata": {},
   "source": [
    "## 2.\n",
    "以下のような文字列のリストがあります。\n",
    "\n",
    "``` python\n",
    "input_food_list = [\"tomato\", \"apple\", \"beef\", \"lemon\", \"grape\", \"carrot\", \"squash\", \"pork\"]\n",
    "```\n",
    "\n",
    "全ての要素を大文字に変換した以下のリストを得るための変換関数を作成してください。\n",
    "\n",
    "``` python\n",
    "upper_food_list = ['TOMATO', 'APPLE', 'BEEF', 'LEMON', 'GRAPE', 'CARROT', 'SQUASH', 'PORK']\n",
    "```"
   ]
  },
  {
   "cell_type": "code",
   "execution_count": 5,
   "id": "474d100e-d4c9-4ef7-b57a-8950acc0af52",
   "metadata": {
    "tags": []
   },
   "outputs": [],
   "source": [
    "# 関数をここに定義してください。\n",
    "def make_upper(input_food_list):\n",
    "    upper_list = []                      # 大文字変換後の文字列格納用リストを作成\n",
    "    for food in input_food_list:         # 入力リストの要素数分繰り返し\n",
    "        upper_list.append(food.upper())  # 要素(food)を大文字化しupper_listに格納\n",
    "    return upper_list"
   ]
  },
  {
   "cell_type": "code",
   "execution_count": null,
   "id": "67f69196-4364-4db1-aee2-0e50088304f9",
   "metadata": {
    "tags": []
   },
   "outputs": [],
   "source": [
    "# ここで関数を使用してください。\n",
    "food_list = [\"tomato\", \"apple\", \"beef\", \"lemon\", \"grape\", \"carrot\", \"squash\", \"pork\"]\n",
    "\n",
    "upper_food_list = make_upper(food_list)\n",
    "print(upper_food_list)"
   ]
  },
  {
   "cell_type": "markdown",
   "id": "30b9f928-99ed-4239-b9be-ba9dd880c13f",
   "metadata": {
    "tags": []
   },
   "source": [
    "## 3.\n",
    "\n",
    "まず、BACKLOGに上がっているファイルを下記プログラムでダウンロードします。<br>\n",
    "ファイルの保存先は開いているファイルのあるディレクトリ内のdata/backlogの下にsample.logという名前で保存されています。"
   ]
  },
  {
   "cell_type": "code",
   "execution_count": 15,
   "id": "7a2a0ae6-896b-4c2b-a745-c667159ad49f",
   "metadata": {
    "tags": []
   },
   "outputs": [],
   "source": [
    "import sys\n",
    "import os\n",
    "sys.path.append(os.pardir)\n",
    "from lib.backlog import Backlog\n",
    "\n",
    "ORG = os.environ[\"BACKLOG_ORG\"]\n",
    "API_KEY = os.environ[\"BACKLOG_API_KEY\"]\n",
    "PJ_ID = os.environ[\"PROJECT_ID\"]\n",
    "backlog = Backlog(organization=ORG, api_key=API_KEY, project_id=PJ_ID)\n",
    "backlog.get_file(target_dir=\"GNSS\",save_dir=\"./data/backlog\", meta={\"id\":33712451,\"name\":\"sample.log\"})"
   ]
  },
  {
   "cell_type": "markdown",
   "id": "d471ae64-5103-4ba6-9817-f2d360a0810f",
   "metadata": {},
   "source": [
    "下記を実現するプログラムを作成してください。\n",
    "- 3-1. ファイルを読み込み画面に表示してください。\n",
    "- 3-2. ファイルを一行ずつ格納したリストを作成してください。\n",
    "- 3-3. 先頭が\"$GPHDT\"で開始する行のうち、10行分を格納したリストを作成してください。\n",
    "- 3-4. 3-3.で作成したリストをファイルに保存してください。場所は任意です。ただし、改行をきちんと入れてください。"
   ]
  },
  {
   "cell_type": "code",
   "execution_count": null,
   "id": "a936f17d-2231-49dd-945b-b7a61154385c",
   "metadata": {},
   "outputs": [],
   "source": [
    "# 3-1.のプログラムを記述してください。\n",
    "with open(\"./data/backlog/sample.log\",\"r\") as f: # 読み込み先のパスは\"./data/backlog/sample.logで読み込みモード\"r\"でopen\n",
    "    data = f.read()\n",
    "    \n",
    "print(data)"
   ]
  },
  {
   "cell_type": "code",
   "execution_count": null,
   "id": "9404e117-d075-40f4-9d38-dad4b895da06",
   "metadata": {},
   "outputs": [],
   "source": [
    "# 3-2.のプログラムを記述してください。\n",
    "row_list = data.split(\"\\n\")[:-1] # 改行コード\"\\n\"で分割したリストを作成(末尾は空文字のため削除)\n",
    "print(row_list)"
   ]
  },
  {
   "cell_type": "code",
   "execution_count": null,
   "id": "bc4965f5-c3b4-41a1-bd9b-28a1bec5bec7",
   "metadata": {},
   "outputs": [],
   "source": [
    "# 3-3.のプログラムを記述してください。\n",
    "select_row_list = []                    # 条件に合致する行を格納するためのリストを作成\n",
    "\n",
    "for row in row_list:                    # row_listの要素分繰り返し\n",
    "    if row[:6] == \"$GPHDT\":             # 要素の先頭6文字が\"$GPHDT\"の時\n",
    "        select_row_list.append(row)     # select_row_listに追加\n",
    "\n",
    "select_row_list = select_row_list[:10]  # select_row_listの先頭10行分をselect_row_listに再代入\n",
    "print(select_row_list)\n",
    "\n",
    "# 別解(breakは説明していない。)\n",
    "# for row in row_list:\n",
    "#     if row[:6] == \"$GPHDT\":\n",
    "#         select_row_list.append(row)\n",
    "#     if len(select_row_list) == 10:\n",
    "#         break\n",
    "# print(select_row_list)"
   ]
  },
  {
   "cell_type": "code",
   "execution_count": 12,
   "id": "3ceb9fff-a400-4894-86db-a659161664a8",
   "metadata": {},
   "outputs": [],
   "source": [
    "# 3-4.のプログラムを記述してください。\n",
    "with open(\"./test.log\",\"w\") as f:\n",
    "    f.write(\"\\n\".join(select_row_list))"
   ]
  }
 ],
 "metadata": {
  "kernelspec": {
   "display_name": "Python 3 (ipykernel)",
   "language": "python",
   "name": "python3"
  },
  "language_info": {
   "codemirror_mode": {
    "name": "ipython",
    "version": 3
   },
   "file_extension": ".py",
   "mimetype": "text/x-python",
   "name": "python",
   "nbconvert_exporter": "python",
   "pygments_lexer": "ipython3",
   "version": "3.10.4"
  }
 },
 "nbformat": 4,
 "nbformat_minor": 5
}
